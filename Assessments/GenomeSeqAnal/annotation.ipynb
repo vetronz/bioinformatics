{
 "cells": [
  {
   "cell_type": "code",
   "execution_count": 1,
   "metadata": {},
   "outputs": [],
   "source": [
    "import os\n",
    "import sys"
   ]
  },
  {
   "cell_type": "code",
   "execution_count": 2,
   "metadata": {},
   "outputs": [
    {
     "data": {
      "text/plain": [
       "'3.7.0 (default, Jun 28 2018, 13:15:42) \\n[GCC 7.2.0]'"
      ]
     },
     "execution_count": 2,
     "metadata": {},
     "output_type": "execute_result"
    }
   ],
   "source": [
    "sys.version"
   ]
  },
  {
   "cell_type": "code",
   "execution_count": 3,
   "metadata": {},
   "outputs": [
    {
     "data": {
      "text/plain": [
       "['fungal.fa.masked.uniprot_sprot',\n",
       " 'fungal_18.fa',\n",
       " 'fungal_18.fa.cat',\n",
       " 'fungal_18.fa.log',\n",
       " 'fungal_18.fa.masked',\n",
       " 'fungal_18.fa.out',\n",
       " 'fungal_18.fa.tbl',\n",
       " 'Genomics_Assignment_2018.pdf',\n",
       " 'fungal_18.ipynb',\n",
       " '.ipynb_checkpoints',\n",
       " 'fungal.fa.blastn.ena_std_fun',\n",
       " 'fungal.fa.blastn.ena_est_fun',\n",
       " 'fungal.fa.blastn.refseq_rna_fungi',\n",
       " 'fungal.fa.masked.blastn.ena_std_fun',\n",
       " 'fungalProtein',\n",
       " 'fungal.fa.masked.blastn.ena_est_fun',\n",
       " 'fungal.fa.masked.blastn.refseq_rna_fungi',\n",
       " 'Genome_Assignment_Rep.txt',\n",
       " 'maybeError',\n",
       " 'fungal.fa.refseq_protein_fungi',\n",
       " 'fungal.fa.uniprot_sprot',\n",
       " 'fungal.fa.uniprot_trembl',\n",
       " 'Genome_Assignment_Comms.txt',\n",
       " 'annotation.ipynb',\n",
       " 'fungal.fa.masked.uniprot_trembl']"
      ]
     },
     "execution_count": 3,
     "metadata": {},
     "output_type": "execute_result"
    }
   ],
   "source": [
    "os.listdir()"
   ]
  },
  {
   "cell_type": "code",
   "execution_count": null,
   "metadata": {},
   "outputs": [],
   "source": []
  },
  {
   "cell_type": "code",
   "execution_count": 4,
   "metadata": {},
   "outputs": [
    {
     "name": "stdout",
     "output_type": "stream",
     "text": [
      "accaggattaagtttctttattcagtaagggcaatttacttcgatgctcgtttcttgaccat\n"
     ]
    }
   ],
   "source": [
    "with open('fungal_18.fa') as in_file:\n",
    "    seq_list = in_file.readlines()\n",
    "    seq_name = seq_list.pop(0)  # removes the indexed item from seq_list\n",
    "    \n",
    "\n",
    "    seq = seq_list.pop(0)  # Initialise the sequence\n",
    "    seq = seq.rstrip()  # Remove the newline character\n",
    "    seq = seq.lower()  # Lower case the sequence\n",
    "    print(seq)"
   ]
  },
  {
   "cell_type": "code",
   "execution_count": 5,
   "metadata": {},
   "outputs": [],
   "source": [
    "\n",
    "for line in seq_list:  #  Append the rest of the sequence to seq\n",
    "    seq += line.rstrip().lower()\n"
   ]
  },
  {
   "cell_type": "code",
   "execution_count": 6,
   "metadata": {},
   "outputs": [
    {
     "data": {
      "text/plain": [
       "13836"
      ]
     },
     "execution_count": 6,
     "metadata": {},
     "output_type": "execute_result"
    }
   ],
   "source": [
    "len(seq)"
   ]
  },
  {
   "cell_type": "code",
   "execution_count": null,
   "metadata": {},
   "outputs": [],
   "source": []
  },
  {
   "cell_type": "markdown",
   "metadata": {},
   "source": [
    "# ENA STD Hits"
   ]
  },
  {
   "cell_type": "code",
   "execution_count": 7,
   "metadata": {},
   "outputs": [
    {
     "data": {
      "text/plain": [
       "'aggattggttatacgacgagggtgaagatgccaccaaagctacctacatcgcaaaaatggatgaaatccgcatgttagctggccctattactcagcgccactttgataaggtagaagaagaacgtgcggctgcacaagcaatatctgatgctgaggctgcaaagaaacgagaattagctgaagctgctaaagctgcagcacttgcccaggaggctgcgatgagtaaggatgaagtcatggcggaggctgattcatctaaaaatagtgaagggtttgaagcagatagcaaataagaaactcaatttccataatgatttcatgataggttggagcctgaactgctgaagaggactaaaaatgggggctatgctggtggtatgctggagac'"
      ]
     },
     "execution_count": 7,
     "metadata": {},
     "output_type": "execute_result"
    }
   ],
   "source": [
    "seq[12692:13080]"
   ]
  },
  {
   "cell_type": "code",
   "execution_count": 8,
   "metadata": {},
   "outputs": [
    {
     "data": {
      "text/plain": [
       "'aggctgtcatgcagatttttgtaaagactctcaccgggaagactatcacccttgaggtggagtcttccgataccatcgacaatgtcaagaccaaaatccaagataaagaaggaatacctcctgaccaacaacgcttgattttcgcaggaaagcagcttgaagatggtcgaacactcgccgattacaacatccaaaaagagtctaccttacatcttgttctacgtctgcgaggtggggcaaagaagcgaaagaagaaggtttacacaacccctaaaaagatcaagcacaagcgaaagaagacaaagttagctgtgctcaaatattacaaagtggatggcgacggaaaaattgagcgtcttcgcagagaatgtccttcaacagat'"
      ]
     },
     "execution_count": 8,
     "metadata": {},
     "output_type": "execute_result"
    }
   ],
   "source": [
    "# GT063807 GT063807.1 AGENCOURT_103645546 DH14 3dpi Blumeria gram...  708\n",
    "seq[369:752]"
   ]
  },
  {
   "cell_type": "code",
   "execution_count": 9,
   "metadata": {},
   "outputs": [
    {
     "data": {
      "text/plain": [
       "'gcgatggatatcgaagacaagccaaagactcgaaaagtcaagagtcaagttcgtaaaggagatcttcctatatcctctgcaacctctggtcttgatgattcatccaaatcagcttctgccgaacaagaagctgccatgataatggaagataagcttgtgagcgacacagaagaaaagaatgaactcgaagcctatatatatgaaatgaggaataagcttgatgaccaatactctgagtttgcaagcgaagaagaaaaattaaaacttaatgaaagactgactaccactgagg'"
      ]
     },
     "execution_count": 9,
     "metadata": {},
     "output_type": "execute_result"
    }
   ],
   "source": [
    "# FK939826 FK939826.1 DG_860 Blumeria graminis cDNA from mixed ba...  525\n",
    "seq[12354:12646]"
   ]
  },
  {
   "cell_type": "code",
   "execution_count": 10,
   "metadata": {},
   "outputs": [
    {
     "data": {
      "text/plain": [
       "'atgcagatttttgtaaagactctcaccgggaagactatcacccttgaggtggagtcttccgataccatcgacaatgtcaagaccaaaatccaagataaagaaggaatacctcctgaccaacaacgcttgattttcgcaggaaagcagcttgaagatggtcgaacactcgccgattacaacatccaaaaagagtctaccttacatcttgttctacgtctgcgaggtggggcaaagaagcgaaagaagaaggtttacacaacccctaaaaagatcaagcacaagcgaaagaagacaaagttagctgtgctcaaatattacaaagtggatggcgacggaaaaattgagcgtct'"
      ]
     },
     "execution_count": 10,
     "metadata": {},
     "output_type": "execute_result"
    }
   ],
   "source": [
    "# FE534935 FE534935.1 MF56-11_M13F-H01 FL, mycelia grown in Flies...  322 \n",
    "seq[377:727]"
   ]
  },
  {
   "cell_type": "code",
   "execution_count": null,
   "metadata": {},
   "outputs": [],
   "source": []
  },
  {
   "cell_type": "code",
   "execution_count": null,
   "metadata": {},
   "outputs": [],
   "source": []
  },
  {
   "cell_type": "code",
   "execution_count": null,
   "metadata": {},
   "outputs": [],
   "source": []
  },
  {
   "cell_type": "code",
   "execution_count": 14,
   "metadata": {},
   "outputs": [
    {
     "data": {
      "text/plain": [
       "'ttc'"
      ]
     },
     "execution_count": 14,
     "metadata": {},
     "output_type": "execute_result"
    }
   ],
   "source": [
    "seq[10752:10755]"
   ]
  },
  {
   "cell_type": "code",
   "execution_count": 21,
   "metadata": {},
   "outputs": [
    {
     "data": {
      "text/plain": [
       "'ttcaac'"
      ]
     },
     "execution_count": 21,
     "metadata": {},
     "output_type": "execute_result"
    }
   ],
   "source": [
    "seq[10752:10758]"
   ]
  },
  {
   "cell_type": "code",
   "execution_count": 20,
   "metadata": {},
   "outputs": [
    {
     "data": {
      "text/plain": [
       "'tatggtactgcctatttcttcgatcatttttagaaggctatctaccgtagctatgcgggtctc'"
      ]
     },
     "execution_count": 20,
     "metadata": {},
     "output_type": "execute_result"
    }
   ],
   "source": [
    "seq[7337:7400 ]\n"
   ]
  },
  {
   "cell_type": "code",
   "execution_count": null,
   "metadata": {},
   "outputs": [],
   "source": []
  },
  {
   "cell_type": "code",
   "execution_count": null,
   "metadata": {},
   "outputs": [],
   "source": []
  }
 ],
 "metadata": {
  "kernelspec": {
   "display_name": "Python 3",
   "language": "python",
   "name": "python3"
  },
  "language_info": {
   "codemirror_mode": {
    "name": "ipython",
    "version": 3
   },
   "file_extension": ".py",
   "mimetype": "text/x-python",
   "name": "python",
   "nbconvert_exporter": "python",
   "pygments_lexer": "ipython3",
   "version": "3.7.0"
  }
 },
 "nbformat": 4,
 "nbformat_minor": 2
}
