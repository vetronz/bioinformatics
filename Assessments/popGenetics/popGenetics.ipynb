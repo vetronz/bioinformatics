{
 "cells": [
  {
   "cell_type": "code",
   "execution_count": 15,
   "metadata": {},
   "outputs": [
    {
     "name": "stdout",
     "output_type": "stream",
     "text": [
      "Once deleted, variables cannot be recovered. Proceed (y/[n])? y\n"
     ]
    }
   ],
   "source": [
    "%reset\n",
    "import numpy as np\n",
    "import matplotlib.pyplot as plt\n",
    "from random import randrange\n",
    "import seaborn as sns\n",
    "\n",
    "# import matplotlib.pyplot as plt"
   ]
  },
  {
   "cell_type": "code",
   "execution_count": 16,
   "metadata": {},
   "outputs": [],
   "source": [
    "\n",
    "def initial_pop(size, ratio):\n",
    "    allele_1 = int(size*ratio)\n",
    "    allele_2 = int(size-allele_1)\n",
    "    A = list('A')*allele_1\n",
    "    B = list('B')* allele_2\n",
    "    pop = A+B\n",
    "    return pop\n",
    "\n",
    "pop = initial_pop(100,0.5)\n",
    "# pop\n",
    "pop.count('A')\n",
    "\n",
    "pop_range = range(len(pop))\n",
    "generation = range(150)\n",
    "\n",
    "# iters = range(10)\n",
    "# gen = range(2)"
   ]
  },
  {
   "cell_type": "code",
   "execution_count": 17,
   "metadata": {},
   "outputs": [
    {
     "data": {
      "text/plain": [
       "0.5"
      ]
     },
     "execution_count": 17,
     "metadata": {},
     "output_type": "execute_result"
    }
   ],
   "source": [
    "proportion_A = [pop.count('A')/len(pop)]\n",
    "proportion_B = [pop.count('B')/len(pop)]\n",
    "proportion_A == proportion_B\n",
    "\n",
    "proportion_B[-1]"
   ]
  },
  {
   "cell_type": "code",
   "execution_count": 18,
   "metadata": {},
   "outputs": [
    {
     "name": "stdout",
     "output_type": "stream",
     "text": [
      "broken\n"
     ]
    }
   ],
   "source": [
    "\n",
    "if (proportion_A[-1] != 1 and proportion_A[-1] != 0):\n",
    "    for gen in generation:\n",
    "        pop_next = []\n",
    "        for i in pop_range:\n",
    "            random_index = randrange(len(pop))\n",
    "            pop_next.append(pop[random_index])\n",
    "\n",
    "        pop = pop_next\n",
    "        proportion_A.append(pop.count('A')/len(pop))\n",
    "        proportion_B.append(pop.count('B')/len(pop))\n",
    "    else:\n",
    "        print('broken at generation: ' +str(gen))\n",
    "\n",
    "#     break"
   ]
  },
  {
   "cell_type": "code",
   "execution_count": 20,
   "metadata": {},
   "outputs": [
    {
     "data": {
      "text/plain": [
       "[0.5,\n",
       " 0.47,\n",
       " 0.49,\n",
       " 0.51,\n",
       " 0.44,\n",
       " 0.43,\n",
       " 0.38,\n",
       " 0.38,\n",
       " 0.39,\n",
       " 0.44,\n",
       " 0.34,\n",
       " 0.32,\n",
       " 0.39,\n",
       " 0.34,\n",
       " 0.39,\n",
       " 0.37,\n",
       " 0.34,\n",
       " 0.39,\n",
       " 0.41,\n",
       " 0.34,\n",
       " 0.39,\n",
       " 0.39,\n",
       " 0.4,\n",
       " 0.36,\n",
       " 0.35,\n",
       " 0.43,\n",
       " 0.45,\n",
       " 0.39,\n",
       " 0.46,\n",
       " 0.44,\n",
       " 0.43,\n",
       " 0.42,\n",
       " 0.54,\n",
       " 0.45,\n",
       " 0.38,\n",
       " 0.44,\n",
       " 0.45,\n",
       " 0.4,\n",
       " 0.38,\n",
       " 0.33,\n",
       " 0.3,\n",
       " 0.26,\n",
       " 0.26,\n",
       " 0.22,\n",
       " 0.18,\n",
       " 0.16,\n",
       " 0.16,\n",
       " 0.17,\n",
       " 0.15,\n",
       " 0.23,\n",
       " 0.23,\n",
       " 0.18,\n",
       " 0.19,\n",
       " 0.16,\n",
       " 0.12,\n",
       " 0.08,\n",
       " 0.04,\n",
       " 0.01,\n",
       " 0.02,\n",
       " 0.02,\n",
       " 0.02,\n",
       " 0.04,\n",
       " 0.03,\n",
       " 0.02,\n",
       " 0.04,\n",
       " 0.05,\n",
       " 0.07,\n",
       " 0.11,\n",
       " 0.11,\n",
       " 0.1,\n",
       " 0.13,\n",
       " 0.11,\n",
       " 0.14,\n",
       " 0.12,\n",
       " 0.11,\n",
       " 0.12,\n",
       " 0.16,\n",
       " 0.13,\n",
       " 0.13,\n",
       " 0.15,\n",
       " 0.2,\n",
       " 0.18,\n",
       " 0.21,\n",
       " 0.14,\n",
       " 0.11,\n",
       " 0.08,\n",
       " 0.1,\n",
       " 0.14,\n",
       " 0.14,\n",
       " 0.19,\n",
       " 0.15,\n",
       " 0.09,\n",
       " 0.05,\n",
       " 0.04,\n",
       " 0.03,\n",
       " 0.05,\n",
       " 0.07,\n",
       " 0.09,\n",
       " 0.08,\n",
       " 0.03,\n",
       " 0.02,\n",
       " 0.01,\n",
       " 0.01,\n",
       " 0.0,\n",
       " 0.0,\n",
       " 0.0,\n",
       " 0.0,\n",
       " 0.0,\n",
       " 0.0,\n",
       " 0.0,\n",
       " 0.0,\n",
       " 0.0,\n",
       " 0.0,\n",
       " 0.0,\n",
       " 0.0,\n",
       " 0.0,\n",
       " 0.0,\n",
       " 0.0,\n",
       " 0.0,\n",
       " 0.0,\n",
       " 0.0,\n",
       " 0.0,\n",
       " 0.0,\n",
       " 0.0,\n",
       " 0.0,\n",
       " 0.0,\n",
       " 0.0,\n",
       " 0.0,\n",
       " 0.0,\n",
       " 0.0,\n",
       " 0.0,\n",
       " 0.0,\n",
       " 0.0,\n",
       " 0.0,\n",
       " 0.0,\n",
       " 0.0,\n",
       " 0.0,\n",
       " 0.0,\n",
       " 0.0,\n",
       " 0.0,\n",
       " 0.0,\n",
       " 0.0,\n",
       " 0.0,\n",
       " 0.0,\n",
       " 0.0,\n",
       " 0.0,\n",
       " 0.0,\n",
       " 0.0,\n",
       " 0.0,\n",
       " 0.0,\n",
       " 0.0]"
      ]
     },
     "execution_count": 20,
     "metadata": {},
     "output_type": "execute_result"
    }
   ],
   "source": [
    "proportion_A"
   ]
  },
  {
   "cell_type": "code",
   "execution_count": 19,
   "metadata": {},
   "outputs": [
    {
     "data": {
      "text/plain": [
       "151"
      ]
     },
     "execution_count": 19,
     "metadata": {},
     "output_type": "execute_result"
    }
   ],
   "source": [
    "len(proportion_A)"
   ]
  },
  {
   "cell_type": "code",
   "execution_count": null,
   "metadata": {},
   "outputs": [],
   "source": []
  },
  {
   "cell_type": "code",
   "execution_count": null,
   "metadata": {},
   "outputs": [],
   "source": []
  },
  {
   "cell_type": "code",
   "execution_count": null,
   "metadata": {},
   "outputs": [],
   "source": []
  },
  {
   "cell_type": "code",
   "execution_count": null,
   "metadata": {},
   "outputs": [],
   "source": []
  },
  {
   "cell_type": "code",
   "execution_count": null,
   "metadata": {},
   "outputs": [],
   "source": []
  },
  {
   "cell_type": "code",
   "execution_count": null,
   "metadata": {
    "scrolled": true
   },
   "outputs": [],
   "source": [
    "# proportion_A\n",
    "# len(pop)"
   ]
  },
  {
   "cell_type": "code",
   "execution_count": null,
   "metadata": {
    "scrolled": true
   },
   "outputs": [],
   "source": [
    "fig = plt.figure()\n",
    "ax = plt.axes()\n",
    "\n",
    "x = np.linspace(0, len(gen_final_range), len(gen_final_range))\n",
    "ax.plot(gen_final_range, proportion_A)\n",
    "ax.plot(gen_final_range, proportion_B)"
   ]
  },
  {
   "cell_type": "code",
   "execution_count": null,
   "metadata": {},
   "outputs": [],
   "source": []
  },
  {
   "cell_type": "code",
   "execution_count": null,
   "metadata": {},
   "outputs": [],
   "source": []
  },
  {
   "cell_type": "code",
   "execution_count": null,
   "metadata": {},
   "outputs": [],
   "source": []
  },
  {
   "cell_type": "code",
   "execution_count": null,
   "metadata": {},
   "outputs": [],
   "source": [
    "proportion_A[-1] == 1 or proportion_A[-1]== 0"
   ]
  },
  {
   "cell_type": "code",
   "execution_count": null,
   "metadata": {},
   "outputs": [],
   "source": [
    "\n",
    "    print('one mre time')"
   ]
  },
  {
   "cell_type": "code",
   "execution_count": null,
   "metadata": {},
   "outputs": [],
   "source": [
    "proportion_A[-1] != 1 or proportion_A[-1] != 0\n",
    "\n",
    "\n",
    "a = 1\n",
    "\n",
    "while True:\n",
    "    a += 1\n",
    "    if a == 10:\n",
    "        break\n",
    "print(a)\n",
    "    \n",
    "    "
   ]
  },
  {
   "cell_type": "code",
   "execution_count": null,
   "metadata": {},
   "outputs": [],
   "source": [
    "proportion_A[-1] == 1 or proportion_A[-1]== 0"
   ]
  },
  {
   "cell_type": "code",
   "execution_count": null,
   "metadata": {},
   "outputs": [],
   "source": []
  },
  {
   "cell_type": "code",
   "execution_count": null,
   "metadata": {},
   "outputs": [],
   "source": []
  },
  {
   "cell_type": "code",
   "execution_count": null,
   "metadata": {},
   "outputs": [],
   "source": []
  }
 ],
 "metadata": {
  "kernelspec": {
   "display_name": "Python 3",
   "language": "python",
   "name": "python3"
  },
  "language_info": {
   "codemirror_mode": {
    "name": "ipython",
    "version": 3
   },
   "file_extension": ".py",
   "mimetype": "text/x-python",
   "name": "python",
   "nbconvert_exporter": "python",
   "pygments_lexer": "ipython3",
   "version": "3.7.0"
  }
 },
 "nbformat": 4,
 "nbformat_minor": 2
}
