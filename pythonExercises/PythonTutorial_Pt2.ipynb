{
 "cells": [
  {
   "cell_type": "markdown",
   "metadata": {},
   "source": [
    "# Python Tutorial - Part 2\n",
    "\n",
    "---\n",
    "\n",
    "# Example Program\n",
    "\n",
    "# Translating a Nucleotide Sequence\n",
    "\n",
    "---\n",
    "\n",
    "A common task in bioinformatics is using a scripting language, such as Python, to also parse the output from an analysis program, such as BLAST, and produce a file of edited data.\n",
    "\n",
    "Scripting languages can be used to rapidly write code to read files, manipulate the text and produce an output.\n",
    "\n",
    "An example might be to read a fasta file of nucleotide sequence and produce the possible amino acid sequence. In other words, translate the sequence.\n",
    "\n",
    "This will demonstrate the use of file handling, control structures, string (list) manipulation and dictionaries.\n",
    "\n",
    "---\n",
    "\n",
    "## Input Files\n",
    "\n",
    "---\n",
    "\n",
    "For the example we will have 2 input files.\n",
    "\n",
    "The fasta sequence:\n",
    "\n",
    "<b>&nbsp;&nbsp;&nbsp;&nbsp;&nbsp;&nbsp;>BF246290<br>\n",
    "&nbsp;&nbsp;&nbsp;&nbsp;&nbsp;&nbsp;ggcgtcgtagtctcctgcagcgtctggggtttccgttgcagtcctcggaaccaggacctc<br>\n",
    "&nbsp;&nbsp;&nbsp;&nbsp;&nbsp;&nbsp;ggcgtggcctagcgagttatggcgacgaaggccgtgtgcgtgctgaagggcgacgg<br>\n",
    "&nbsp;&nbsp;&nbsp;&nbsp;&nbsp;&nbsp;cccagtgcagggctatcatcaattcgagcagaaggaaagtaatggcaccagtgaag<br>\n",
    "&nbsp;&nbsp;&nbsp;&nbsp;&nbsp;&nbsp;…<br>\n",
    "&nbsp;&nbsp;&nbsp;&nbsp;&nbsp;&nbsp;cacagatggtgtgccgatgtgtctatggaacgattctgtgatctcactctcaggagacca<br>\n",
    "&nbsp;&nbsp;&nbsp;&nbsp;&nbsp;&nbsp;tggcatcatgtggccgcacaactgtggtccatgaaaaagcaagatgactgtgggcca<br>\n",
    "&nbsp;&nbsp;&nbsp;&nbsp;&nbsp;&nbsp;ggg</b><br>\n",
    "\n",
    "NOTE: This is not one complete sequence, there are line breaks\n",
    "\n",
    "A file of codon translations:\n",
    "\n",
    "<b>&nbsp;&nbsp;&nbsp;&nbsp;&nbsp;&nbsp;ttt<br>\n",
    "&nbsp;&nbsp;&nbsp;&nbsp;&nbsp;&nbsp;F<br>\n",
    "&nbsp;&nbsp;&nbsp;&nbsp;&nbsp;&nbsp;ttc<br>\n",
    "&nbsp;&nbsp;&nbsp;&nbsp;&nbsp;&nbsp;F<br>\n",
    "&nbsp;&nbsp;&nbsp;&nbsp;&nbsp;&nbsp;tta<br>\n",
    "&nbsp;&nbsp;&nbsp;&nbsp;&nbsp;&nbsp;L<br>\n",
    "&nbsp;&nbsp;&nbsp;&nbsp;&nbsp;&nbsp;ttg<br>\n",
    "&nbsp;&nbsp;&nbsp;&nbsp;&nbsp;&nbsp;L<br>\n",
    "&nbsp;&nbsp;&nbsp;&nbsp;&nbsp;&nbsp;etc</b><br>\n",
    "\n",
    "---\n"
   ]
  },
  {
   "cell_type": "markdown",
   "metadata": {},
   "source": [
    "## Building the Dictionary\n",
    "\n",
    "---\n",
    "\n",
    "The next step is to build the dictionary using the codons file:\n",
    "\n",
    "<b>&nbsp;&nbsp;&nbsp;&nbsp;&nbsp;&nbsp;with open('codons.txt') as in_file:&nbsp;&nbsp;&nbsp;&nbsp;&nbsp;&nbsp;# Open the file<br><br>\n",
    "&nbsp;&nbsp;&nbsp;&nbsp;&nbsp;&nbsp;&nbsp;&nbsp;&nbsp;&nbsp;&nbsp;&nbsp;codons_list = in_file.readlines()&nbsp;&nbsp;&nbsp;&nbsp;&nbsp;&nbsp;# Read the file to a list<br><br>\n",
    "&nbsp;&nbsp;&nbsp;&nbsp;&nbsp;&nbsp;&nbsp;&nbsp;&nbsp;&nbsp;&nbsp;&nbsp;codons = {}&nbsp;&nbsp;&nbsp;&nbsp;&nbsp;&nbsp;# Initialise the dictionary<br><br>\n",
    "&nbsp;&nbsp;&nbsp;&nbsp;&nbsp;&nbsp;&nbsp;&nbsp;&nbsp;&nbsp;&nbsp;&nbsp;for count in range(0, len(codons_list), 2):&nbsp;&nbsp;&nbsp;&nbsp;&nbsp;&nbsp;# Work through the list<br>\n",
    "&nbsp;&nbsp;&nbsp;&nbsp;&nbsp;&nbsp;&nbsp;&nbsp;&nbsp;&nbsp;&nbsp;&nbsp;&nbsp;&nbsp;&nbsp;&nbsp;&nbsp;&nbsp;key = codons_list[count].rstrip()&nbsp;&nbsp;&nbsp;&nbsp;&nbsp;&nbsp;# Get the codon<br>\n",
    "&nbsp;&nbsp;&nbsp;&nbsp;&nbsp;&nbsp;&nbsp;&nbsp;&nbsp;&nbsp;&nbsp;&nbsp;&nbsp;&nbsp;&nbsp;&nbsp;&nbsp;&nbsp;key = key.lower()<br>\n",
    "&nbsp;&nbsp;&nbsp;&nbsp;&nbsp;&nbsp;&nbsp;&nbsp;&nbsp;&nbsp;&nbsp;&nbsp;&nbsp;&nbsp;&nbsp;&nbsp;&nbsp;&nbsp;value = codons_list[count+1].rstrip()&nbsp;&nbsp;&nbsp;&nbsp;&nbsp;&nbsp;# Get the aa, on next line<br>\n",
    "&nbsp;&nbsp;&nbsp;&nbsp;&nbsp;&nbsp;&nbsp;&nbsp;&nbsp;&nbsp;&nbsp;&nbsp;&nbsp;&nbsp;&nbsp;&nbsp;&nbsp;&nbsp;value = value.lower()<br>   \n",
    "&nbsp;&nbsp;&nbsp;&nbsp;&nbsp;&nbsp;&nbsp;&nbsp;&nbsp;&nbsp;&nbsp;&nbsp;&nbsp;&nbsp;&nbsp;&nbsp;&nbsp;&nbsp;codons[key] = value&nbsp;&nbsp;&nbsp;&nbsp;&nbsp;&nbsp;# Add to dictionary</b><br><br>\n",
    "\n",
    "---"
   ]
  },
  {
   "cell_type": "markdown",
   "metadata": {},
   "source": [
    "\n",
    "## Storing the Sequence\n",
    "\n",
    "---\n",
    "\n",
    "The first step is to read the fasta sequence from file into a string:\n",
    "\n",
    "<b>&nbsp;&nbsp;&nbsp;&nbsp;&nbsp;&nbsp;with open('sequence.txt') as in_file:&nbsp;&nbsp;&nbsp;&nbsp;&nbsp;&nbsp;# Open the file<br><br>\n",
    "&nbsp;&nbsp;&nbsp;&nbsp;&nbsp;&nbsp;&nbsp;&nbsp;&nbsp;&nbsp;&nbsp;&nbsp;seq_list = in_file.readlines()&nbsp;&nbsp;&nbsp;&nbsp;&nbsp;&nbsp;# Read the file to a list<br><br>\n",
    "&nbsp;&nbsp;&nbsp;&nbsp;&nbsp;&nbsp;&nbsp;&nbsp;&nbsp;&nbsp;&nbsp;&nbsp;seq_name = seq_list.pop(0)&nbsp;&nbsp;&nbsp;&nbsp;&nbsp;&nbsp;# Remove the sequence name<br><br>\n",
    "&nbsp;&nbsp;&nbsp;&nbsp;&nbsp;&nbsp;&nbsp;&nbsp;&nbsp;&nbsp;&nbsp;&nbsp;seq = seq_list.pop(0)&nbsp;&nbsp;&nbsp;&nbsp;&nbsp;&nbsp;# Initialise the sequence<br><br>\n",
    "&nbsp;&nbsp;&nbsp;&nbsp;&nbsp;&nbsp;&nbsp;&nbsp;&nbsp;&nbsp;&nbsp;&nbsp;seq = seq.rstrip()&nbsp;&nbsp;&nbsp;&nbsp;&nbsp;&nbsp;# Remove the newline character<br><br>\n",
    "&nbsp;&nbsp;&nbsp;&nbsp;&nbsp;&nbsp;&nbsp;&nbsp;&nbsp;&nbsp;&nbsp;&nbsp;seq = seq.lower()&nbsp;&nbsp;&nbsp;&nbsp;&nbsp;&nbsp;# Lower case the sequence<br><br>\n",
    "&nbsp;&nbsp;&nbsp;&nbsp;&nbsp;&nbsp;&nbsp;&nbsp;&nbsp;&nbsp;&nbsp;&nbsp;for line in seq_list:&nbsp;&nbsp;&nbsp;&nbsp;&nbsp;&nbsp;#  Append the rest of the sequence to seq<br>\n",
    "&nbsp;&nbsp;&nbsp;&nbsp;&nbsp;&nbsp;&nbsp;&nbsp;&nbsp;&nbsp;&nbsp;&nbsp;&nbsp;&nbsp;&nbsp;&nbsp;&nbsp;&nbsp;seq += line.rstrip().lower()</b><br>\n",
    "\n",
    "NOTE: Methods can be appended to each other - seq += line.rstrip().lower()\n",
    "\n",
    "---\n"
   ]
  },
  {
   "cell_type": "markdown",
   "metadata": {},
   "source": [
    "\n",
    "## Translating the Sequence\n",
    "\n",
    "---\n",
    "\n",
    "Now we have the sequence and codon translations we create the amino acid sequence:\n",
    "\n",
    "<b>&nbsp;&nbsp;&nbsp;&nbsp;&nbsp;&nbsp;for count in range(0, len(seq), 3):&nbsp;&nbsp;&nbsp;&nbsp;&nbsp;&nbsp;# Work through the list<br>\n",
    "&nbsp;&nbsp;&nbsp;&nbsp;&nbsp;&nbsp;&nbsp;&nbsp;&nbsp;&nbsp;&nbsp;&nbsp;codon = seq[count:count+3]&nbsp;&nbsp;&nbsp;&nbsp;&nbsp;&nbsp;# Get 3 nucleotides<br>\n",
    "&nbsp;&nbsp;&nbsp;&nbsp;&nbsp;&nbsp;&nbsp;&nbsp;&nbsp;&nbsp;&nbsp;&nbsp;aa = codons[codon]&nbsp;&nbsp;&nbsp;&nbsp;&nbsp;&nbsp;# Get the associated aa<br>\n",
    "&nbsp;&nbsp;&nbsp;&nbsp;&nbsp;&nbsp;&nbsp;&nbsp;&nbsp;&nbsp;&nbsp;&nbsp;print (aa, end=\" \")<br><br>\n",
    "&nbsp;&nbsp;&nbsp;&nbsp;&nbsp;&nbsp;&nbsp;&nbsp;&nbsp;&nbsp;&nbsp;&nbsp;# In 2.7 this would be:<br>\n",
    "&nbsp;&nbsp;&nbsp;&nbsp;&nbsp;&nbsp;&nbsp;&nbsp;&nbsp;&nbsp;&nbsp;&nbsp;# print aa,</b><br><br>\n",
    "\n",
    "---"
   ]
  },
  {
   "cell_type": "markdown",
   "metadata": {},
   "source": [
    "\n",
    "\n",
    "## Complete Program\n",
    "\n",
    "---\n",
    "\n",
    "Putting it all together, with a few short cuts:\n",
    "\n",
    "<b>&nbsp;&nbsp;&nbsp;&nbsp;&nbsp;&nbsp;with open('sequence.txt') as in_file:<br>                                 \n",
    "&nbsp;&nbsp;&nbsp;&nbsp;&nbsp;&nbsp;&nbsp;&nbsp;&nbsp;&nbsp;&nbsp;&nbsp;seq_list = in_file.readlines()<br>\n",
    "&nbsp;&nbsp;&nbsp;&nbsp;&nbsp;&nbsp;&nbsp;&nbsp;&nbsp;&nbsp;&nbsp;&nbsp;seq_name = seq_list.pop(0)<br>\n",
    "&nbsp;&nbsp;&nbsp;&nbsp;&nbsp;&nbsp;&nbsp;&nbsp;&nbsp;&nbsp;&nbsp;&nbsp;seq = seq_list.pop(0).rstrip().lower()<br><br>\n",
    "&nbsp;&nbsp;&nbsp;&nbsp;&nbsp;&nbsp;&nbsp;&nbsp;&nbsp;&nbsp;&nbsp;&nbsp;for line in seq_list:<br> \n",
    "&nbsp;&nbsp;&nbsp;&nbsp;&nbsp;&nbsp;&nbsp;&nbsp;&nbsp;&nbsp;&nbsp;&nbsp;&nbsp;&nbsp;&nbsp;&nbsp;&nbsp;&nbsp;seq += line.rstrip().lower()<br><br>     \n",
    "&nbsp;&nbsp;&nbsp;&nbsp;&nbsp;&nbsp;with open('codons.txt') as in_file:<br>     \n",
    "&nbsp;&nbsp;&nbsp;&nbsp;&nbsp;&nbsp;&nbsp;&nbsp;&nbsp;&nbsp;&nbsp;&nbsp;codons_list = in_file.readlines()<br><br>\n",
    "&nbsp;&nbsp;&nbsp;&nbsp;&nbsp;&nbsp;&nbsp;&nbsp;&nbsp;&nbsp;&nbsp;&nbsp;codons = {}  # Initialise the dictionary<br>\n",
    "&nbsp;&nbsp;&nbsp;&nbsp;&nbsp;&nbsp;&nbsp;&nbsp;&nbsp;&nbsp;&nbsp;&nbsp;for count in range(0, len(codons_list), 2):<br>                      &nbsp;&nbsp;&nbsp;&nbsp;&nbsp;&nbsp;&nbsp;&nbsp;&nbsp;&nbsp;&nbsp;&nbsp;&nbsp;&nbsp;&nbsp;&nbsp;&nbsp;&nbsp;codons[codons_list[count].rstrip().lower()] =  codons_list[count+1].rstrip().lower()<br><br>\n",
    "&nbsp;&nbsp;&nbsp;&nbsp;&nbsp;&nbsp;for count in range(0, len(seq), 3):<br> \n",
    "&nbsp;&nbsp;&nbsp;&nbsp;&nbsp;&nbsp;&nbsp;&nbsp;&nbsp;&nbsp;&nbsp;&nbsp;codon = seq[count:count+3]<br>\n",
    "&nbsp;&nbsp;&nbsp;&nbsp;&nbsp;&nbsp;&nbsp;&nbsp;&nbsp;&nbsp;&nbsp;&nbsp;if codon in codons:<br>\n",
    "&nbsp;&nbsp;&nbsp;&nbsp;&nbsp;&nbsp;&nbsp;&nbsp;&nbsp;&nbsp;&nbsp;&nbsp;&nbsp;&nbsp;&nbsp;&nbsp;&nbsp;&nbsp;aa = codons[codon]<br>&nbsp;&nbsp;&nbsp;&nbsp;&nbsp;&nbsp;&nbsp;&nbsp;&nbsp;&nbsp;&nbsp;&nbsp;else:<br>&nbsp;&nbsp;&nbsp;&nbsp;&nbsp;&nbsp;&nbsp;&nbsp;&nbsp;&nbsp;&nbsp;&nbsp;&nbsp;&nbsp;&nbsp;&nbsp;&nbsp;&nbsp;aa = '-'<br>\n",
    "&nbsp;&nbsp;&nbsp;&nbsp;&nbsp;&nbsp;&nbsp;&nbsp;&nbsp;&nbsp;&nbsp;&nbsp;print (aa, end=\" \")</b><br><br>\n",
    "\n",
    "---"
   ]
  },
  {
   "cell_type": "markdown",
   "metadata": {},
   "source": [
    "## Exercise 9\n",
    "\n",
    "---\n",
    "\n",
    "Write a program to test the sequence translation code. Modify the code so that it translates the sequence in 3 reading frames and prints them to a file. The sequences should be in fasta format with the frame number in the description line.\n",
    "\n",
    "The fasta file (<b>sequence.txt</b>) and codons file (<b>codons.txt</b>) needed to test the script can be downloaded from the <a href=\"http://teaching.bc.ic.ac.uk/msc/ipython-files/exercises.html\">Exercise Answers page</a>.\n",
    "\n",
    "(Answers to all exercises are available <a href=\"http://teaching.bc.ic.ac.uk/msc/ipython-files/exercises.html\">here</a>.)\n",
    "\n",
    "---"
   ]
  },
  {
   "cell_type": "code",
   "execution_count": 1,
   "metadata": {},
   "outputs": [
    {
     "name": "stdout",
     "output_type": "stream",
     "text": [
      "atggatttagagaaaaattatccgactcctcggaccagcaggacaggacatggaggagtg\n"
     ]
    }
   ],
   "source": [
    "# we go through above process in detail\n",
    "# process sequence list\n",
    "with open('sequence.txt') as in_file:\n",
    "    seq_list = in_file.readlines()\n",
    "    seq_name = seq_list.pop(0)  # removes the indexed item from seq_list\n",
    "    \n",
    "\n",
    "    seq = seq_list.pop(0)  # Initialise the sequence\n",
    "    seq = seq.rstrip()  # Remove the newline character\n",
    "    seq = seq.lower()  # Lower case the sequence\n",
    "    print(seq)\n",
    "    "
   ]
  },
  {
   "cell_type": "code",
   "execution_count": 2,
   "metadata": {},
   "outputs": [
    {
     "name": "stdout",
     "output_type": "stream",
     "text": [
      "['aatcagcttgggggggtttttgtgaatggacggccactcccggatgtagtccgccagagg\\n', 'atagtggaacttgctcatcaaggtgtcaggccctgcgacatctccaggcagcttcgggtc\\n', 'agccatggttgtgtcagcaaaattcttggcaggtattatgagacaggaagcatcaagcct\\n', 'ggggtaattggaggatccaaaccaaaggtcgccacacccaaagtggtggaaaaaatcgct\\n', 'gagtataaacgccaaaatcccaccatgtttgcctgggagatcaggggccggctgctggca\\n', 'gagcgggtgtgtgacaatgacaccgtgcctagcgtcagttccatcaacaggatcatccgg\\n', 'acaaaagtacagcagccacccaaccaaccagtcccagcttccagtcacagcatagtgtcc\\n', 'actggctccgtgacgcaggtgtcctcggtgagcacggattcggccggctcgtcgtactcc\\n', 'atcagcggcatcctgggcatcacgtcccccagcgccgacaccaacaagcgcaagagagac\\n', 'gaaggtattcaggagtctccggtgccgaacggctactcgcttccgggcagagacttcctc\\n', 'cggaagcagatgcggggagacttgttcacacagcagcagctggaggtgctggaccgcgtg\\n', 'tttgagaggcagcactactcagacatcttcaccaccacagagcccatcaagcccgagcag\\n', 'accacagagtattcagccatggcctcgctggctggtgggctggacgacatgaaggccaat\\n', 'ctggccagccccacccctgctgacatcgggagcagtgtgccaggcccgcagtcctacccc\\n', 'attgtgacaggccgtgacttggcgagcacgaccctccccgggtaccctccacacgtcccc\\n', 'cccgctggacagggcagctactcagcaccgacgctgacagggatggtgcctgggagtgag\\n', 'ttttccgggagtccctacagccaccctcagtattcctcgtacaacgactcctggaggttc\\n', 'cccaacccggggctgcttggctccccctactattatagcgctgccgcccgaggagccgcc\\n', 'ccacctgcagccgccactgcctatgaccgtcactg\\n']\n"
     ]
    }
   ],
   "source": [
    "print(seq_list)"
   ]
  },
  {
   "cell_type": "code",
   "execution_count": 3,
   "metadata": {},
   "outputs": [],
   "source": [
    "for line in seq_list:  #  Append the rest of the sequence to seq\n",
    "    seq += line.rstrip().lower()\n",
    "        "
   ]
  },
  {
   "cell_type": "code",
   "execution_count": 4,
   "metadata": {},
   "outputs": [
    {
     "data": {
      "text/plain": [
       "'atggatttagagaaaaattatccgactcctcggaccagcaggacaggacatggaggagtgaatcagcttgggggggtttttgtgaatggacggccactcccggatgtagtccgccagaggatagtggaacttgctcatcaaggtgtcaggccctgcgacatctccaggcagcttcgggtcagccatggttgtgtcagcaaaattcttggcaggtattatgagacaggaagcatcaagcctggggtaattggaggatccaaaccaaaggtcgccacacccaaagtggtggaaaaaatcgctgagtataaacgccaaaatcccaccatgtttgcctgggagatcaggggccggctgctggcagagcgggtgtgtgacaatgacaccgtgcctagcgtcagttccatcaacaggatcatccggacaaaagtacagcagccacccaaccaaccagtcccagcttccagtcacagcatagtgtccactggctccgtgacgcaggtgtcctcggtgagcacggattcggccggctcgtcgtactccatcagcggcatcctgggcatcacgtcccccagcgccgacaccaacaagcgcaagagagacgaaggtattcaggagtctccggtgccgaacggctactcgcttccgggcagagacttcctccggaagcagatgcggggagacttgttcacacagcagcagctggaggtgctggaccgcgtgtttgagaggcagcactactcagacatcttcaccaccacagagcccatcaagcccgagcagaccacagagtattcagccatggcctcgctggctggtgggctggacgacatgaaggccaatctggccagccccacccctgctgacatcgggagcagtgtgccaggcccgcagtcctaccccattgtgacaggccgtgacttggcgagcacgaccctccccgggtaccctccacacgtcccccccgctggacagggcagctactcagcaccgacgctgacagggatggtgcctgggagtgagttttccgggagtccctacagccaccctcagtattcctcgtacaacgactcctggaggttccccaacccggggctgcttggctccccctactattatagcgctgccgcccgaggagccgccccacctgcagccgccactgcctatgaccgtcactg'"
      ]
     },
     "execution_count": 4,
     "metadata": {},
     "output_type": "execute_result"
    }
   ],
   "source": [
    "seq"
   ]
  },
  {
   "cell_type": "code",
   "execution_count": 5,
   "metadata": {},
   "outputs": [],
   "source": [
    "# codon read"
   ]
  },
  {
   "cell_type": "code",
   "execution_count": 6,
   "metadata": {},
   "outputs": [],
   "source": [
    "# read in codon file into dictionary\n",
    "with open('codons.txt') as codons_file:\n",
    "    codons_list = codons_file.readlines()"
   ]
  },
  {
   "cell_type": "code",
   "execution_count": 7,
   "metadata": {},
   "outputs": [],
   "source": [
    "codons = {}  # Initialise the dictionary\n",
    "for count in range(0, len(codons_list), 2):  # Work through the list\n",
    "    key = codons_list[count].rstrip()   # Get the codon\n",
    "    key = key.lower()\n",
    "    value = codons_list[count+1].rstrip()  # Get the aa, on next line\n",
    "    value = value.lower()\n",
    "    codons[key] = value  # Add to dictionary"
   ]
  },
  {
   "cell_type": "code",
   "execution_count": 8,
   "metadata": {},
   "outputs": [
    {
     "data": {
      "text/plain": [
       "'w'"
      ]
     },
     "execution_count": 8,
     "metadata": {},
     "output_type": "execute_result"
    }
   ],
   "source": [
    "codons['tgg']"
   ]
  },
  {
   "cell_type": "code",
   "execution_count": null,
   "metadata": {},
   "outputs": [],
   "source": []
  },
  {
   "cell_type": "code",
   "execution_count": 9,
   "metadata": {},
   "outputs": [],
   "source": [
    "\n",
    "out_file = open(\"translated_seqs.fasta\", \"w\")\n",
    "for frame in range(0, 3):\n",
    "    out_file.write(\"> Frame \" + str(frame) + \"\\n\")\n",
    "\n",
    "    for count in range(frame, len(seq), 3):  # Work through the list\n",
    "        codon = seq[count:count+3]   # Get 3 nucleotides\n",
    "        if codon in codons:\n",
    "            aa = codons[codon]   # Get the associated aa\n",
    "        else:\n",
    "            aa = '-'\n",
    "        out_file.write(aa)\n",
    "\n",
    "    out_file.write(\"\\n\") # Sequence is finished so print newline for next sequence\n",
    "\n",
    "out_file.close()\n"
   ]
  },
  {
   "cell_type": "markdown",
   "metadata": {},
   "source": [
    "---"
   ]
  },
  {
   "cell_type": "markdown",
   "metadata": {
    "collapsed": true
   },
   "source": [
    "\n",
    "\n",
    "\n",
    "\n",
    "# Modules\n",
    "\n",
    "---\n",
    "\n",
    "Modules, or libraries, are common to most programming languages, including Perl, C++ and Java.\n",
    "\n",
    "Modules provide a set of code to provide particular functions that can be included in your own code. They are essentially programs with functions that can be called from your own program.\n",
    "\n",
    "As expected Python provides a large library of modules, including Biopython and PyCogent, and are imported with the \"import\" command.\n",
    "\n",
    "The most commonly used is probably the sys module which contains system-specific functionality. This is required for functions that are often included by default in other languages.\n",
    "\n",
    "---\n",
    "\n",
    "# Command Line Arguments\n",
    "\n",
    "---\n",
    "\n",
    "Often when writing a Python script you want to include the option to read values in to the script (command line arguments).\n",
    "\n",
    "In many languages this is a built in function but with Python you need to import the <b>sys</b> module.\n",
    "\n",
    "<b>&nbsp;&nbsp;&nbsp;&nbsp;&nbsp;&nbsp;import sys</b><br>\n",
    "\n",
    "Arguments can then be included when you run the script. For example, if the script is called test.py:\n",
    "\n",
    "<b>&nbsp;&nbsp;&nbsp;&nbsp;&nbsp;&nbsp;python test.py arg1 arg2 arg3</b><br>\n",
    "\n",
    "To read them in to the script the <b>sys.argv</b> function is used:\n",
    "\n",
    "<b>&nbsp;&nbsp;&nbsp;&nbsp;&nbsp;&nbsp;import sys<br><br>\n",
    "&nbsp;&nbsp;&nbsp;&nbsp;&nbsp;&nbsp;a1 = sys.argv[1]<br>\n",
    "&nbsp;&nbsp;&nbsp;&nbsp;&nbsp;&nbsp;a2 = sys.argv[2]<br>\n",
    "&nbsp;&nbsp;&nbsp;&nbsp;&nbsp;&nbsp;a3 = sys.argv[3]</b><br>\n",
    "\n",
    "Now the variable a1 has the value of arg1 etc.\n",
    "\n",
    "It is possible to avoid having to write sys each time the function is called by explicitly importing that function.\n",
    "\n",
    "<b>&nbsp;&nbsp;&nbsp;&nbsp;&nbsp;&nbsp;from sys import argv</b><br>\n",
    "\n",
    "Or to import all functions:\n",
    "\n",
    "<b>&nbsp;&nbsp;&nbsp;&nbsp;&nbsp;&nbsp;from sys import *</b><br>\n",
    "\n",
    "These options work for all modules and using either of the above the rest of the code is now simply:\n",
    "\n",
    "<b>&nbsp;&nbsp;&nbsp;&nbsp;&nbsp;&nbsp;import sysa1 = argv[1]<br>\n",
    "&nbsp;&nbsp;&nbsp;&nbsp;&nbsp;&nbsp;a2 = argv[2]<br>\n",
    "&nbsp;&nbsp;&nbsp;&nbsp;&nbsp;&nbsp;a3 = argv[3]</b><br>\n",
    "\n",
    "---\n",
    "\n",
    "## Exercise 10\n",
    "\n",
    "---\n",
    "\n",
    "Write a script that reads two numbers as command line arguments, adds them together and prints the result.\n",
    " \n",
    "(Answers to all exercises are available <a href=\"http://teaching.bc.ic.ac.uk/msc/ipython-files/exercises.html\">here</a>.)\n",
    "\n",
    "---\n",
    "\n",
    "\n",
    "# String Methods\n",
    "\n",
    "---\n",
    "\n",
    "Strings contain numerous built in methods enabling you to manipulate and interrogate them. Examples include:\n",
    "\n",
    "## String Searches\n",
    "\n",
    "---\n",
    "\n",
    "<b>startswith(string)</b> – This will return true if the string starts with the the argument string, for example:\n"
   ]
  },
  {
   "cell_type": "code",
   "execution_count": 10,
   "metadata": {},
   "outputs": [
    {
     "name": "stdout",
     "output_type": "stream",
     "text": [
      "Yes, the protein starts with methionine\n"
     ]
    }
   ],
   "source": [
    "\n",
    "protein = 'MEFTIKRDYFITQLNDT' \n",
    "\n",
    "# Does the protein start with methionine\n",
    "if protein.startswith('M'): \n",
    "    print ('Yes, the protein starts with methionine')\n",
    "           \n",
    "# Will print “Yes, the protein starts with methionine”\n"
   ]
  },
  {
   "cell_type": "markdown",
   "metadata": {},
   "source": [
    "\n",
    "A substring can also be searched for within a string: \n",
    "    "
   ]
  },
  {
   "cell_type": "code",
   "execution_count": 11,
   "metadata": {},
   "outputs": [
    {
     "name": "stdout",
     "output_type": "stream",
     "text": [
      "Yes, it contains the pattern DYF\n"
     ]
    }
   ],
   "source": [
    "\n",
    "protein = 'MEFTIKRDYFITQLNDT'\n",
    "\n",
    "# Does the protein contain DYF\n",
    "if 'DYF' in protein: \n",
    "    print ('Yes, it contains the pattern DYF')\n"
   ]
  },
  {
   "cell_type": "markdown",
   "metadata": {},
   "source": [
    "\n",
    "---\n",
    "\n",
    "## Splitting Strings\n",
    "\n",
    "---\n",
    "\n",
    "Strings have an inbuilt split method that splits the string based on a delimiter and returns the split items in a list:\n",
    "\n",
    "<b>&nbsp;&nbsp;&nbsp;&nbsp;&nbsp;&nbsp;str.split([delim[, maxsplit]])<br><br>\n",
    "\n",
    "If no arguments are provided the string wil be split on whitespace:\n",
    "\n",
    "&nbsp;&nbsp;&nbsp;&nbsp;&nbsp;&nbsp;' 1  2   3  '.split()<br>        \n",
    "&nbsp;&nbsp;&nbsp;&nbsp;&nbsp;&nbsp;returns ['1', '2', '3']</b><br><br>\n",
    "\n",
    "With delimiter:\n",
    "\n",
    "<b>&nbsp;&nbsp;&nbsp;&nbsp;&nbsp;&nbsp;'1XX2XX3'.split('XX')<br><br>\n",
    "&nbsp;&nbsp;&nbsp;&nbsp;&nbsp;&nbsp;returns ['1', '2', '3']</b><br><br>\n"
   ]
  },
  {
   "cell_type": "code",
   "execution_count": 12,
   "metadata": {},
   "outputs": [
    {
     "name": "stdout",
     "output_type": "stream",
     "text": [
      "['1', '2', '3']\n"
     ]
    }
   ],
   "source": [
    "\n",
    "test_string =  '1 2 3'\n",
    "\n",
    "split_list = test_string.split()\n",
    "\n",
    "print (split_list)\n"
   ]
  },
  {
   "cell_type": "markdown",
   "metadata": {},
   "source": [
    "\n",
    "Alternatively a delimiter can be used:\n"
   ]
  },
  {
   "cell_type": "code",
   "execution_count": 13,
   "metadata": {},
   "outputs": [
    {
     "name": "stdout",
     "output_type": "stream",
     "text": [
      "['1', '2', '3']\n"
     ]
    }
   ],
   "source": [
    "\n",
    "test_string =  '1XX2XX3'   \n",
    "\n",
    "split_list = test_string.split('XX')\n",
    "\n",
    "print (split_list)\n"
   ]
  },
  {
   "cell_type": "markdown",
   "metadata": {},
   "source": [
    "\n",
    "If the optional <b>maxsplit</b> argument is provided it set the maximum number of splits in the string:\n"
   ]
  },
  {
   "cell_type": "code",
   "execution_count": 14,
   "metadata": {},
   "outputs": [
    {
     "name": "stdout",
     "output_type": "stream",
     "text": [
      "['1', '2 3 4 5 6']\n"
     ]
    },
    {
     "data": {
      "text/plain": [
       "'2 3 4 5 6'"
      ]
     },
     "execution_count": 14,
     "metadata": {},
     "output_type": "execute_result"
    }
   ],
   "source": [
    "\n",
    "test_string =  '1 2 3 4 5 6'\n",
    "\n",
    "split_list = test_string.split(\" \", 1)\n",
    "\n",
    "print (split_list)\n",
    "split_list[1]\n"
   ]
  },
  {
   "cell_type": "markdown",
   "metadata": {},
   "source": [
    "\n",
    "---\n",
    "\n",
    "## Other Methods\n",
    "\n",
    "---\n",
    "\n",
    "<b>lower() / upper()</b> - Returns a copy of the string converted to lower/upper case.\n",
    "\n",
    "<b>capitalize()</b> - Returns a copy of the string with only its first character capitalized.\n",
    "\n",
    "<b>replace(old, new[, count])</b>  Return a copy of the string with all occurrences of substring old replaced by new. If the optional argument count is given, only the first count occurrences are replaced.\n",
    "\n",
    "<b>replace(old, new[, count])</b> - Returns a copy of the string with all occurrences of substring old replaced by new. If the optional argument count is given, only the first count occurrences are replaced.\n",
    "\n",
    "There are many more.\n"
   ]
  },
  {
   "cell_type": "code",
   "execution_count": 15,
   "metadata": {},
   "outputs": [
    {
     "name": "stdout",
     "output_type": "stream",
     "text": [
      "vlspadktnv\n",
      "ylspadktny\n"
     ]
    }
   ],
   "source": [
    "# Replace valine with tyrosine\n",
    "\n",
    "\n",
    "protein = \"vlspadktnv\"\n",
    "print(protein)\n",
    "\n",
    "new_protein = protein.replace(\"v\", \"y\")\n",
    "\n",
    "print(new_protein)\n"
   ]
  },
  {
   "cell_type": "code",
   "execution_count": 16,
   "metadata": {},
   "outputs": [
    {
     "name": "stdout",
     "output_type": "stream",
     "text": [
      "vlspadktnv\n",
      "vlstycktnv\n"
     ]
    }
   ],
   "source": [
    "# Replace more than one amino acid\n",
    "\n",
    "protein = \"vlspadktnv\"\n",
    "print(protein)\n",
    "\n",
    "new_protein = protein.replace(\"pad\", \"tyc\")\n",
    "\n",
    "print(new_protein)"
   ]
  },
  {
   "cell_type": "code",
   "execution_count": 17,
   "metadata": {},
   "outputs": [
    {
     "name": "stdout",
     "output_type": "stream",
     "text": [
      "Start = 4550 and end = 4636\n",
      "Start = 4698 and end = 4796\n",
      "Start = 4852 and end = 5565\n",
      "Start = 5623 and end = 5715\n",
      "Start = 7647 and end = 7759\n",
      "Start = 7854 and end = 8216\n",
      "Start = 8267 and end = 8660\n",
      "Start = 17433 and end = 17709\n",
      "Start = 17243 and end = 17370\n"
     ]
    }
   ],
   "source": [
    "# WORKED EXAMPLE\n",
    "\n",
    "with open('CAUH01000012.gff') as in_file:\n",
    "    for line in in_file: \n",
    "        if line.startswith('CAUH01000012'):\n",
    "            values = line.split() # splits the line withohut args passed to split => uses white space. This means we can access each element within each line for manipulaiton\n",
    "            if values[2] == 'CDS':\n",
    "                print (\"Start =\", values[3], \"and end =\", values[4])\n"
   ]
  },
  {
   "cell_type": "markdown",
   "metadata": {},
   "source": [
    "There are many more.\n",
    "\n",
    "---\n",
    "\n",
    "## Exercise 11\n",
    "\n",
    "---\n",
    "\n",
    "The file CAUH01000012.gff is a sequence annotation file in GFF format and is available on the <a href=\"http://teaching.bc.ic.ac.uk/msc/ipython-files/exercises.html\">Exercise Answers</a> page.\n",
    "\n",
    "a) Write a script that reads this file and prints out the lines that start with “CAUH01000012“, the ID for the sequence.\n",
    "\n",
    "b) Modify the file to print out the start and end position of the CDS regions.\n",
    "\n",
    "The columns in the GFF file are Sequence ID, Source, Type, Start, End, Score, Strand, Phase and Attributes. The CDS is identified in the third column and start and end in the fourth and fifth columns. The columns are all separated by tabs, which are whitespace.\n",
    "\n",
    "(Answers to all exercises are available <a href=\"http://teaching.bc.ic.ac.uk/msc/ipython-files/exercises.html\">here</a>.)\n",
    "\n",
    "---\n",
    "\n",
    "\n",
    "# Regular Expressions\n",
    "\n",
    "---\n",
    "\n",
    "A regular expression (regex) is a special text string for describing a search pattern. In Python regular expressions are provided by the regular expression (re) module. The re module provides an interface to the regular expression engine, allowing you to compile REs into objects and then perform matches with them. This enables far more complex search patterns to be created than are possible with the built in string methods detailed previously.\n",
    "\n",
    "To compile and use a re:"
   ]
  },
  {
   "cell_type": "code",
   "execution_count": 18,
   "metadata": {},
   "outputs": [
    {
     "name": "stdout",
     "output_type": "stream",
     "text": [
      "No match\n"
     ]
    }
   ],
   "source": [
    "\n",
    "import re\n",
    "\n",
    "p = re.compile(r'\\d')   # Match any digits\n",
    "m = p.match('ONE to fourty five')  # Apply the re\n",
    "if m:\n",
    "    print ('Match found')\n",
    "else:\n",
    "    print ('No match')\n",
    "            "
   ]
  },
  {
   "cell_type": "markdown",
   "metadata": {},
   "source": [
    "\n",
    "Note the ‘r’ as part of the regular expression, it stands for ‘raw string’. The backslash character is used in regular expressions to indicate special forms or to allow special characters to be used without invoking their special meaning. However, this collides with Python’s usage of the same character for the same purpose in string literals; for example “\\b” the word boundary regular expression is the character for a backspace in Python. To avoid this confusion the raw string is used, so ‘r”\\b”’ is a two-character string for a word boundary, whereas “\\b” is a one-character string for a backspace.\n",
    "\n",
    "The “r” isn’t essential for all regular expressions but it should generally be used in all cases to ensure the expression is interpreted correctly.\n",
    "\n",
    "In an RE there are plenty of special characters, and it is these that both give them their power and make them appear very complicated. It's best to build up your use of REs slowly; their creation can be something of an art form.\n",
    "\n",
    "Here are some special RE characters and their meaning\n",
    "\n",
    "    .      # Any single character except a newline\n",
    "    ^      # The beginning of the line or string\n",
    "    $      # The end of the line or string\n",
    "    *      # Zero or more of the last character\n",
    "    +      # One or more of the last character\n",
    "    ?      # Zero or one of the last character\n",
    "\n",
    "Example matches:\n",
    "\n",
    "    t.e       # t followed by anthing followed by e\n",
    "              # This will match the, tre and tle and but not te or tale\n",
    "    ^f        # f at the beginning of a line\n",
    "    ^ftp      # ftp at the beginning of a line\n",
    "    e$        # e at the end of a line \n",
    "tle$      # tle at the end of a line\n",
    "    und*      # un followed by zero or more d characters\n",
    "              # This will match un, und, undd, unddd (etc)\n",
    "    .*        # Any string without a newline. This is because the . matches\n",
    "              # anything except a newline and the * means zero or more of these\n",
    "    ^$        # A line with nothing in it\n",
    "\n",
    "There are even more options. Square brackets are used to match any one of the characters inside them. Inside square brackets a - indicates \"between\" and a ^ at the beginning means \"not\":\n",
    "\n",
    "    [qjk]        # Either q or j or k\n",
    "    [^qjk]       # Neither q nor j nor k\n",
    "    [a-z]        # Anything from a to z inclusive\n",
    "    [^a-z]       # No lower case letters\n",
    "    [a-zA-Z]     # Any letter\n",
    "    [a-z]+       # Any non-zero sequence of lower case letters\n",
    "\n",
    "A vertical bar | represents an \"or\" and parentheses (...) can be used to group things together:\n",
    "\n",
    "    jelly|cream    # Either jelly or cream\n",
    "    (eg|le)gs      # Either eggs or legs\n",
    "    (da)+          # Either da or dada or dadada or...\n",
    "\n",
    "Here are some more special characters:\n",
    "\n",
    "    \\n        # A newline\n",
    "    \\t        # A tab\n",
    "    \\w        # Any alphanumeric (word) character.\n",
    "              # The same as [a-zA-Z0-9_]\n",
    "    \\W        # Any non-word character. The same as [^a-zA-Z0-9_]\n",
    "    \\d        # Any digit. The same as [0-9]\n",
    "    \\D        # Any non-digit. The same as [^0-9]\n",
    "    \\s        # Any whitespace character: space, tab, newline, etc\n",
    "    \\S        # Any non-whitespace character\n",
    "    \\b        # A word boundary, outside [] only\n",
    "    \\B        # No word boundary\n",
    "\n",
    "Clearly characters like |, [, ), \\, / and so on are peculiar cases in regular expressions. If you want to match for one of those then you have to preceed it by a backslash. So:\n",
    "\n",
    "    \\|        # Vertical bar\n",
    "    \\[        # An open square bracket\n",
    "    \\)        # A closing parenthesis\n",
    "    \\*        # An asterisk\n",
    "    \\^        # A carat symbol\n",
    "    \\/        # A slash\n",
    "    \\\\        # A backslash\n",
    "\n",
    "and so on.\n",
    "\n",
    "Some example REs\n",
    "\n",
    "    [01]          # Either \"0\" or \"1\"\n",
    "    \\/0           # A division by zero: \"/0\"\n",
    "    \\/ 0          # A division by zero with a space: \"/ 0\"\n",
    "    \\/\\s0         # A division by zero with a whitespace:\n",
    "                  # \"/ 0\" where the space may be a tab etc.\n",
    "    \\/ *0         # A division by zero with possibly some\n",
    "                  # spaces: \"/0\" or \"/ 0\" or \"/  0\" etc.\n",
    "    \\/\\s*0        # A division by zero with possibly some whitespace.\n",
    "    \\/\\s*0\\.0*    # As the previous one, but with decimal point and maybe\n",
    "                  # some 0s after it. Accepts \"/0.\" and  \"/0.0\" and \"/0.00\"\n",
    "                  # etc and \"/ 0.\" and \"/  0.0\" and \"/   0.00\" etc.\n",
    "\n",
    "\n"
   ]
  },
  {
   "cell_type": "markdown",
   "metadata": {},
   "source": [
    "\n",
    "---\n",
    "\n",
    "## Search and Findall\n",
    "\n",
    "---\n",
    "\n",
    "The <b>match</b> method only checks if the RE matches at the start of a string.\n",
    "\n",
    "The <b>search</b> method matches anywhere within the string.\n"
   ]
  },
  {
   "cell_type": "code",
   "execution_count": 19,
   "metadata": {},
   "outputs": [
    {
     "name": "stdout",
     "output_type": "stream",
     "text": [
      "No match\n",
      "Search found\n"
     ]
    }
   ],
   "source": [
    "\n",
    "import re\n",
    "\n",
    "p = re.compile(r'\\d+')   # Match any digits\n",
    "m = p.match('Try 1 to 45')  # Apply the re\n",
    "\n",
    "if m:\n",
    "    print ('Match found')\n",
    "else:\n",
    "    print ('No match')\n",
    "\n",
    "m = p.search('Try 1 to 45')  # Apply the re\n",
    "   \n",
    "if m:\n",
    "    print ('Search found')\n",
    "    \n",
    "else:\n",
    "    print ('No search found' )\n"
   ]
  },
  {
   "cell_type": "markdown",
   "metadata": {},
   "source": [
    "A biological example of using a regular expression is to search for the presence of a restriction enzyme site in a DNA sequence. For example, to see if the sequence contains the EcoRI site:"
   ]
  },
  {
   "cell_type": "code",
   "execution_count": 20,
   "metadata": {},
   "outputs": [
    {
     "name": "stdout",
     "output_type": "stream",
     "text": [
      "EcoRI restriction site found!\n"
     ]
    }
   ],
   "source": [
    "\n",
    "import re\n",
    "\n",
    "p = re.compile(r\"GAATTC\")  \n",
    "dna = \"ATCGCGAATTCAC\"\n",
    "if p.search(dna):\n",
    "    print(\"EcoRI restriction site found!\")\n",
    "else:\n",
    "    print(\"EcoRI restriction site not found!\")\n",
    "    "
   ]
  },
  {
   "cell_type": "markdown",
   "metadata": {},
   "source": [
    "You don't have to produce a re object and call its methods; the re module also provides top-level functions called match(), search(), sub(), etc. \n",
    "\n",
    "These functions take the same arguments as the corresponding object method, with the RE string added as the first argument, and still return either None or an object instance. "
   ]
  },
  {
   "cell_type": "code",
   "execution_count": 21,
   "metadata": {},
   "outputs": [
    {
     "name": "stdout",
     "output_type": "stream",
     "text": [
      "EcoRI restriction site found!\n"
     ]
    }
   ],
   "source": [
    "\n",
    "import re\n",
    "\n",
    "dna = \"ATCGCGAATTCAC\"\n",
    "if re.search(r\"GAATTC\", dna):\n",
    "    print(\"EcoRI restriction site found!\")\n",
    "else:\n",
    "     print(\"EcoRI restriction site not found!\")\n"
   ]
  },
  {
   "cell_type": "markdown",
   "metadata": {},
   "source": [
    "If a re is to be used more than once the compiled version is probably more efficient but for a single search the module level function may be preferred.\n",
    "\n",
    "The restriction enzyme AvaII matches 2 sites, GGACC and GGTCC, which could be searched using:"
   ]
  },
  {
   "cell_type": "code",
   "execution_count": 22,
   "metadata": {},
   "outputs": [
    {
     "name": "stdout",
     "output_type": "stream",
     "text": [
      "AvaII restriction site not found!\n"
     ]
    }
   ],
   "source": [
    "\n",
    "import re\n",
    "\n",
    "dna = \"ATCGCGAATTCAC\"\n",
    "if re.search(r\"GGACC\", dna) or re.search(r\"GGTCC\", dna):\n",
    "    print(\"AvaII restriction site found!\")\n",
    "else:\n",
    "    print(\"AvaII restriction site not found!\")\n"
   ]
  },
  {
   "cell_type": "markdown",
   "metadata": {},
   "source": [
    "However, this can be improved with a single regular expression:"
   ]
  },
  {
   "cell_type": "code",
   "execution_count": 23,
   "metadata": {},
   "outputs": [
    {
     "name": "stdout",
     "output_type": "stream",
     "text": [
      "AvaII restriction site not found!\n"
     ]
    }
   ],
   "source": [
    "\n",
    "import re\n",
    "\n",
    "dna = \"ATCGCGAATTCAC\"\n",
    "if re.search(r\"GG(A|T)CC\", dna):\n",
    "    print(\"AvaII restriction site found!\")\n",
    "else:\n",
    "    print(\"AvaII restriction site not found!\")\n"
   ]
  },
  {
   "cell_type": "markdown",
   "metadata": {},
   "source": [
    "If there are multiple options they can be grouped in square brackets rather than using individual ‘|’. The BisI restriction enzyme pattern is GCNGC, where N represents any base. This can searched with:"
   ]
  },
  {
   "cell_type": "code",
   "execution_count": 24,
   "metadata": {},
   "outputs": [
    {
     "name": "stdout",
     "output_type": "stream",
     "text": [
      "BisI restriction site found!\n"
     ]
    }
   ],
   "source": [
    "\n",
    "import re\n",
    "\n",
    "dna = \"ATCGCGGCTTCAC\"\n",
    "if re.search(r\"GC[ATGC]GC\", dna):\n",
    "    print(\"BisI restriction site found!\")\n",
    "else:\n",
    "    print(\"BisI restriction site not found!\")\n"
   ]
  },
  {
   "cell_type": "markdown",
   "metadata": {},
   "source": [
    "There are many options for matching characters listed above, for example ‘.’ Matches any character, ‘?’ matches zero or more of the last character etc.\n",
    "\n",
    "When used in combination complex patterns can be created. For example, to match full length eukaryotic mRNA sequences:\n",
    "\n",
    "&nbsp;&nbsp;<b>^ATG[ATGC]{30,1000}A{5,10}$</b>\n",
    "\n",
    "Matches:\n",
    "\n",
    "&nbsp;&nbsp;An ATG start codon at the beginning of the sequence<br>\n",
    "&nbsp;&nbsp;Followed by between 30 and 1000 bases which can be A, T, G or C<br>\n",
    "&nbsp;&nbsp;Finally, a poly-A tail of between 5 and 10 bases at the end of the sequence<br>\n",
    "    \n",
    "The re match object has methods and attributes that can be used to return information about the matching string. The most important ones are: \n",
    "\n",
    "&nbsp;&nbsp;<b>group()</b>&nbsp;&nbsp;Return the string matched by the RE<br>\n",
    "&nbsp;&nbsp;<b>start()</b>&nbsp;&nbsp;Return the starting position of the match<br>\n",
    "&nbsp;&nbsp;<b>end()</b>&nbsp;&nbsp;Return the ending position of the match<br>\n",
    "&nbsp;&nbsp;<b>span()</b>&nbsp;&nbsp;Return a tuple containing the (start, end) positions of the match<br>\t\n",
    "\n",
    "To match specific patterns within a string the group can be used.with search:\n"
   ]
  },
  {
   "cell_type": "code",
   "execution_count": 25,
   "metadata": {},
   "outputs": [
    {
     "name": "stdout",
     "output_type": "stream",
     "text": [
      "GACGTAC\n"
     ]
    }
   ],
   "source": [
    "\n",
    "import re\n",
    "\n",
    "dna = \"ATGACGTACGTACGACTG\"\n",
    "# store the match object in the variable m\n",
    "m = re.search(r\"GA[ATGC]{3}AC\", dna)\n",
    "# print(m)\n",
    "print(m.group())\n"
   ]
  },
  {
   "cell_type": "markdown",
   "metadata": {},
   "source": [
    "If you want to extract more than one group parenthesis are used in the match and referred to in numerical order:"
   ]
  },
  {
   "cell_type": "code",
   "execution_count": null,
   "metadata": {},
   "outputs": [],
   "source": [
    "# GROUPS"
   ]
  },
  {
   "cell_type": "code",
   "execution_count": 2,
   "metadata": {},
   "outputs": [
    {
     "name": "stdout",
     "output_type": "stream",
     "text": [
      "Entire match: GACGTACGTAC\n",
      "First part: CGT\n",
      "Second part: GT\n"
     ]
    }
   ],
   "source": [
    "\n",
    "import re\n",
    "\n",
    "dna = \"ATGACGTACGTACGACTG\"\n",
    "# store the match object in the variable m\n",
    "m = re.search(r\"GA([ATGC]{3})AC([ATGC]{2})AC\", dna)\n",
    "print(\"Entire match: \" + m.group())\n",
    "print(\"First part: \" + m.group(1))\n",
    "print(\"Second part: \" + m.group(2))\n",
    "# there is no group 3 \n",
    "# print(\"Second part: \" + m.group(3))\n"
   ]
  },
  {
   "cell_type": "markdown",
   "metadata": {},
   "source": [
    "The start and end positions can be extracted with the start() and end() functions:"
   ]
  },
  {
   "cell_type": "code",
   "execution_count": null,
   "metadata": {},
   "outputs": [],
   "source": []
  },
  {
   "cell_type": "code",
   "execution_count": 27,
   "metadata": {},
   "outputs": [],
   "source": [
    "# POSITION"
   ]
  },
  {
   "cell_type": "code",
   "execution_count": 32,
   "metadata": {},
   "outputs": [
    {
     "name": "stdout",
     "output_type": "stream",
     "text": [
      "Start position: 2\n",
      "End position: 13\n"
     ]
    }
   ],
   "source": [
    "\n",
    "import re\n",
    "\n",
    "dna = \"ATGACGTACGTACGACTG\"\n",
    "m = re.search(r\"GA([ATGC]{3})AC([ATGC]{2})AC\", dna)\n",
    "print(\"Start position: \" + str(m.start()))\n",
    "print(\"End position: \" + str(m.end()))\n"
   ]
  },
  {
   "cell_type": "markdown",
   "metadata": {},
   "source": [
    "The start and ends of individual groups can also be extracted:"
   ]
  },
  {
   "cell_type": "code",
   "execution_count": 4,
   "metadata": {},
   "outputs": [
    {
     "name": "stdout",
     "output_type": "stream",
     "text": [
      "Start position: 2\n",
      "End position: 13\n",
      "Group one start: 4\n",
      "Group one end: 7\n",
      "Group two start: 9\n",
      "Group two end: 11\n"
     ]
    }
   ],
   "source": [
    "\n",
    "import re\n",
    "\n",
    "dna = \"ATGACGTACGTACGACTG\"\n",
    "m = re.search(r\"GA([ATGC]{3})AC([ATGC]{2})AC\", dna)\n",
    "print(\"Start position: \" + str(m.start()))\n",
    "print(\"End position: \" + str(m.end()))\n",
    "\n",
    "\n",
    "print(\"Group one start: \" + str(m.start(1)))\n",
    "print(\"Group one end: \" + str(m.end(1)))\n",
    "print(\"Group two start: \" + str(m.start(2)))\n",
    "print(\"Group two end: \" + str(m.end(2)))\n"
   ]
  },
  {
   "cell_type": "markdown",
   "metadata": {},
   "source": [
    "The re method findall() returns a list of all the matching strings. To find all runs of A and T in a DNA sequence longer than five bases:"
   ]
  },
  {
   "cell_type": "code",
   "execution_count": 10,
   "metadata": {},
   "outputs": [
    {
     "name": "stdout",
     "output_type": "stream",
     "text": [
      "['ATTATAT', 'AAATTATA']\n"
     ]
    }
   ],
   "source": [
    "\n",
    "import re\n",
    "\n",
    "dna = \"ACTGCATTATATCGTACGAAATTATACGCGCG\"\n",
    "atrun = re.findall(r\"[AT]{4,100}\", dna)\n",
    "\n",
    "print(atrun)\n",
    "\n",
    "# print(m.group())"
   ]
  },
  {
   "cell_type": "markdown",
   "metadata": {},
   "source": [
    "An alternative, which provides greater flexibility, is finditer(). This returns a sequence of match objects which can be accessed in a loop:"
   ]
  },
  {
   "cell_type": "code",
   "execution_count": null,
   "metadata": {
    "collapsed": true
   },
   "outputs": [],
   "source": [
    "\n",
    "import re\n",
    "\n",
    "dna = \"ACTGCATTATATCGTACGAAATTATACGCGCG\"\n",
    "runs = re.finditer(r\"[AT]{3,100}\", dna)\n",
    "for match in runs:\n",
    "    run_start = match.start()\n",
    "    run_end = match.end()\n",
    "    print(\"AT rich region from \" + str(run_start) + \" to \" + str(run_end))\n"
   ]
  },
  {
   "cell_type": "markdown",
   "metadata": {},
   "source": [
    "Regular expressions provide extensive ability to search and manipulate text."
   ]
  },
  {
   "cell_type": "markdown",
   "metadata": {},
   "source": [
    "\n",
    "---\n",
    "\n",
    "## Exercise 12\n",
    "\n",
    "a) Write a script that opens a text file and checks each line for the presence of a particular word. Keep track of the line number and if a word is found print the line number and number of instances of the word.\n",
    "\n",
    "You can use the entamoeba.txt file for this exercise available on the <a href=\"http://teaching.bc.ic.ac.uk/msc/ipython-files/exercises.html\">Exercise Answers</a> page. A suitable word to match may be “and”.\n",
    "\n",
    "b) Modify the script so that word to search for is prompted for when the script runs and is input by the user. You will need to use the input method for this.\n",
    "\n",
    "(Answers to all exercises are available <a href=\"http://teaching.bc.ic.ac.uk/msc/ipython-files/exercises.html\">here</a>.)\n"
   ]
  },
  {
   "cell_type": "markdown",
   "metadata": {},
   "source": [
    "\n",
    "---\n",
    "\n",
    "# Split\n",
    "\n",
    "---\n",
    "\n",
    "Strings can also be split using re patterns as the string delimiter: \n"
   ]
  },
  {
   "cell_type": "code",
   "execution_count": null,
   "metadata": {
    "collapsed": true
   },
   "outputs": [],
   "source": [
    "\n",
    "import re\n",
    "\n",
    "p = re.compile(r'\\d+') # Set any digits to be the delimiter\n",
    "\n",
    "l = p.split('There are 2 numbers and 8 words in this string.')\n",
    "\n",
    "print (l)\n"
   ]
  },
  {
   "cell_type": "markdown",
   "metadata": {},
   "source": [
    "\n",
    "With the maximum split number set:\n",
    "    "
   ]
  },
  {
   "cell_type": "code",
   "execution_count": null,
   "metadata": {
    "collapsed": true
   },
   "outputs": [],
   "source": [
    "\n",
    "import re\n",
    "\n",
    "p = re.compile(r'\\d+') # Set any digits to be the delimiter\n",
    "\n",
    "l = p.split('There are 2 numbers and 8 words in this string.', 1)\n",
    "\n",
    "print (l)\n"
   ]
  },
  {
   "cell_type": "markdown",
   "metadata": {},
   "source": [
    "An example is a consensus DNA sequence that contains ambiguity codes and you want to extract all of the runs of contiguous unambiguous bases. Split can be used to split the DNA string wherever there is a base that isn't A, T, G or C:"
   ]
  },
  {
   "cell_type": "code",
   "execution_count": null,
   "metadata": {
    "collapsed": true
   },
   "outputs": [],
   "source": [
    "\n",
    "import re\n",
    "\n",
    "dna = \"ACTNGCATRGCTACGTYACGATSCGA\"\n",
    "\n",
    "p = re.compile(r\"[^ATGC]\")\n",
    "unambig = p.split(dna)\n",
    "\n",
    "print (unambig)\n"
   ]
  },
  {
   "cell_type": "markdown",
   "metadata": {},
   "source": [
    "The ^ at the start means split on everything except ATG and C.\n",
    "\n",
    "If capturing parentheses are used in the re, then everything is returned in the list, including the ambiguity codes where the split was made:\n",
    "    "
   ]
  },
  {
   "cell_type": "code",
   "execution_count": null,
   "metadata": {
    "collapsed": true
   },
   "outputs": [],
   "source": [
    "\n",
    "import re\n",
    "\n",
    "dna = \"ACTNGCATRGCTACGTYACGATSCGA\"\n",
    "\n",
    "p = re.compile(r\"([^ATGC])\")\n",
    "unambig = p.split( dna)\n",
    "\n",
    "print (unambig)\n"
   ]
  },
  {
   "cell_type": "markdown",
   "metadata": {},
   "source": [
    "\n",
    "Note the module-level function <b>re.split()</b> adds the re to be used as the first argument, but is otherwise the same. \n"
   ]
  },
  {
   "cell_type": "code",
   "execution_count": null,
   "metadata": {
    "collapsed": true
   },
   "outputs": [],
   "source": [
    "\n",
    "import re\n",
    "\n",
    "dna = \"ACTNGCATRGCTACGTYACGATSCGA\"\n",
    "\n",
    "l = re.split(r\"[^ATGC]\", dna)\n",
    "    \n",
    "print (l)\n"
   ]
  },
  {
   "cell_type": "markdown",
   "metadata": {},
   "source": [
    "\n",
    "---\n",
    "\n",
    "## Exercise 13\n",
    "\n",
    "Modify the previous script to take one command line string and split any line that contains that string. Print out each element of the list produced by split on a separate, numbered, line.\n",
    "\n",
    "You can use the entamoeba.txt file for this exercise available on the <a href=\"http://teaching.bc.ic.ac.uk/msc/ipython-files/exercises.html\">Exercise Answers</a> page. \n",
    "\n",
    "(Answers to all exercises are available <a href=\"http://teaching.bc.ic.ac.uk/msc/ipython-files/exercises.html\">here</a>.)\n",
    "\n",
    "---\n",
    "\n",
    "<b>The third part of the Python tutorial is available <a href=\"PythonTutorial_Pt3.ipynb\">here</a>.</b><br><br>\n",
    "\n",
    "\n"
   ]
  },
  {
   "cell_type": "code",
   "execution_count": null,
   "metadata": {
    "collapsed": true
   },
   "outputs": [],
   "source": []
  }
 ],
 "metadata": {
  "anaconda-cloud": {},
  "kernelspec": {
   "display_name": "Python 3",
   "language": "python",
   "name": "python3"
  },
  "language_info": {
   "codemirror_mode": {
    "name": "ipython",
    "version": 3
   },
   "file_extension": ".py",
   "mimetype": "text/x-python",
   "name": "python",
   "nbconvert_exporter": "python",
   "pygments_lexer": "ipython3",
   "version": "3.7.1"
  }
 },
 "nbformat": 4,
 "nbformat_minor": 1
}
