{
 "cells": [
  {
   "cell_type": "code",
   "execution_count": null,
   "metadata": {},
   "outputs": [],
   "source": [
    "# http://teaching.bc.ic.ac.uk/msc/ipython-files/exercises.html"
   ]
  },
  {
   "cell_type": "markdown",
   "metadata": {},
   "source": [
    "# Python Tutorial - Part 1\n",
    "\n",
    "---\n",
    "\n",
    "\n",
    "## Using the Tutorial\n",
    "\n",
    "---\n",
    "\n",
    "The tutorial provides runnable code to demonstrate the concepts being discussed. You should run these and also edit them as that will help with the understanding of the functionality.\n",
    "\n",
    "There are also numerous exercises and these should be completed in a Linux environment, creating a script for each answer. \n",
    "\n",
    "---\n",
    "\n",
    "## Tutorial Exercises\n",
    "\n",
    "---\n",
    "\n",
    "You should complete the tutorial exercises in Linux using a text editor to create Python scripts. The code cells within the Jupyter page are suitable for testing code but using a text editor will help develop your script writing skills.\n",
    "\n",
    "---\n",
    "\n",
    "## A Basic Program\n",
    "\n",
    "Here is a basic Python program that we'll use to get started."
   ]
  },
  {
   "cell_type": "code",
   "execution_count": 1,
   "metadata": {},
   "outputs": [
    {
     "name": "stdout",
     "output_type": "stream",
     "text": [
      "Hello world!\n"
     ]
    }
   ],
   "source": [
    "\n",
    "# Program to do the obvious\n",
    "\n",
    "print (\"Hello world!\")    # Print a message\n"
   ]
  },
  {
   "cell_type": "markdown",
   "metadata": {},
   "source": [
    "<i>Note: In version 2.7 this would be:\n",
    "\n",
    "print \"Hello world!\"</i>"
   ]
  },
  {
   "cell_type": "markdown",
   "metadata": {},
   "source": [
    "Each of the parts will be discussed in turn. \n",
    "\n",
    "---\n",
    "\n",
    "## Comments and statements\n",
    "\n",
    "Comments can be inserted into a program with the # symbol, and anything from the # to the end of the line is ignored . The only way to stretch comments over several lines is to use a # on each line.\n",
    "\n",
    "Everything else is a Python statement. \n",
    "\n",
    "--- \n",
    "\n",
    "## Simple printing \n",
    "\n",
    "The print function outputs some information and in the above case it prints out the literal string \"Hello world\".\n",
    "\n",
    "In Python 3 the print command was updated to a function, which is covered later. For the moment the important part of the change is that the text to be printed is placed within brackets, as shown. In version 2.7 no brackets are used.\n",
    "\n",
    "---\n",
    "\n",
    "## Running the program as a script\n",
    "\n",
    "Type in the example program using a Linux text editor and save it. Gedit is a suitable editor for this.\n",
    "\n",
    "The easiest way to run the program is to just type the following at the prompt: \n",
    "\n",
    "&nbsp;&nbsp;&nbsp;&nbsp;&nbsp;&nbsp;<b>python progname</b>\n",
    "\n",
    "If something goes wrong then you may get error messages, or you may get nothing.\n",
    "\n",
    "When the file is executed Python first compiles it and then executes that compiled version. So after a short pause for compilation the program should run quite quickly.\n",
    "\n",
    "Make sure your program works as a standalone script running in Linux before proceeding. \n",
    "\n",
    "---\n",
    "\n",
    "# Python Operations and Assignment\n",
    "\n",
    "---\n",
    "\n",
    " Python uses all the usual programming arithmetic operators: \n",
    " \n",
    " <b>a = 1 + 2&nbsp;&nbsp;&nbsp;&nbsp;&nbsp;&nbsp;# Add 1 and 2 and store in a<br>\n",
    " a = 3 – 4&nbsp;&nbsp;&nbsp;&nbsp;&nbsp;&nbsp;# Subtract 4 from 3 and store in a<br>\n",
    " a = 5 \\* 6&nbsp;&nbsp;&nbsp;&nbsp;&nbsp;&nbsp;# Multiply 5 and 6<br>\n",
    " a = 16 / 8&nbsp;&nbsp;&nbsp;&nbsp;&nbsp;&nbsp;# Divide 16 by 8 to give 2<br>\n",
    " a = 9 ** 10&nbsp;&nbsp;&nbsp;&nbsp;&nbsp;# Nine to the power of 10<br>\n",
    " a = 5 % 2&nbsp;&nbsp;&nbsp;&nbsp;&nbsp;&nbsp;# Remainder of 5 divided by 2</b>\n",
    "\n",
    "Try each of the opertaors below to test them:\n"
   ]
  },
  {
   "cell_type": "code",
   "execution_count": 2,
   "metadata": {},
   "outputs": [
    {
     "name": "stdout",
     "output_type": "stream",
     "text": [
      "3\n"
     ]
    }
   ],
   "source": [
    "\n",
    "a = 1 + 2\n",
    "\n",
    "print (a)\n"
   ]
  },
  {
   "cell_type": "markdown",
   "metadata": {},
   "source": [
    "To assign values Python includes:\n",
    "\n",
    "<b>a = b&nbsp;&nbsp;&nbsp;&nbsp;&nbsp;&nbsp;&nbsp;# Assign b to a<br>\n",
    "a += b&nbsp;&nbsp;&nbsp;&nbsp;&nbsp;&nbsp;# Add b to a<br>\n",
    "a -= b&nbsp;&nbsp;&nbsp;&nbsp;&nbsp;&nbsp;# Subtract b from a\n",
    "\n",
    "Test the assignment operators below:\n"
   ]
  },
  {
   "cell_type": "code",
   "execution_count": 3,
   "metadata": {},
   "outputs": [
    {
     "name": "stdout",
     "output_type": "stream",
     "text": [
      "5 5\n"
     ]
    }
   ],
   "source": [
    "\n",
    "a = 5\n",
    "b = a\n",
    "print (a, b)\n"
   ]
  },
  {
   "cell_type": "markdown",
   "metadata": {
    "collapsed": true
   },
   "source": [
    "Note that when Python assigns a value with a = b it makes a copy of b and then assigns that to a. Therefore the next time you change b it will not alter a. \n",
    "\n",
    "---\n",
    "\n",
    "# Integers and Floats\n",
    "\n",
    "You need to be careful with arithmetic in Python 2.7 as numbers are automatically assigned the most appropriate type. For example:\n",
    "\n",
    "&nbsp;&nbsp;&nbsp;&nbsp;&nbsp;&nbsp;&nbsp;10.5 will be assigned as a float\n",
    "\n",
    "&nbsp;&nbsp;&nbsp;&nbsp;&nbsp;&nbsp;&nbsp;10 will be assigned as an integer (int)\n",
    "\n",
    "This can cause unexpected problems with division. Try the following:\n",
    "    "
   ]
  },
  {
   "cell_type": "code",
   "execution_count": 4,
   "metadata": {},
   "outputs": [
    {
     "name": "stdout",
     "output_type": "stream",
     "text": [
      "3.5\n"
     ]
    }
   ],
   "source": [
    "\n",
    "x = 7\n",
    "y = 2\n",
    "z = x/y\n",
    "print (z)\n"
   ]
  },
  {
   "cell_type": "markdown",
   "metadata": {},
   "source": [
    "This will print 3.5 as expected as this tutorial is usning Python 3. However, if you use Python 2.7 it will print 3 as it will assume integer division. To obtain the correct result in Python 2.7 one or both of the variables x and y need to be specified as a float. To do this:\n"
   ]
  },
  {
   "cell_type": "code",
   "execution_count": null,
   "metadata": {
    "collapsed": true
   },
   "outputs": [],
   "source": [
    "\n",
    "x = 7\n",
    "y = 2\n",
    "z = float(x)/float(y)\n",
    "print (z)\n",
    "\n",
    "    # or\n",
    "    \n",
    "x = float(7)\n",
    "y = 2\n",
    "z = x/y\n",
    "print (z)\n"
   ]
  },
  {
   "cell_type": "markdown",
   "metadata": {},
   "source": [
    "This is only necessary when using versions of Python pre version 3.\n",
    "\n",
    "---\n"
   ]
  },
  {
   "cell_type": "markdown",
   "metadata": {
    "collapsed": true
   },
   "source": [
    "\n",
    "\n",
    "# Printing Embedded Variables\n",
    "\n",
    "---\n",
    "\n",
    "The previous print version printed out a specified string. It is also possible to print out a variable with the same method:\n",
    "\n",
    "<b>print (variable)</b>\n",
    "\n",
    "Note - for version 2.7: \n",
    "\n",
    "print variable\n"
   ]
  },
  {
   "cell_type": "code",
   "execution_count": null,
   "metadata": {
    "collapsed": true
   },
   "outputs": [],
   "source": [
    "\n",
    "phrase = \"Hello world\"\n",
    "\n",
    "print (phrase)\n"
   ]
  },
  {
   "cell_type": "markdown",
   "metadata": {},
   "source": [
    "Note there are no quotes, otherwise the word \"phrase\" would be printed. It is also possible to print a combination of variables and text:\n",
    "\n",
    "<b>print (\"Hello\", variable)</b>\n"
   ]
  },
  {
   "cell_type": "code",
   "execution_count": null,
   "metadata": {
    "collapsed": true
   },
   "outputs": [],
   "source": [
    "\n",
    "name = \"Anastasia\"\n",
    "\n",
    "print (\"Hello\", name)\n"
   ]
  },
  {
   "cell_type": "markdown",
   "metadata": {},
   "source": [
    "A space will automatically be created between quoted text and variables.\n",
    "\n",
    "This method only works for printing strings and to store a string as a variable a plus sign is required. Test the following code and edit it to print a string of multiple combined quoted text and variables as you did above:\n"
   ]
  },
  {
   "cell_type": "code",
   "execution_count": null,
   "metadata": {
    "collapsed": true
   },
   "outputs": [],
   "source": [
    "\n",
    "name = \"Anastasia\"\n",
    "phrase = \"Hello \" + name\n",
    "\n",
    "print(phrase)\n"
   ]
  },
  {
   "cell_type": "markdown",
   "metadata": {},
   "source": [
    "Also, when constructing a string, if integer or float variables are to be included they need to be cast to a string. This is achieved with the str command:\n"
   ]
  },
  {
   "cell_type": "code",
   "execution_count": null,
   "metadata": {
    "collapsed": true
   },
   "outputs": [],
   "source": [
    "\n",
    "a = 5\n",
    "b = 10\n",
    "c = a * b\n",
    "\n",
    "test_string = str(a) + \" multiplied by \" + str(b) + \" = \" + str(c)\n",
    "\n",
    "print (test_string)\n"
   ]
  },
  {
   "cell_type": "markdown",
   "metadata": {},
   "source": [
    "\n",
    "---\n",
    "\n",
    "## Printing Without a Newline\n",
    "\n",
    "The print command in both versions will automatically add a newline character to the end of the printed string. However, sometimes this is not desirable and can be prevented. In version 3 this is achieved by overriding the function variable for the end of string character, by default a newline, with a single space. At the end of the printed string a comma is followed by <b>end=\" \"</b>:\n"
   ]
  },
  {
   "cell_type": "code",
   "execution_count": null,
   "metadata": {
    "collapsed": true
   },
   "outputs": [],
   "source": [
    "\n",
    "print (\"This line does not end with a newline character. \", end=\" \")\n",
    "\n",
    "print (\"The second print line does ...\")\n",
    "\n",
    "print (\"As does the next ...\")\n"
   ]
  },
  {
   "cell_type": "markdown",
   "metadata": {},
   "source": [
    "\n",
    "---\n",
    "\n",
    "## Exercise 1\n",
    "\n",
    "---\n",
    "\n",
    "Rewrite the Hello world program so that:\n",
    "\n",
    "(a) the string is assigned to a variable before it is printed and<br>\n",
    "(b) this variable is then printed without a newline,<br>\n",
    "(c) the program combines a quoted string and a variable.\n",
    "\n",
    "(Answers to all exercises are available <a href=\"http://teaching.bc.ic.ac.uk/msc/ipython-files/exercises.html\">here</a>.)\n",
    "\n",
    "---\n",
    "\n",
    "\n",
    "# Range Command\n",
    "\n",
    "---\n",
    "\n",
    "Ranges are useful for generating a sequence of numbers as a list and these will be useful in understanding loops (for and while) and conditions (if/else). \n",
    "\n",
    "range(10) returns a list of numbers starting from zero counting up to (but not including) ten in steps of one.\n",
    "\n",
    "range(2, 10) will do the same, only starting from two instead of zero.\n",
    "\n",
    "range(-3, 3) starts from -3 and ends at 2 (not 3) in steps of one.\n",
    "\n",
    "The step size can also be altered. \n",
    "\n",
    "<b>&nbsp;&nbsp;&nbsp;&nbsp;&nbsp;&nbsp;range(0, 10, 2)&nbsp;&nbsp;&nbsp;&nbsp;&nbsp;&nbsp;is&nbsp;&nbsp;&nbsp;&nbsp;&nbsp;&nbsp;[0, 2, 4, 6, 8]<br>\n",
    "&nbsp;&nbsp;&nbsp;&nbsp;&nbsp;&nbsp;range(10, 2, -1)&nbsp;&nbsp;&nbsp;&nbsp;&nbsp;&nbsp;is&nbsp;&nbsp;&nbsp;&nbsp;&nbsp;&nbsp;[10, 9, 8, 7, 6, 5, 4, 3]<br>\n",
    "&nbsp;&nbsp;&nbsp;&nbsp;&nbsp;&nbsp;range(-5, 7, 3)&nbsp;&nbsp;&nbsp;&nbsp;&nbsp;&nbsp;is&nbsp;&nbsp;&nbsp;&nbsp;&nbsp;&nbsp;[-5, -2, 1, 4]<br></b>\n",
    "\n",
    "The third argument to the range function alters the step size. Making the step size negative will result in a list that counts down.\n",
    "\n",
    "---\n",
    "\n",
    "# For Loop\n",
    "\n",
    "---\n",
    "\n",
    "A for loop will iterate over a block of code a certain number of defined times. This may be for each item in a list or a set number of times. For this a range can be used, which can first be assigned to a vraible and then iterated:\n",
    "\n",
    "\n"
   ]
  },
  {
   "cell_type": "markdown",
   "metadata": {},
   "source": [
    "\n",
    "onetoten = range(1,11)\n",
    "for count in onetoten:\n",
    "    print (count)\n",
    "    "
   ]
  },
  {
   "cell_type": "markdown",
   "metadata": {},
   "source": [
    "Or it can be iterated directly:"
   ]
  },
  {
   "cell_type": "code",
   "execution_count": null,
   "metadata": {
    "collapsed": true
   },
   "outputs": [],
   "source": [
    "\n",
    " for count in range(1,11) :\n",
    "        print (count )\n",
    "        "
   ]
  },
  {
   "cell_type": "markdown",
   "metadata": {},
   "source": [
    "Test both versions of the for loop above.\n",
    "\n",
    "Note that the first line of the loop ends in a colon. This and the word <b>for</b> in the line tell the interpreter that this a for loop and the indented block below is the code to be executed repeatedly until the last element in the list is reached. \n",
    "\n",
    "Note that unlike other languages Python uses indentation to define code blocks. Many languages use curly braces, parentheses, etc. In Python the loop ends by checking the indentation level of lines. This is also true for if/else and while loops.\n",
    "\n",
    "---\n",
    "\n",
    "## Exercise 2\n",
    "\n",
    "Create a script using the above 2 versions of the for loop code and test it.\n",
    "\n",
    "Modify the code to calculate the factorial of 5.\n",
    "\n",
    "(Answers to all exercises are available <a href=\"http://teaching.bc.ic.ac.uk/msc/ipython-files/exercises.html\">here</a>.)\n"
   ]
  },
  {
   "cell_type": "markdown",
   "metadata": {
    "collapsed": true
   },
   "source": [
    "---\n",
    "\n",
    "\n",
    "# Conditions\n",
    "\n",
    "The next few structures rely on a test being true or false. In Python any non-zero number and non-empty string is counted as true. The number zero and the empty string are counted as false. \n",
    "\n",
    "---\n",
    "\n",
    "# If/Else\n",
    "\n",
    "---\n",
    "\n",
    "As with other languages Python includes if/else statements. These are of the following form: \n",
    "    "
   ]
  },
  {
   "cell_type": "code",
   "execution_count": 10,
   "metadata": {},
   "outputs": [
    {
     "name": "stdout",
     "output_type": "stream",
     "text": [
      "the number-3is less than 0\n",
      "the number-2is less than 0\n",
      "the number-1is less than 0\n",
      "the number0is less than 0\n",
      "the number1is greater than 0\n",
      "the number2is greater than 0\n",
      "the number3is greater than 0\n"
     ]
    }
   ],
   "source": [
    "for i in range(-3, 4):\n",
    "    #print(i)\n",
    "    if i > 0:\n",
    "        print(\"the number\" + str(i) + \"is greater than 0\")\n",
    "    else:\n",
    "        print(\"the number\" + str(i) + \"is less than 0\")"
   ]
  },
  {
   "cell_type": "markdown",
   "metadata": {},
   "source": [
    "\n",
    "The \"if\" statement tests if \"i\" is greater than 0. If it is then the message \"The number is greater than 0\" is printed and the \"else\" statement is skipped. If the \"if\" statement is false the \"else\" part of the code block is entered and \"The number is zero or less\" is printed.\n",
    "\n",
    "It is also possible to include more alternatives in a conditional statement: \n"
   ]
  },
  {
   "cell_type": "code",
   "execution_count": null,
   "metadata": {
    "collapsed": true
   },
   "outputs": [],
   "source": [
    "\n",
    "for i in range(-3, 4):\n",
    "    if a > 2:\n",
    "        print (\"The number is greater than 2\")\n",
    "    elif a > 0:                 # If above fails, try this\n",
    "        print (\"The number is greater than 0\")\n",
    "    elif < 0:                   # If that fails, try this\n",
    "        print (\"The number is less than 0\")\n",
    "    else:                      # Now, everything has failed\n",
    "        print (\"The number is 0\")\n"
   ]
  },
  {
   "cell_type": "code",
   "execution_count": null,
   "metadata": {
    "collapsed": true
   },
   "outputs": [],
   "source": []
  },
  {
   "cell_type": "markdown",
   "metadata": {},
   "source": [
    "Note the elif for \"else if\".\n",
    "\n",
    "Test the code again with different values for a so each print statement is called.\n",
    "\n",
    "Other possible tests on numbers and strings are:\n",
    "\n",
    "<b>&nbsp;&nbsp;&nbsp;&nbsp;&nbsp;&nbsp;a == b&nbsp;&nbsp;&nbsp;&nbsp;&nbsp;&nbsp;# Is a equal to b? Numerical or string.\n",
    "&nbsp;&nbsp;&nbsp;&nbsp;&nbsp;&nbsp;&nbsp;&nbsp;&nbsp;&nbsp;&nbsp;&nbsp;# Beware: Don't use the single = operator.<br>\n",
    "&nbsp;&nbsp;&nbsp;&nbsp;&nbsp;&nbsp;a != b&nbsp;&nbsp;&nbsp;&nbsp;&nbsp;&nbsp;# Is a unequal to b?</b>\n",
    "\n",
    "You can also use logical and, or and not:\n",
    "\n",
    "<b>&nbsp;&nbsp;&nbsp;&nbsp;&nbsp;&nbsp;a and b&nbsp;&nbsp;&nbsp;&nbsp;&nbsp;&nbsp;# Are a and b true?<br>\n",
    "&nbsp;&nbsp;&nbsp;&nbsp;&nbsp;&nbsp;a or b&nbsp;&nbsp;&nbsp;&nbsp;&nbsp;&nbsp;&nbsp;&nbsp;# Is either a or b true?<br>\n",
    "&nbsp;&nbsp;&nbsp;&nbsp;&nbsp;&nbsp;not a&nbsp;&nbsp;&nbsp;&nbsp;&nbsp;&nbsp;&nbsp;&nbsp;&nbsp;# Is a false</b>\n",
    "\n",
    "The first of these other tests is shown below. Edit the code to test each of the other options and also combinations with elif:\n"
   ]
  },
  {
   "cell_type": "code",
   "execution_count": null,
   "metadata": {
    "collapsed": true
   },
   "outputs": [],
   "source": [
    "\n",
    "a = 10\n",
    "b = 5\n",
    "\n",
    "if a == b:\n",
    "    print (\"a equals b\")\n",
    "else:\n",
    "    print (\"a does not equal b\")\n",
    "    "
   ]
  },
  {
   "cell_type": "markdown",
   "metadata": {
    "collapsed": true
   },
   "source": [
    "\n",
    "---\n",
    "\n",
    "## Exercise 3\n",
    "\n",
    "---\n",
    "\n",
    "Write a script that uses a for loop to iterate over a range from 1 to 20 and prints out the numbers that are exactly divisible by 4 and/or by 5, with an appropriate message (i.e. “16 divisible by 4”). Your script should also print out the other numbers, again with an appropriate message (i.e. “3 not divisible by 4 or 5”).\n",
    "\n",
    "You will find the modulus (%) suitable for this, which yields the remainder from a division (i.e. 5%2 = 1).\n",
    "\n",
    "\n",
    "(Answers to all exercises are available <a href=\"http://teaching.bc.ic.ac.uk/msc/ipython-files/exercises.html\">here</a>.)\n",
    "\n",
    "---"
   ]
  },
  {
   "cell_type": "markdown",
   "metadata": {},
   "source": [
    "# While\n",
    "\n",
    "---\n",
    "\n",
    "The while loop executes a block of code as long as a condition is true. This can be demonstarted with the following code, which increments a number from 0 and prints it <b>while</b> it is less than 10:\n"
   ]
  },
  {
   "cell_type": "code",
   "execution_count": null,
   "metadata": {
    "collapsed": true
   },
   "outputs": [],
   "source": [
    "\n",
    "count = 0\n",
    "while count < 10:   \n",
    "    count += 1\n",
    "    print (count) \n",
    "    "
   ]
  },
  {
   "cell_type": "markdown",
   "metadata": {},
   "source": [
    "\n",
    "The while loop is iterated until count is 10.\n",
    "\n",
    "The while loop version of the for loop if/else example above is:\n"
   ]
  },
  {
   "cell_type": "code",
   "execution_count": null,
   "metadata": {
    "collapsed": true
   },
   "outputs": [],
   "source": [
    "\n",
    "i = -3\n",
    "while i <= 3:\n",
    "    if i > 0:\n",
    "        print (\"The number”, i, “ is greater than 0\")\n",
    "    else:\n",
    "        print (\"The number”, i, “ is zero or less\")\n",
    "        "
   ]
  },
  {
   "cell_type": "markdown",
   "metadata": {},
   "source": [
    "\n",
    "Note that unlike other languages Python uses indentation to define code blocks. Many languages use curly braces, parentheses, etc. In Python the loop ends by checking the indentation level of lines. This is also true for if/else and for loops.\n",
    "\n",
    "---\n",
    "\n",
    "## Exercise 4\n",
    "\n",
    "\n",
    "Write a while loop to calculate the factorial of 5.\n",
    "\n",
    "(Answers to all exercises are available <a href=\"http://teaching.bc.ic.ac.uk/msc/ipython-files/exercises.html\">here</a>.)\n",
    "\n",
    "---\n"
   ]
  },
  {
   "cell_type": "markdown",
   "metadata": {},
   "source": [
    "\n",
    "# Lists\n",
    "\n",
    "---\n",
    "\n",
    "Before looking at the for loop in more detail the Python list needs to be understood.\n",
    "\n",
    "A list (or array) is a list of items (ie numbers and strings). The statements below assign two lists, one a six element list of strings and the second a four element list of numbers:\n",
    "\n",
    "<b>&nbsp;&nbsp;&nbsp;&nbsp;&nbsp;&nbsp;months = ['Jan', 'Feb', 'Mar', 'Apr', 'May', 'Jun']<br>\n",
    "&nbsp;&nbsp;&nbsp;&nbsp;&nbsp;&nbsp;numbers = [1, 2, 3, 4]</b><br>\n",
    "\n",
    "It is possible to mix element types in a list:\n",
    "\n",
    "<b>&nbsp;&nbsp;&nbsp;&nbsp;&nbsp;&nbsp;mixed =  ['Jan', 2, 'Mar', 4, 'May', 'Jun']</b><br>\n",
    "\n",
    "or to include a list as an element:\n",
    "\n",
    "<b>&nbsp;&nbsp;&nbsp;&nbsp;&nbsp;&nbsp;mixed =  ['Jan', 2, 'Mar', 4, 'May', ['Mon', 'Tues', 'Wed'], 'Jun']</b><br>\n",
    "\n",
    "The list is accessed by using indices starting from 0, and square brackets are used to specify the index:\n",
    "\n",
    "<b>&nbsp;&nbsp;&nbsp;&nbsp;&nbsp;&nbsp;mixed[2]&nbsp;&nbsp;&nbsp;&nbsp;&nbsp;&nbsp;#&nbsp;&nbsp;&nbsp;&nbsp;&nbsp;&nbsp;Returns Mar</b><br>\n",
    "\n",
    "Elements of a list are accessed by the index in square brackets.\n",
    "\n",
    "<b>list[2]</b> accesses the element at index 2, as demonstrated below:\n"
   ]
  },
  {
   "cell_type": "code",
   "execution_count": null,
   "metadata": {
    "collapsed": true
   },
   "outputs": [],
   "source": [
    "\n",
    "months = ['Jan', 'Feb', 'Mar', 'Apr', 'May', 'Jun']\n",
    "month = months[2]\n",
    "\n",
    "print (month)\n",
    "\n",
    "# Assigns ‘Mar’ to variable month and prints\n"
   ]
  },
  {
   "cell_type": "markdown",
   "metadata": {},
   "source": [
    "\n",
    "In the same way that elements can be accessed they can also be changed. The following code demonstartes this:\n",
    "    "
   ]
  },
  {
   "cell_type": "code",
   "execution_count": null,
   "metadata": {
    "collapsed": true
   },
   "outputs": [],
   "source": [
    "\n",
    "months = ['Jan', 'Feb', 'Mar', 'Apr', 'May', 'Jun']\n",
    "months[3] = 'Aug'\n",
    "\n",
    "print (months)\n",
    "\n",
    "# Now months is: ['Jan', 'Feb', ‘Mar, 'Aug', 'May', 'Jun']\n"
   ]
  },
  {
   "cell_type": "markdown",
   "metadata": {},
   "source": [
    "\n",
    "The append method adds a single item to the end of the list:\n",
    "\n",
    "<b>&nbsp;&nbsp;&nbsp;&nbsp;&nbsp;&nbsp;months.append(‘Jul’)</b><br>\n",
    "\n",
    "The extend method adds items from another list to the end:\n"
   ]
  },
  {
   "cell_type": "code",
   "execution_count": null,
   "metadata": {
    "collapsed": true
   },
   "outputs": [],
   "source": [
    "\n",
    "months = ['Jan', 'Feb', 'Mar', 'Apr', 'May', 'Jun']\n",
    "months2 = ['Aug', 'Sep', 'Oct']\n",
    "months.extend(months2)\n",
    "\n",
    "print (months)\n"
   ]
  },
  {
   "cell_type": "markdown",
   "metadata": {},
   "source": [
    "\n",
    "Insert inserts an item at a given index, and moves the remaining items to the right - <b>list.insert(index, item)</b>:\n",
    "                                                                                    "
   ]
  },
  {
   "cell_type": "code",
   "execution_count": null,
   "metadata": {
    "collapsed": true
   },
   "outputs": [],
   "source": [
    " \n",
    "months = ['Jan', 'Feb', 'Mar', 'Apr', 'May', 'Jun']\n",
    "months.insert(3, 'Dec')\n",
    "\n",
    "print (months)\n"
   ]
  },
  {
   "cell_type": "markdown",
   "metadata": {},
   "source": [
    "\n",
    "You can also remove items from a list.\n",
    "\n",
    "The <b>del</b> statement can be used to remove an individual item, or to remove all items identified by a slice. A slice identifies a starting and ending index:\n",
    "    "
   ]
  },
  {
   "cell_type": "code",
   "execution_count": 11,
   "metadata": {},
   "outputs": [
    {
     "name": "stdout",
     "output_type": "stream",
     "text": [
      "['Jan', 'Feb', 'Apr', 'May', 'Jun']\n"
     ]
    }
   ],
   "source": [
    "\n",
    "months = ['Jan', 'Feb', 'Mar', 'Apr', 'May', 'Jun']    \n",
    "del months[2]\n",
    "\n",
    "print (months)\n",
    "            "
   ]
  },
  {
   "cell_type": "markdown",
   "metadata": {},
   "source": [
    "\n",
    "The <b>pop</b> method removes an individual item and returns it. With no index specified it removes the last item in the list:\n",
    "\n",
    "<b>&nbsp;&nbsp;&nbsp;&nbsp;&nbsp;&nbsp;month = months.pop()&nbsp;&nbsp;&nbsp;&nbsp;&nbsp;&nbsp;#&nbsp;&nbsp;&nbsp;&nbsp;&nbsp;&nbsp;last item<br>\n",
    "&nbsp;&nbsp;&nbsp;&nbsp;&nbsp;&nbsp;month = months.pop(0)&nbsp;&nbsp;&nbsp;&nbsp;&nbsp;&nbsp;#&nbsp;&nbsp;&nbsp;&nbsp;&nbsp;&nbsp;first item</b><br>\n",
    "\n",
    "The <b>del</b> statement and the <b>pop</b> method do pretty much the same thing, except that pop returns the removed item.\n",
    "\n",
    "The <b>remove</b> method searches for an item, and removes the first matching item from the list:\n",
    "\n",
    "<b>&nbsp;&nbsp;&nbsp;&nbsp;&nbsp;&nbsp;months.remove('Jul')</b><br>\n",
    "\n",
    "The order of the list can be reversed or sorted:\n",
    "\n",
    "<b>&nbsp;&nbsp;&nbsp;&nbsp;&nbsp;&nbsp;months.reverse()<br>\n",
    "&nbsp;&nbsp;&nbsp;&nbsp;&nbsp;&nbsp;months.sort()</b><br>\n",
    "\n",
    "The length of a list can be returned:\n",
    "\n",
    "<b>&nbsp;&nbsp;&nbsp;&nbsp;&nbsp;&nbsp;length = len(months)</b><br>\n",
    "\n",
    "The presence of an item can be checked:\n",
    "\n",
    "<b>&nbsp;&nbsp;&nbsp;&nbsp;&nbsp;&nbsp;if('Jul' not in months):<br>\n",
    "&nbsp;&nbsp;&nbsp;&nbsp;&nbsp;&nbsp;&nbsp;&nbsp;&nbsp;&nbsp;&nbsp;&nbsp;print (\"In list\")<br><br>\n",
    "&nbsp;&nbsp;&nbsp;&nbsp;&nbsp;&nbsp;if('Jul' in months):<br>\n",
    "&nbsp;&nbsp;&nbsp;&nbsp;&nbsp;&nbsp;&nbsp;&nbsp;&nbsp;&nbsp;&nbsp;&nbsp;print (\"Not in list\")</b><br><br>\n",
    "\n",
    "The index position of the first occurrence of an item in a list can be returned:\n",
    "\n",
    "<b>&nbsp;&nbsp;&nbsp;&nbsp;&nbsp;&nbsp;index = months.index('Jul')</b><br>\n",
    "\n",
    "Test the various list options in the coding cell below:\n"
   ]
  },
  {
   "cell_type": "code",
   "execution_count": null,
   "metadata": {
    "collapsed": true,
    "scrolled": true
   },
   "outputs": [],
   "source": []
  },
  {
   "cell_type": "markdown",
   "metadata": {},
   "source": [
    "---\n",
    "\n",
    "# Strings as Lists\n",
    "\n",
    "---\n",
    "\n",
    "A string is essentially a list of characters and can be treated as such, for example in a for loop:\n"
   ]
  },
  {
   "cell_type": "code",
   "execution_count": null,
   "metadata": {
    "collapsed": true
   },
   "outputs": [],
   "source": [
    "\n",
    "for c in \"ATCGGCAATGCCTGGATA\":\n",
    "    print(c)\n"
   ]
  },
  {
   "cell_type": "markdown",
   "metadata": {},
   "source": [
    "\n",
    "will iterate over the nucleotide string and print each character in turn\n",
    "\n",
    "---\n",
    "\n",
    "# List Slices\n",
    "\n",
    "---\n",
    "\n",
    "Slices are used to return part of a list. \n",
    "\n",
    "The slice operator is in the form list[first_index:following_index]. The slice goes from the first_index to the index before the following_index. If the first index is not specified the beginning of the list is assumed. If the following index is not specified the whole rest of the list is assumed. You can use both types of indexing: \t\n",
    "\n",
    "<b>&nbsp;&nbsp;&nbsp;&nbsp;&nbsp;&nbsp;list = ['zero','one','two','three','four','five']<br>\n",
    " \n",
    "&nbsp;&nbsp;&nbsp;&nbsp;&nbsp;&nbsp;list[0:3]  ->  ['zero','one','two']<br>\n",
    "&nbsp;&nbsp;&nbsp;&nbsp;&nbsp;&nbsp;list[-4:-2]  ->  ['two','three']<br>\n",
    "&nbsp;&nbsp;&nbsp;&nbsp;&nbsp;&nbsp;list[-5:6]  ->  ['one','two','three','four','five']<br>\n",
    "&nbsp;&nbsp;&nbsp;&nbsp;&nbsp;&nbsp;list[3:]  ->  ['three','four','five']<br>\n",
    "&nbsp;&nbsp;&nbsp;&nbsp;&nbsp;&nbsp;list[:3]  ->  ['zero','one','two']</b>\n",
    "\n",
    "---\n",
    "\n",
    "# String slices\n",
    "\n",
    "With Python a string is essentially a list of characters and so can be manipulated in the same way as a list. This means that some operators that work on lists can also be used on strings:\n",
    "\n",
    "For example to substring or get string length:\n",
    "\n",
    "<b>&nbsp;&nbsp;&nbsp;&nbsp;&nbsp;&nbsp;# Extract amino acids 3 to 8 from a protein sequence<br>\n",
    "&nbsp;&nbsp;&nbsp;&nbsp;&nbsp;&nbsp;protein = \"MEFTIKRDYFITQLNDTL\"<br>\n",
    "&nbsp;&nbsp;&nbsp;&nbsp;&nbsp;&nbsp;# Note that the third amino acid is index position 2<br>\n",
    "&nbsp;&nbsp;&nbsp;&nbsp;&nbsp;&nbsp;seq = protein[2:8]<br>\n",
    "&nbsp;&nbsp;&nbsp;&nbsp;&nbsp;&nbsp;print (seq, “has length”, len(seq))</b><br>\n",
    "\n",
    "Output:\n",
    "\n",
    "<b>&nbsp;&nbsp;&nbsp;&nbsp;&nbsp;&nbsp;FTIKRD has length 6</b><br>\n",
    "\n",
    "\n",
    "Lists can be reversed with the reverse function but this does not work on strings. In fact Python does not provide a built in string reversal function. However, there is the slice option to reverse a list, and hence a string. To reverse a sequence for example:\n",
    "\t\n",
    "<b>&nbsp;&nbsp;&nbsp;&nbsp;&nbsp;&nbsp;seq = \"ATCGGATT\"<br>\n",
    "&nbsp;&nbsp;&nbsp;&nbsp;&nbsp;&nbsp;seq = s[::-1]<br>\n",
    "&nbsp;&nbsp;&nbsp;&nbsp;&nbsp;&nbsp;print (seq)</b><br>\n",
    "\n",
    "Output:\n",
    "\n",
    "<b>&nbsp;&nbsp;&nbsp;&nbsp;&nbsp;&nbsp;TTAGGCTA</b><br>\n",
    "\n",
    "---\n",
    "\n",
    "# Exercise 5\n",
    "\n",
    "Write a script that creates a list and manipulates it using the method detailed above.\n",
    "After you have implemented each method print the list out to ensure that the list has changed as expected.\n",
    "\n",
    "<b>There is no model answer for this exercise.</b>\n",
    "\n",
    "Write a script that iterates through the following nucleotide sequence and counts the number of cytosine and thymine:\n",
    "\n",
    " ACTCGGCTTAAATGTTATTCGTACCTACGCCTT\n",
    "\n",
    "The individual counts should be printed.\n",
    "\n",
    "(Answers to all exercises are available <a href=\"http://teaching.bc.ic.ac.uk/msc/ipython-files/exercises.html\">here</a>.)\n",
    "\n",
    "\n",
    "---\n",
    "\n",
    "\n",
    "# Printing Lists\n",
    "\n",
    "---\n",
    "\n",
    "As mentioned previously, the range used in for loops is a list. Any list can therefore be used:\n"
   ]
  },
  {
   "cell_type": "code",
   "execution_count": null,
   "metadata": {
    "collapsed": true
   },
   "outputs": [],
   "source": [
    "\n",
    "months = ['Jan', 'Feb', 'Mar', 'Apr', 'May', 'Jun']\n",
    "for month in months:\n",
    "    print (\"The month is:\", month )\n"
   ]
  },
  {
   "cell_type": "markdown",
   "metadata": {},
   "source": [
    "\n",
    "---\n",
    "\n",
    "# Enumerating a List\n",
    "\n",
    "---\n",
    "\n",
    "When looping through a list you may want to know the index of the current item. You could use the <b>list.index(value)</b> syntax, but there is a simpler way, the <b>enumerate()</b> function. This tracks the index of each item as it loops through the list:\n"
   ]
  },
  {
   "cell_type": "code",
   "execution_count": 5,
   "metadata": {},
   "outputs": [
    {
     "name": "stdout",
     "output_type": "stream",
     "text": [
      "Month 0 is: Jan\n",
      "Month 1 is: Feb\n",
      "Month 2 is: Mar\n",
      "Month 3 is: Apr\n",
      "Month 4 is: May\n",
      "Month 5 is: Jun\n"
     ]
    }
   ],
   "source": [
    "#for counter, value in enumerate(some_list):\n",
    "#    print(counter, value)\n",
    "\n",
    "months = ['Jan', 'Feb', 'Mar', 'Apr', 'May', 'Jun']\n",
    "for index, month in enumerate(months):\n",
    "    print (\"Month\", index, \"is:\", month)\n"
   ]
  },
  {
   "cell_type": "code",
   "execution_count": null,
   "metadata": {
    "collapsed": true
   },
   "outputs": [],
   "source": [
    "# how about this for a wee test test test"
   ]
  },
  {
   "cell_type": "code",
   "execution_count": 3,
   "metadata": {},
   "outputs": [
    {
     "name": "stdout",
     "output_type": "stream",
     "text": [
      "0 swan\n",
      "1 steph\n",
      "2 nath\n",
      "3 pete\n",
      "go and get some more friends\n"
     ]
    }
   ],
   "source": [
    "# enumerate friends\n",
    "friends = ['swan', 'steph', 'nath', 'pete']\n",
    "for counter, value in enumerate(friends):\n",
    "    print(counter, value)\n",
    "if counter < 5:\n",
    "    print('go and get some more friends')"
   ]
  },
  {
   "cell_type": "code",
   "execution_count": 6,
   "metadata": {},
   "outputs": [
    {
     "name": "stdout",
     "output_type": "stream",
     "text": [
      "0 swan\n",
      "1 steph\n",
      "2 nath\n",
      "3 pete\n",
      "go and get some more friends\n"
     ]
    }
   ],
   "source": [
    "# enumerate friends\n",
    "friends = ['swan', 'steph', 'nath', 'pete']\n",
    "for counter, value in enumerate(friends):\n",
    "    print(counter, value)\n",
    "if counter < 5:\n",
    "    print('go and get some more friends')"
   ]
  },
  {
   "cell_type": "markdown",
   "metadata": {},
   "source": [
    "\n",
    "---\n",
    "\n",
    "# Example to construct a position weight matrix (PWM)\n",
    "\n",
    "A PWM stores the nucleotide count at each position in a multiple sequence alignment (MSA), for example representing a transcription factor binding motif. \n",
    "\n",
    "An example MSA is:\n",
    "\n",
    "GGTAG\n",
    "GGTAC\n",
    "GATAG\n",
    "GGTCC\n",
    "\n",
    "To build a PWM of these sequences they first need to be stored in a list:\n",
    "\n",
    "seq_list = [‘GGTAG’, ‘GGTAC’, ‘GATAG’, ‘GGTCC’]\n",
    "\n",
    "\n",
    "The code to build the PWM is:\n"
   ]
  },
  {
   "cell_type": "code",
   "execution_count": 17,
   "metadata": {},
   "outputs": [
    {
     "data": {
      "text/plain": [
       "5"
      ]
     },
     "execution_count": 17,
     "metadata": {},
     "output_type": "execute_result"
    }
   ],
   "source": [
    "\n",
    "seq_list = ['GGTAG', 'GGTAC', 'GATAG', 'GGTCC']\n",
    "\n",
    "# The PWM requires 4 lists, one for each nucleotide count. These lists need \n",
    "# to be the same length as the MSA sequences so this value is obtained     # from the first sequence in the list\n",
    "\n",
    "n = len(seq_list[0])\n",
    "n\n",
    "\n"
   ]
  },
  {
   "cell_type": "code",
   "execution_count": 11,
   "metadata": {},
   "outputs": [
    {
     "name": "stdout",
     "output_type": "stream",
     "text": [
      "[0, 1, 0, 3, 0]\n",
      "[0, 0, 0, 1, 2]\n",
      "[4, 3, 0, 0, 2]\n",
      "[0, 0, 4, 0, 0]\n"
     ]
    }
   ],
   "source": [
    "\n",
    "# Next the 4 lists are initialised at the required length\n",
    "\n",
    "A = [0] * n\n",
    "C = [0] * n\n",
    "G = [0] * n\n",
    "T = [0] * n\n",
    "\n",
    "# In the first for loop work through each sequence\n",
    "\n",
    "for dna in seq_list:\n",
    "\n",
    "# In the inner for loop use enumerate to obtain each nucleotide in the sequence and its position\n",
    "\n",
    "    for i, nuc in enumerate(dna): \n",
    "\n",
    "# Check the nucleotide and increment the PWM count at the  # appropriate position\t\n",
    "\n",
    "        base = dna[i]\n",
    "        if base == 'A':\n",
    "            A[i] +=1\n",
    "        elif base == 'C':\n",
    "            C[i] +=1\n",
    "        elif base == 'G':\n",
    "            G[i] +=1  \n",
    "        elif base == 'T':\n",
    "            T[i] +=1\n",
    "\n",
    "print(A)\n",
    "print(C)\n",
    "print(G)\n",
    "print(T)\n",
    "\n"
   ]
  },
  {
   "cell_type": "markdown",
   "metadata": {},
   "source": [
    " ---\n",
    "    \n",
    "# Exercise 6\n",
    "\n",
    "The above PWM code stores the matrix in 4 individual lists. Modify it so that when these lists are initialised they are stored in a single, nested list. The base counts should then be applied to this nested list in the inner for loop.\n",
    "\n",
    "(Answers to all exercises are available <a href=\"http://teaching.bc.ic.ac.uk/msc/ipython-files/exercises.html\">here</a>.)\n",
    "\n",
    "---\n"
   ]
  },
  {
   "cell_type": "markdown",
   "metadata": {},
   "source": [
    "\n",
    "---\n",
    "\n",
    "# Tuples\n",
    "\n",
    "---\n",
    "\n",
    "Tuples are like lists but they can not be modified. Items have to be enclosed by parentheses instead of square brackets to create a tuple instead of a list.\n",
    "\n",
    "In general all that can be done using tuples can be done with lists, but sometimes it is more secure to prevent internal changes:\n",
    "\n",
    "<b>&nbsp;&nbsp;&nbsp;&nbsp;&nbsp;&nbsp;list_test = ['zero','one','two','three','four','five']<br>\n",
    "&nbsp;&nbsp;&nbsp;&nbsp;&nbsp;&nbsp;tuple_test = ('zero','one','two','three','four','five‘)</b><br>\n",
    "\n",
    "---\n",
    "\n",
    "# Dictionaries\n",
    "\n",
    "Dictionaries are the Python version of the hash, or associative array.\n",
    "\n",
    "Dictionaries are like lists but instead of having numbers as their index they can have any value as an index (key) associated with the array element (value).\n",
    "\n",
    "Dictionaries associate a key with a value, an example being associating codons with their amino acids:\n",
    "\n",
    "<b>&nbsp;&nbsp;&nbsp;&nbsp;&nbsp;&nbsp;'ttt' > 'F'<br>\n",
    "&nbsp;&nbsp;&nbsp;&nbsp;&nbsp;&nbsp;'tta' > 'L'<br>\n",
    "&nbsp;&nbsp;&nbsp;&nbsp;&nbsp;&nbsp;etc</b><br>\n",
    "\n",
    "Dictionaries enable this type of data to be stored and handled.\n",
    "\n",
    "A dictionary is created in a similar manner to a list, but with key/value pairs and using curly braces:\n",
    "\n",
    "<b>&nbsp;&nbsp;&nbsp;&nbsp;&nbsp;&nbsp;codons = {‘ttt’:’F’, ‘tta’:’L’, ‘gga’:’G’}&nbsp;&nbsp;&nbsp;&nbsp;&nbsp;&nbsp;#&nbsp;&nbsp;&nbsp;&nbsp;&nbsp;&nbsp;Note curly braces</b><br>\n",
    "\n",
    "Or items can be added directly:\n",
    "\n",
    "<b>&nbsp;&nbsp;&nbsp;&nbsp;&nbsp;&nbsp;codons['aac'] = 'N'&nbsp;&nbsp;&nbsp;&nbsp;&nbsp;&nbsp;#&nbsp;&nbsp;&nbsp;&nbsp;&nbsp;&nbsp;Note square braces</b><br>\n",
    "\n",
    "A key can be searched for:\n",
    "\n",
    "<b>&nbsp;&nbsp;&nbsp;&nbsp;&nbsp;&nbsp;if (‘aac’) in codons:</b><br>\n",
    "\n",
    "All keys or values can be retrieved as a list:\n"
   ]
  },
  {
   "cell_type": "code",
   "execution_count": 16,
   "metadata": {},
   "outputs": [
    {
     "name": "stdout",
     "output_type": "stream",
     "text": [
      "L\n",
      "F\n",
      "G\n"
     ]
    }
   ],
   "source": [
    "\n",
    "codons = {'ttt':'F', 'tta':'L', 'gga':'G'} \n",
    "\n",
    "#pass the incremented ked to dictionary to print all the values\n",
    "\n",
    "keys = codons.keys()\n",
    "for x in keys:\n",
    "    print(codons[x])\n",
    "    # print (x + ': '+ codons[x])\n",
    "    "
   ]
  },
  {
   "cell_type": "markdown",
   "metadata": {},
   "source": [
    "\n",
    "The values in a dictionary can also be retrieved if desired, although it is more usual to require the keys:\n"
   ]
  },
  {
   "cell_type": "markdown",
   "metadata": {},
   "source": [
    "\n",
    "If you need to remove a key:value pair froma  dictionary you can use the <b>del</b> function:\n"
   ]
  },
  {
   "cell_type": "code",
   "execution_count": 37,
   "metadata": {},
   "outputs": [
    {
     "name": "stdout",
     "output_type": "stream",
     "text": [
      "ttt\n",
      "F\n",
      "gga\n",
      "G\n"
     ]
    }
   ],
   "source": [
    "\n",
    "codons = {'ttt':'F', 'tta':'L', 'gga':'G'} \n",
    "\n",
    "del codons['tta']\n",
    "\n",
    "keys = codons.keys()\n",
    "for x in keys:\n",
    "    print (x)\n",
    "    print (codons[x])\n",
    "    "
   ]
  },
  {
   "cell_type": "markdown",
   "metadata": {},
   "source": [
    "\n",
    "---\n",
    "\n",
    "## Exercise 7\n",
    "\n",
    "---\n",
    "\n",
    "a) Write a script in Linux that creates a dictionary for the months of the year. The keys should be the number of the month and the value the actual month. For example:\n",
    "\n",
    "    1 -> January\n",
    "    2 -> February\n",
    "    etc …\n",
    "\n",
    "Test your dictionary with a for loop that iterates over the keys and prints out the key and value.\n",
    "\n",
    "b) Modify your script to prompt the user for a number and print out the month with an appropriate message.\n",
    "\n",
    "(Answers to all exercises are available <a href=\"http://teaching.bc.ic.ac.uk/msc/ipython-files/exercises.html\">here</a>.)\n",
    "\n",
    "---\n",
    "\n",
    "\n",
    "# File Handling\n",
    "\n",
    "---\n",
    "\n",
    "Basic file handling is very straightforward.\n",
    "\n",
    "To write to a file:\n",
    "\n",
    "<b>&nbsp;&nbsp;&nbsp;&nbsp;&nbsp;&nbsp;out_file = open(\"test.txt\",\"w\")&nbsp;&nbsp;&nbsp;&nbsp;&nbsp;&nbsp;&nbsp;&nbsp;&nbsp;&nbsp;&nbsp;&nbsp;# Open a file to write to. If it doesn't exist it will be created<br>\n",
    "&nbsp;&nbsp;&nbsp;&nbsp;&nbsp;&nbsp;out_file.write(\"This Text is going to out file\\nSome more text\\n\")&nbsp;&nbsp;&nbsp;&nbsp;&nbsp;&nbsp;&nbsp;&nbsp;&nbsp;&nbsp;&nbsp;&nbsp;# Write text to the file<br>\n",
    "&nbsp;&nbsp;&nbsp;&nbsp;&nbsp;&nbsp;out_file.close()&nbsp;&nbsp;&nbsp;&nbsp;&nbsp;&nbsp;&nbsp;&nbsp;&nbsp;&nbsp;&nbsp;&nbsp;# Close the file</b><br>\n",
    "\n",
    "\n",
    "To read a file the entire file contents and print them to screen: \n",
    "\n",
    "<b>&nbsp;&nbsp;&nbsp;&nbsp;&nbsp;&nbsp;in_file = open(\"test.txt\",\"r\")&nbsp;&nbsp;&nbsp;&nbsp;&nbsp;&nbsp;# “r” is optional as it is the default<br>\n",
    "&nbsp;&nbsp;&nbsp;&nbsp;&nbsp;&nbsp;text = in_file.read()<br>\n",
    "&nbsp;&nbsp;&nbsp;&nbsp;&nbsp;&nbsp;in_file.close()<br>\n",
    "&nbsp;&nbsp;&nbsp;&nbsp;&nbsp;&nbsp;print (text)</b><br>\n",
    "\n",
    "The file can be read one line at a time by storing it in a list with readlines and iterating over it in a for loop:\n",
    "\n",
    "<b>&nbsp;&nbsp;&nbsp;&nbsp;&nbsp;&nbsp;in_file = open(filename)<br>\n",
    "&nbsp;&nbsp;&nbsp;&nbsp;&nbsp;&nbsp;for line in in_file.readlines():<br>\n",
    "&nbsp;&nbsp;&nbsp;&nbsp;&nbsp;&nbsp;print (line)<br>\n",
    "&nbsp;&nbsp;&nbsp;&nbsp;&nbsp;&nbsp;in_file.close() </b><br>\n",
    "\n",
    "This is the most efficient way to read a file but it does read the entire file into memory so for very large files this could be a problem. If the file being read is very large then a better method is to treat the file as a list so you don't need to use readlines() inside a for loop, you just iterate over the file: \n",
    "\n",
    "<b>&nbsp;&nbsp;&nbsp;&nbsp;&nbsp;&nbsp;in_file = open(filename)<br>\n",
    "&nbsp;&nbsp;&nbsp;&nbsp;&nbsp;&nbsp;for line in in_file:<br>\n",
    "&nbsp;&nbsp;&nbsp;&nbsp;&nbsp;&nbsp;print (line)<br>\n",
    "&nbsp;&nbsp;&nbsp;&nbsp;&nbsp;&nbsp;in_file.close()</b><br>\n",
    "\n",
    "This is less efficient as it requires disc accesses to read the file but only one line is read into memory at a time.\n",
    "\n",
    "Either method will read the file one line a time enabling you to process that line as needed.\n",
    "\n",
    "Another way of working with files is the <b>with</b> statement and it is good practice to use this statement. With the <b>with</b> statement you get better syntax and exceptions handling.\n",
    " \n",
    "It will also automatically close the file so it statement provides a way for ensuring that a clean-up is always used. The syntax is very straightforward:\n",
    "\n",
    "<b>&nbsp;&nbsp;&nbsp;&nbsp;&nbsp;&nbsp;with open(filename) as file:</b><br>\n",
    "\n",
    "You can of course also loop over the file as before: \n",
    "\n",
    "<b>&nbsp;&nbsp;&nbsp;&nbsp;&nbsp;&nbsp;with open(\"newfile.txt\") as in_file:<br>\n",
    "&nbsp;&nbsp;&nbsp;&nbsp;&nbsp;&nbsp;&nbsp;&nbsp;&nbsp;&nbsp;&nbsp;&nbsp;for line in in_file:<br>\n",
    "&nbsp;&nbsp;&nbsp;&nbsp;&nbsp;&nbsp;&nbsp;&nbsp;&nbsp;&nbsp;&nbsp;&nbsp;print (line)</b><br>\n",
    "\n",
    "Note that all of the code related to the open file is indented within the <b> with open</b> code block.\n",
    "\n",
    "There is also no need to close the file, it is done automatically.\n",
    "\n",
    "---\n",
    "\n",
    "# Writing Embedded Variables to a File\n",
    "\n",
    "---\n",
    "\n",
    "When writing text to a file it is constructed as a string, which means any variables need to be appended to quoted text with a plus sign. It also means that non string variables, such as integers, need to be cast as strings - <b>str(int value)</b>:\n",
    "\n",
    "<b>&nbsp;&nbsp;&nbsp;&nbsp;&nbsp;&nbsp;name = \"Dave\"<br>\n",
    "&nbsp;&nbsp;&nbsp;&nbsp;&nbsp;&nbsp;age = 20<br><br>\n",
    "&nbsp;&nbsp;&nbsp;&nbsp;&nbsp;&nbsp;out_file = open(\"test.txt\",\"w\")<br><br>\n",
    "&nbsp;&nbsp;&nbsp;&nbsp;&nbsp;&nbsp;out_file.write(\"Student: Name = \" + name + \" Age = \" + str(age) = \"\\n\")<br><br>\n",
    "&nbsp;&nbsp;&nbsp;&nbsp;&nbsp;&nbsp;out_file.close()</b><br><br>\n",
    "\n",
    "\n",
    "Note that spaces are not automatically added after each quoted string and a newline is not automatically added. If required both need to be included in the write statement. \n"
   ]
  },
  {
   "cell_type": "markdown",
   "metadata": {},
   "source": [
    "\n",
    "---\n",
    "\n",
    "# Strip\n",
    "\n",
    "---\n",
    "\n",
    "Python provides a string method called <b>strip()</b> which will remove whitespace, including newlines, from both ends of a string. It also has variants which can strip one end only called <b>rstrip</b> and <b>lstrip</b> too. The <b>rstrip</b> method can be used to remove newlines:\n",
    "\n",
    "\n",
    "<b>&nbsp;&nbsp;&nbsp;&nbsp;&nbsp;&nbsp;with open(filename) as in_file:<br>\n",
    "&nbsp;&nbsp;&nbsp;&nbsp;&nbsp;&nbsp;&nbsp;&nbsp;&nbsp;&nbsp;&nbsp;&nbsp;for line in in_file:<br>\n",
    "&nbsp;&nbsp;&nbsp;&nbsp;&nbsp;&nbsp;&nbsp;&nbsp;&nbsp;&nbsp;&nbsp;&nbsp;&nbsp;&nbsp;&nbsp;&nbsp;&nbsp;&nbsp;strip_line = line.rstrip()<br>\n",
    "&nbsp;&nbsp;&nbsp;&nbsp;&nbsp;&nbsp;&nbsp;&nbsp;&nbsp;&nbsp;&nbsp;&nbsp;&nbsp;&nbsp;&nbsp;&nbsp;&nbsp;&nbsp;print \n",
    "(strip_line)</b><br>\n",
    "\n",
    "Or more simply:\n",
    "\n",
    "<b>&nbsp;&nbsp;&nbsp;&nbsp;&nbsp;&nbsp;with open(filename) as in_file:<br>\n",
    "&nbsp;&nbsp;&nbsp;&nbsp;&nbsp;&nbsp;&nbsp;&nbsp;&nbsp;&nbsp;&nbsp;&nbsp;for line in in_file:<br>\n",
    "&nbsp;&nbsp;&nbsp;&nbsp;&nbsp;&nbsp;&nbsp;&nbsp;&nbsp;&nbsp;&nbsp;&nbsp;&nbsp;&nbsp;&nbsp;&nbsp;&nbsp;&nbsp;print (line.rstrip())</b><br>\n",
    "\n",
    "Note that an alternative is line = line[:-1]\n",
    "\n",
    "---\n",
    "\n",
    "## Exercise 8\n",
    "\n",
    "---\n",
    "\n",
    "a) Write a script that opens a text file and prints the contents to screen (use the with statement). You can use the entamoeba.txt file for this exercise available on the <a href=\"http://teaching.bc.ic.ac.uk/msc/ipython-files/exercises.html\">Exercise Answers</a> page.\n",
    "\n",
    "Try using the various options to read the contents of the file.\n",
    "\n",
    "b) Modify the script to write the contents of a file to a second file. Do this twice, the first time as an exact copy and the second removing all of the newlines.\n",
    "\n",
    "(Answers to all exercises are available <a href=\"http://teaching.bc.ic.ac.uk/msc/ipython-files/exercises.html\">here</a>.)\n",
    "\n",
    "---\n",
    "\n",
    "<b>The second part of the Python tutorial is available <a href=\"PythonTutorial_Pt2.ipynb\">here</a>.</b><br><br>\n",
    "\n"
   ]
  },
  {
   "cell_type": "code",
   "execution_count": null,
   "metadata": {
    "collapsed": true
   },
   "outputs": [],
   "source": [
    "\"\"\"\n",
    "\n",
    "#sys.argv[0] is the read.py file\n",
    "#sys.argv[1] is the argument passed to read.py\n",
    "#we set the_file variable to the arg passed to read.py\n",
    "the_file = sys.argv[1]\n",
    "print(the_file)\n",
    "\n",
    "\n",
    "# iterates through file outputing each line to terminal\n",
    "in_file = open(the_file)\n",
    "for line in in_file:\n",
    "\tprint (line)\n",
    "in_file.close()\n",
    "\n",
    "\"\"\""
   ]
  },
  {
   "cell_type": "markdown",
   "metadata": {
    "collapsed": true
   },
   "source": []
  }
 ],
 "metadata": {
  "anaconda-cloud": {},
  "kernelspec": {
   "display_name": "Python 3",
   "language": "python",
   "name": "python3"
  },
  "language_info": {
   "codemirror_mode": {
    "name": "ipython",
    "version": 3
   },
   "file_extension": ".py",
   "mimetype": "text/x-python",
   "name": "python",
   "nbconvert_exporter": "python",
   "pygments_lexer": "ipython3",
   "version": "3.7.0"
  }
 },
 "nbformat": 4,
 "nbformat_minor": 1
}
