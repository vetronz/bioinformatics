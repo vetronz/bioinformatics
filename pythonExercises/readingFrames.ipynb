{
 "cells": [
  {
   "cell_type": "code",
   "execution_count": null,
   "metadata": {},
   "outputs": [],
   "source": []
  },
  {
   "cell_type": "code",
   "execution_count": 67,
   "metadata": {},
   "outputs": [],
   "source": [
    "codons = {}\n",
    "with open('codon_files/codons.txt') as codons_file:\n",
    "    codons_list = codons_file.readlines()\n",
    "#     codons_list[:10]\n",
    "\n",
    "for count in range(0, len(codons_list), 2):\n",
    "    key = codons_list[count].rstrip().lower()\n",
    "    value = codons_list[count+1].rstrip()\n",
    "    codons[key] = value"
   ]
  },
  {
   "cell_type": "code",
   "execution_count": 78,
   "metadata": {},
   "outputs": [
    {
     "data": {
      "text/plain": [
       "'W'"
      ]
     },
     "execution_count": 78,
     "metadata": {},
     "output_type": "execute_result"
    }
   ],
   "source": [
    "codons['tgg']"
   ]
  },
  {
   "cell_type": "code",
   "execution_count": 83,
   "metadata": {},
   "outputs": [
    {
     "data": {
      "text/plain": [
       "1"
      ]
     },
     "execution_count": 83,
     "metadata": {},
     "output_type": "execute_result"
    }
   ],
   "source": [
    "import random\n",
    "random.randint(0,4)"
   ]
  },
  {
   "cell_type": "code",
   "execution_count": 151,
   "metadata": {},
   "outputs": [],
   "source": [
    "def translate2Protein(dna_seq):\n",
    "    codons = {}\n",
    "    with open('codon_files/codons.txt') as codons_file:\n",
    "        codons_list = codons_file.readlines()\n",
    "\n",
    "    for count in range(0, len(codons_list), 2):\n",
    "        key = codons_list[count].rstrip().lower()\n",
    "        value = codons_list[count+1].rstrip()\n",
    "        codons[key] = value\n",
    "    \n",
    "    protein = ''\n",
    "    for count in range(0, len(dna_seq), 3):\n",
    "        codon = dna_seq[count:count+3]\n",
    "        if codon in codons:\n",
    "            aa = codons[codon]\n",
    "        else:\n",
    "            aa = '-'\n",
    "        protein += aa\n",
    "    return protein"
   ]
  },
  {
   "cell_type": "code",
   "execution_count": null,
   "metadata": {},
   "outputs": [],
   "source": []
  },
  {
   "cell_type": "code",
   "execution_count": 186,
   "metadata": {},
   "outputs": [],
   "source": [
    "dna_seq = ''\n",
    "while len(dna_seq) < 999:\n",
    "    codon = ''\n",
    "    for count in range(3):\n",
    "        codon += random.choice(\"cgta\")\n",
    "    aa = codons[codon]\n",
    "    dna_seq += codon\n",
    "\n",
    "# add a start codon\n",
    "dna_seq += 'atg'\n",
    "\n",
    "# coding seq must exclude start and stop codons\n",
    "while len(dna_seq) < 1999:\n",
    "    codon = ''\n",
    "    for count in range(3):\n",
    "        codon += random.choice(\"cgta\")\n",
    "    aa = codons[codon]\n",
    "    if aa == 'M' or aa == '*':\n",
    "        pass\n",
    "    else:\n",
    "        dna_seq += codon\n",
    "\n",
    "dna_seq += 'tag'\n",
    "\n",
    "while len(dna_seq) < 2999:\n",
    "    codon = ''\n",
    "    for count in range(3):\n",
    "        codon += random.choice(\"cgta\")\n",
    "    aa = codons[codon]\n",
    "    dna_seq += codon"
   ]
  },
  {
   "cell_type": "code",
   "execution_count": 187,
   "metadata": {},
   "outputs": [
    {
     "name": "stdout",
     "output_type": "stream",
     "text": [
      "3000\n"
     ]
    },
    {
     "data": {
      "text/plain": [
       "'tgccaaccaatatcaaagccttacagggaatagacacgctcaactgtagaactacatttaccataagagaaaactccccccaacggcggcttagcgttgtttgtctaagacgccttccggctatacattggggtgacaacgtcggatagcctctgggcggcgcggagttttccaatcacattggctgcgagcacaggccacgcctcgaaaagcgaagctcgttgttcgctcgtggggcttggacttgtcattgttgcccttccttcatatacttgatgccatacatagaaggggcggacaacccctttaccggcgatttcgcgatctcacttcatacattggtatccgctcaagttgtggttactgaccagctatggagaggtaaaatcacactgcaacttacgacggcgccttcaaaatccgagagccggaacgtgtaatttcatggagttctgttcctcctgattggtgatcgctccgcgaagacgtgtcaggcggcacgcacaaagaagggtactcctgcgaagttcgggcaatcggatcttgctgcactcaattaggatggcgacctctgatccatgcggacttgagtggttagcagtatcgacctattgcgtcgcatttaggagtgattgtggcagcgcgttgtcccgagtacctgtcaacctttcagcgtcccagtaccgcgtatctcatgtggtaggtacacttgagcgagggaaagcaggagtatctgaatgctactatgtcacgcaggcacaatcattgccggcacaatatggaaacagcagtacagacgggttggaccatattgcggggtcacgtcgatcgccggtactcctaagaaaacggtcataagagacgatggttgcgtcatcctaacggggagggggcagatattgatcagcctgggatagacgcagaacatctggagaatgtatgttggaagtgacagtgcggcttactgttagttttatatcctgagaccccgccttcattatgacacgccgacgcccttggtggtataaacggacgaccgaggtggagtcccccgagcacaggtgctgtatacgacgattacggaacgtccgtccccctctgactgacattagcgtccgacaagtaaagcaaaagctggctcccacagtgagactggtacgagccgtcttggagcttcccatccaagtatcggcggctctactgccttttagctcaacaatcttgggtgtggaggacttcagcctcgacattgccgagcgatacgcgttgtcatgttaccagggtccaatccactccacgcgaagcgaagtaggagtgcggccgcggctacctctgccagcacgacgttgcaatagatcgcccaacggagcagaagcatccacccttggccaaacgcttactagccgattgttacaaccgaaccatcttcgagggagatcttccttatgcgcccatggagagtccttcaaaataggctattctcgtgatccccccccccccacttgcccgattaacctcgggacggcgtcgttgacgtacctgcttcctaaggagctacacaatcggtgcgggacattaaatcccgtctaccaagtgaagttcctgggtgtctggtgtcagactcagcttcgttcgggaaggaggaaatcttctcttgtcgctaggctaggaagagattcaaagttttcctcatctccaactgaaggcagcctagaggtcccatcggataggccagagttgacgggggttgccagtccagggtccttaacggagattcggcaggctcatgtgagtgcgtctggactcttgatatttaatgtcggccgtagctcgttcaaaccaaccccgaccatcgatatccaacacgtcatatgcataaattacatcatacggtggtattatgccggtacaggcatcacgcattcagtcactgatccggtccaaactacttctcatctagagctccggctacttgagggggcgccccctgtaagcggcggctagcctatcactaaaatgttgaattggagtggagaataactatgtaaagaggcgccgtagctaccgcgggcgggtggttccaggcgtactgtcggttacgagggtacacatcgtgttccctccaagctgcttctggtggtcagttcaagaaccaaagtgacagaaatcgttcatgacaaatcacccttacatccacgctcgggtactcaaagccgcgggttatgcgcatgggaacggagaactctttggattgaagccacgcttgctttgggtctgggctattcacgtgttcacgatttggagttaccgtcagtggtagacataagtaaaggttgtaaagctcaagctgggcgaggggtggtctcgctgcatggagagaccgaccgcgctactgggagtctgtccgaggcggcaggagctgaccctcatggtaacattatatcttacatatgagcgtaagtactagcaaaagccacctccgatgtccgattccgattgcgacaggcgcgggcgtcgctcctcggacggaaggggccaccccgctgaagttcaatcaaggcatggttccgccgccagaagtgcgtaacaacctccaccgatgtctaacaaaccaattgatcctgtgaatattgctgctacttggcttcagcctaaggttgagcgagtgcaaaagccccgggcgtgggatagccgaagagtaggaaatatgtttatggtagctgggtcaatgtactggacgtgtttgctcacccgcttctgacgaccctgcaccctgatgtccaagcggccagcacccgcaaccttaatagacggcatctcagcaccttccacacatcagtcaatcagactctctcgttctcctctagttcgccggatccacgggtagcacggcttgatcaaatcggccgcaattccatgatttaccagcggggcgagtccaagccgaattggacactaagtgtagttaatggggtcggtacagttccggatatcgcgctg'"
      ]
     },
     "execution_count": 187,
     "metadata": {},
     "output_type": "execute_result"
    }
   ],
   "source": [
    "print(len(dna_seq))\n",
    "dna_seq"
   ]
  },
  {
   "cell_type": "code",
   "execution_count": 188,
   "metadata": {},
   "outputs": [
    {
     "data": {
      "text/plain": [
       "'CQPISKPYRE*TRSTVELHLP*EKTPPNGGLALFV*DAFRLYIGVTTSDSLWAARSFPITLAASTGHASKSEARCSLVGLGLVIVALPSYT*CHT*KGRTTPLPAISRSHFIHWYPLKLWLLTSYGEVKSHCNLRRRLQNPRAGTCNFMEFCSS*LVIAPRRRVRRHAQRRVLLRSSGNRILLHSIRMATSDPCGLEWLAVSTYCVAFRSDCGSALSRVPVNLSASQYRVSHVVGTLERGKAGVSECYYVTQAQSLPAQYGNSSTDGLDHIAGSRRSPVLLRKRS*ETMVASS*RGGGRY*SAWDRRRTSGECMLEVTVRLTVSFIS*DPAFIMTRRRPWWYKRTTEVESPEHRCCIRRLRNVRPPLTDISVRQVKQKLAPTVRLVRAVLELPIQVSAALLPFSSTILGVEDFSLDIAERYALSCYQGPIHSTRSEVGVRPRLPLPARRCNRSPNGAEASTLGQTLTSRLLQPNHLRGRSSLCAHGESFKIGYSRDPPPPTCPINLGTASLTYLLPKELHNRCGTLNPVYQVKFLGVWCQTQLRSGRRKSSLVARLGRDSKFSSSPTEGSLEVPSDRPELTGVASPGSLTEIRQAHVSASGLLIFNVGRSSFKPTPTIDIQHVICINYIIRWYYAGTGITHSVTDPVQTTSHLELRLLEGAPPVSGG*PITKMLNWSGE*LCKEAP*LPRAGGSRRTVGYEGTHRVPSKLLLVVSSRTKVTEIVHDKSPLHPRSGTQSRGLCAWERRTLWIEATLALGLGYSRVHDLELPSVVDISKGCKAQAGRGVVSLHGETDRATGSLSEAAGADPHGNIISYI*A*VLAKATSDVRFRLRQARASLLGRKGPPR*SSIKAWFRRQKCVTTSTDV*QTN*SCEYCCYLASA*G*ASAKAPGVG*PKSRKYVYGSWVNVLDVFAHPLLTTLHPDVQAASTRNLNRRHLSTFHTSVNQTLSFSSSSPDPRVARLDQIGRNSMIYQRGESKPNWTLSVVNGVGTVPDIAL'"
      ]
     },
     "execution_count": 188,
     "metadata": {},
     "output_type": "execute_result"
    }
   ],
   "source": [
    "prot = translate2Protein(dna_seq)\n",
    "prot"
   ]
  },
  {
   "cell_type": "code",
   "execution_count": 189,
   "metadata": {},
   "outputs": [],
   "source": [
    "# specials = ['M', '*']\n",
    "# codons['atg']\n",
    "# codons['taa']\n",
    "# codons['tag']\n",
    "# codons['tga']\n"
   ]
  },
  {
   "cell_type": "code",
   "execution_count": 185,
   "metadata": {},
   "outputs": [
    {
     "data": {
      "text/plain": [
       "'atgttggaagt'"
      ]
     },
     "execution_count": 185,
     "metadata": {},
     "output_type": "execute_result"
    }
   ],
   "source": [
    "dna_seq[999:1010]"
   ]
  },
  {
   "cell_type": "code",
   "execution_count": null,
   "metadata": {},
   "outputs": [],
   "source": []
  },
  {
   "cell_type": "code",
   "execution_count": null,
   "metadata": {},
   "outputs": [],
   "source": []
  },
  {
   "cell_type": "code",
   "execution_count": null,
   "metadata": {},
   "outputs": [],
   "source": []
  },
  {
   "cell_type": "code",
   "execution_count": null,
   "metadata": {},
   "outputs": [],
   "source": []
  },
  {
   "cell_type": "code",
   "execution_count": null,
   "metadata": {},
   "outputs": [],
   "source": []
  },
  {
   "cell_type": "code",
   "execution_count": null,
   "metadata": {},
   "outputs": [],
   "source": []
  }
 ],
 "metadata": {
  "kernelspec": {
   "display_name": "Python 3",
   "language": "python",
   "name": "python3"
  },
  "language_info": {
   "codemirror_mode": {
    "name": "ipython",
    "version": 3
   },
   "file_extension": ".py",
   "mimetype": "text/x-python",
   "name": "python",
   "nbconvert_exporter": "python",
   "pygments_lexer": "ipython3",
   "version": "3.7.1"
  }
 },
 "nbformat": 4,
 "nbformat_minor": 2
}
