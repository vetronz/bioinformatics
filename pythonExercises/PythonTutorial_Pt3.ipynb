{
 "cells": [
  {
   "cell_type": "markdown",
   "metadata": {},
   "source": [
    "# Python Tutorial - Part 3\n",
    "\n",
    "---\n",
    "\n",
    "# Try/Except\n",
    "\n",
    "---\n",
    "\n",
    "Python provides a method to trap errors with the code at run time to prevent the script crashing. For example, the following program will prompt for a number and  print it out. It will continue prompting until the exit condition is reached.\n",
    "\n",
    "It takes a string as input and converts it to an integer.\n",
    "\n",
    "There is a problem with this code in that if text other than a number was entered, for example \"2d\", the script would crash. Try running the code with numbers and non-numeric entries:\n"
   ]
  },
  {
   "cell_type": "code",
   "execution_count": null,
   "metadata": {},
   "outputs": [],
   "source": [
    "\n",
    "print (\"Type Control C or -1 to exit\")\n",
    "number = 1\n",
    "while number != -1:\n",
    "    number = int(input(\"Enter a number: \"))\n",
    "    print (\"You entered:\", number)\n",
    "    if number % 2 == 0:\n",
    "        print (\"You entered an even number\")\n",
    "    else:\n",
    "        print (\"You entered an odd number\")\n",
    "    "
   ]
  },
  {
   "cell_type": "markdown",
   "metadata": {
    "collapsed": true
   },
   "source": [
    "\n",
    "This can be prevented using try/except:\n",
    "    "
   ]
  },
  {
   "cell_type": "code",
   "execution_count": null,
   "metadata": {},
   "outputs": [],
   "source": [
    "\n",
    "print (\"Type Control C or -1 to exit\")\n",
    "number = 1\n",
    "while number != -1:\n",
    "    try: \n",
    "        number = int(input(\"Enter a number: \"))\n",
    "        print (\"You entered:\", number)\n",
    "        if number % 2 == 0:\n",
    "            print (\"You entered an even number\")\n",
    "        else:\n",
    "            print (\"You entered an odd number\")\n",
    "    except ValueError:\n",
    "        print (\"That was not a number\")\n",
    "    "
   ]
  },
  {
   "cell_type": "markdown",
   "metadata": {},
   "source": [
    "\n",
    "Now when something like “2d” is entered it prints “That was not a number” and continues without exiting.\n",
    "\n",
    "Multiple errors can be caught using more than one except if necessary. In particular, this example will only catch a ValueError but there are many other errors that can be caught e.g.ZeroDivisionError etc.\n",
    "\n",
    "---\n",
    "\n",
    "\n",
    "# Functions\n",
    "\n",
    "---\n",
    "\n",
    "Often when writing a program there are times when you want to use the same piece of code multiple times. An example is a sequence translation program. What if you wanted to translate multiple sequence?\n",
    "\n",
    "This is where functions are used (or subroutines or methods, depending on the language).\n",
    "\n",
    "A function is a block of code that can be used multiple times to perform a particular piece of work.\n",
    "\n",
    "A function is defined by the keyword def followed by the function name. Note the brackets following the name, as functions can optionally take arguments.\n",
    "\n",
    "The structure of a function is like Python control methods, the function name ending in a colon and the scope of the function identified by indented code:\n",
    "\n",
    "<b>def hello():<br>\n",
    "&nbsp;&nbsp;&nbsp;&nbsp;&nbsp;&nbsp;print (\"Hello World!\")</b><br><br>\n",
    "    \n",
    "\n",
    "A function has to be declared in the program before it can be used.\n",
    "\n",
    "The function is called by simply using its name, and including arguments if required.\n",
    "\n",
    "The code within the function is then called:\n"
   ]
  },
  {
   "cell_type": "code",
   "execution_count": null,
   "metadata": {},
   "outputs": [],
   "source": [
    "\n",
    "def hello():\n",
    "\n",
    "    print (\"Hello World!\")\n",
    "       \n",
    "hello()\n",
    "hello()\n",
    "            "
   ]
  },
  {
   "cell_type": "markdown",
   "metadata": {},
   "source": [
    "\n",
    "---\n",
    "\n",
    "## Passing Arguments\n",
    "\n",
    "---\n",
    "\n",
    "Any number of arguments can be passed to a function:\n",
    "\n"
   ]
  },
  {
   "cell_type": "code",
   "execution_count": null,
   "metadata": {},
   "outputs": [],
   "source": [
    "\n",
    "def hello(name1, name2):\n",
    "    print (\"Hello“, name1, “and”, name2\n",
    "       \n",
    "\n",
    "hello(\"Lenka\", \"Ema\")\n",
    "                                                                      "
   ]
  },
  {
   "cell_type": "markdown",
   "metadata": {},
   "source": [
    "\n",
    "---\n",
    "\n",
    "## Returning Values\n",
    "\n",
    "---\n",
    "\n",
    "Functions can also return data:\n"
   ]
  },
  {
   "cell_type": "code",
   "execution_count": null,
   "metadata": {},
   "outputs": [],
   "source": [
    "def add(num1, num2):\n",
    "    num3 = num1 + num2\n",
    "    return num3\n",
    "\n",
    "\n",
    "num = add(3, 4)\n",
    "print (num)\n"
   ]
  },
  {
   "cell_type": "markdown",
   "metadata": {},
   "source": [
    "\n",
    "Multiple values ca be returned and assigned to variables when the function is called:\n"
   ]
  },
  {
   "cell_type": "code",
   "execution_count": null,
   "metadata": {},
   "outputs": [],
   "source": [
    "\n",
    "def calc(num1, num2):\n",
    "    a = num1 + num2\n",
    "    b = num1 * num2\n",
    "    c = num1 – num2\n",
    "\n",
    "    return a,b,c\n",
    "\n",
    "   \n",
    "d, e, f = calc(10, 5)\n",
    "print (d, e, f)\n"
   ]
  },
  {
   "cell_type": "code",
   "execution_count": null,
   "metadata": {},
   "outputs": [],
   "source": [
    "\n",
    "Although the previous version actually returns a tuple it is possible to explicitly return one, or a list:\n"
   ]
  },
  {
   "cell_type": "code",
   "execution_count": null,
   "metadata": {},
   "outputs": [],
   "source": [
    "\n",
    "def calcTuple(num1, num2):\n",
    "    a = num1 + num2\n",
    "    b = num1 * num2\n",
    "    c = num1 – num2\n",
    "    \n",
    "    return (a,b,c)\n",
    "\n",
    "def calcList(num1, num2):\n",
    "    a = num1 + num2\n",
    "    b = num1 * num2\n",
    "    c = num1 – num2\n",
    "\n",
    "return [a,b,c] \n",
    "\n",
    "t = calcTuple(10, 5)\n",
    "\n",
    "print (\"A tuple of values is returned:\")\n",
    "print (t)\n",
    "\n",
    "l = calcList(10, 5)\n",
    "\n",
    "print (\"A list of values is returned:\")\n",
    "print (l)\n"
   ]
  },
  {
   "cell_type": "markdown",
   "metadata": {},
   "source": [
    "\n",
    "---\n",
    "\n",
    "## Exercise 14\n",
    "\n",
    "a) Write a script that includes a function that takes 2 numbers, multiplies them together and returns the result. The script should prompt the user for the numbers, pass them to the function and print out the result.\n",
    "\n",
    "b) Create a script that tests the example functions above, which return multiple values, a list and a tuple.\n",
    "\n",
    "Edit the script to demonstrate that it does actually return a list and a tuple.\n",
    "\n",
    "HINT: You can do this by assigning the returned values to a single variable, which will be the tuple, and then printing the index positions.\n",
    "\n",
    "(Answers to all exercises are available <a href=\"http://teaching.bc.ic.ac.uk/msc/ipython-files/exercises.html\">here</a>.)\n",
    "\n",
    "---\n",
    "\n",
    "## Passing Other Data as an Argument\n",
    "\n",
    "---\n",
    "\n",
    "Any data type, or object, can be passed to a Python function e.g. list, tuple, dictionary etc:\n"
   ]
  },
  {
   "cell_type": "code",
   "execution_count": null,
   "metadata": {},
   "outputs": [],
   "source": [
    "\n",
    "def calcSum(list1):\n",
    "    total = 0\n",
    "    for num in list1:\n",
    "        total += num\n",
    "\n",
    "    return num\n",
    "\n",
    "\n",
    "sumlist = (1, 2, 3, 4, 5)\n",
    "print calcSum(sumlist)\n"
   ]
  },
  {
   "cell_type": "markdown",
   "metadata": {},
   "source": [
    "\n",
    "---\n",
    "\n",
    "## Exercise 15\n",
    "\n",
    "---\n",
    "\n",
    "Create a script that tests the 3 example functions above.\n",
    "\n",
    "Edit the script to contain a function that takes a dictionary as an argument and tests it.\n",
    "\n",
    "Edit the script further so that the function takes a list and dictionary as arguments and tests it. A suitable test would be for the list to contain the key values from the dictionary and then iterate the list in the function and print out the associated dictionary values.\n",
    "\n",
    "(Answers to all exercises are available <a href=\"http://teaching.bc.ic.ac.uk/msc/ipython-files/exercises.html\">here</a>.)\n",
    "\n",
    "---\n",
    "\n",
    "## Passing Function Arguments by Keywords\n",
    "\n",
    "\n",
    "In the examples above, when multiple arguments are passed to a function, they are associated to parameters by their position. For example, with the following function definition:\n",
    "\n",
    "<b>&nbsp;&nbsp;&nbsp;&nbsp;&nbsp;&nbsp;def calcValue(num1, num2, num3):</b><br>\n",
    "\n",
    "If it is called by:\n",
    "\n",
    "<b>&nbsp;&nbsp;&nbsp;&nbsp;&nbsp;&nbsp;calcValue(5, 12, 16)</b><br>\n",
    "\n",
    "Then 5 would be assigned to num1, 12 to num2 and 16 to num3, as expected.\n",
    "\n",
    "However, arguments can also be passed by keywords and are then assigned to parameters by explicitly naming them. A simple calculation function could be:\n"
   ]
  },
  {
   "cell_type": "code",
   "execution_count": null,
   "metadata": {},
   "outputs": [],
   "source": [
    " \n",
    "def calcValue(num1, num2, num3):\n",
    "    total = num1 + num2 - num3\n",
    "   \n",
    "    return total\n",
    "\n",
    "\n",
    "ans = calcValue(5, 10, 6)\n",
    "\n",
    "print (ans)\n"
   ]
  },
  {
   "cell_type": "markdown",
   "metadata": {},
   "source": [
    "\n",
    "Alternatively the arguments to the function can be explicitly named, and therefore in any order:\n",
    "    "
   ]
  },
  {
   "cell_type": "code",
   "execution_count": null,
   "metadata": {},
   "outputs": [],
   "source": [
    "\n",
    "def calcValue(num1, num2, num3):\n",
    "    total = num1 + num2 - num3\n",
    "   \n",
    "    return total\n",
    "\n",
    "ans = calcValue(num1=5, num2=10, num3=6)\n",
    "print (ans)\n",
    "\n",
    "ans = calcValue(num3=6, num2=10, num1=5)\n",
    "print (ans)\n",
    "\n",
    "ans = calcValue(num2=10, num1=5, num3=6)\n",
    "print (ans)\n",
    "\n",
    "# etc ...\n"
   ]
  },
  {
   "cell_type": "markdown",
   "metadata": {},
   "source": [
    "\n",
    "All versions will produce the same answer.\n",
    "\n",
    "An advantage is that you do not have to know in what order parameters are declared in the function.\n",
    "\n",
    "---\n",
    "\n",
    "## Exercise 16\n",
    "\n",
    "---\n",
    "\n",
    "Create a script that tests the various ways to pass arguments to a function.\n",
    "\n",
    "(Answers to all exercises are available <a href=\"http://teaching.bc.ic.ac.uk/msc/ipython-files/exercises.html\">here</a>.)\n",
    "\n",
    "---\n",
    "\n",
    "\n",
    "## Default Values of Parameters\n",
    "\n",
    "---\n",
    "\n",
    "It is possible to set default values of parameters in the function definition:\n",
    " \n",
    "<b>&nbsp;&nbsp;&nbsp;&nbsp;&nbsp;&nbsp;def calcValue(num1, num2=20, num3=8):</b><br>\n",
    "\n",
    "The parameters num1 and num2 now have default values so the function can be called with just a single value for num3, or with 2 values and num3 will be the default, or with 3 values and both defaults will be overwritten. Finally, one of the default values can be changed if required by specifying the defined name:\n",
    " "
   ]
  },
  {
   "cell_type": "code",
   "execution_count": null,
   "metadata": {},
   "outputs": [],
   "source": [
    "\n",
    "def calcValue(num1, num2=20, num3=8):\n",
    "    total = num1 + num2 - num3\n",
    "\n",
    "    return total\n",
    "\n",
    "# Function can be called with just a single value for num\n",
    "ans = calcValue(6)\n",
    "print (\"Version 1: \" + ans)\n",
    "\n",
    "# Called with 2 values and num3 will be the default\n",
    "ans = calcValue(6, 10)\n",
    "print (\"Version 2: \" + ans)\n",
    "\n",
    "# Called  with 3 values and both defaults will be overwritten\n",
    "ans = calcValue(6, 10, 5)\n",
    "print (\"Version 3: \" + ans)\n",
    "\n",
    "# Default value changed by specifying the defined name\n",
    "ans = calcValue(6, num3=4)\n",
    "print (\"Version 4: \" + ans)\n"
   ]
  },
  {
   "cell_type": "markdown",
   "metadata": {},
   "source": [
    "\n",
    "NOTE: An example of the use of default values is with the Python open file command when opening a file for reading:\n",
    "\n",
    "<b>&nbsp;&nbsp;&nbsp;&nbsp;&nbsp;&nbsp;f = open(‘test.txt’, ‘r’)</b><br>\n",
    "\n",
    "The ‘r’ is optional as it is a default value.\n",
    "\n",
    "---\n",
    "\n",
    "## Variable Number of Parameters\n",
    "\n",
    "---\n",
    "\n",
    "A function can take additional optional arguments by prefixing the last parameter with *.\n",
    "\n",
    "Optional arguments are then available in a tuple referenced by this parameter:\n"
   ]
  },
  {
   "cell_type": "code",
   "execution_count": null,
   "metadata": {},
   "outputs": [],
   "source": [
    "\n",
    "def calcValue(num1, num2, *morenums):\n",
    "    total = num1 + num2\n",
    "    for n in morenums:\n",
    "        total += n\n",
    "\n",
    "    return total\n",
    "\n",
    "  \n",
    "ans = calcValue(2, 4,  5, 12, 15)\n",
    "print (ans)\n"
   ]
  },
  {
   "cell_type": "markdown",
   "metadata": {},
   "source": [
    "\n",
    "In this case 2 would be assigned to num1, 4 to num2 and tuple created from the rest (5, 12, 15).\n",
    " \n",
    "If ** is used the arguments are then converted in to a dictionary.\n"
   ]
  },
  {
   "cell_type": "code",
   "execution_count": null,
   "metadata": {},
   "outputs": [],
   "source": [
    "\n",
    "def testFunc (val1, val2, **morevals):\n",
    "    print (\"Val1 is\", val1)\n",
    "    print (\"Val2 is\", val2)\n",
    "\n",
    "    print (\"The dictionary:\")\n",
    "\n",
    "    for k in morevals.keys():\n",
    "        print (\"Key is\", k, \"Value is\", morevals[k])\n",
    "\n",
    "testFunc(\"First\", \"Second\", Third= 3, Fourth= 4, Fifth= 5)\n",
    "                                "
   ]
  },
  {
   "cell_type": "markdown",
   "metadata": {},
   "source": [
    "\n",
    "NOTE: The keys in the dictionary section of the function call do not have quotes.\n",
    "\n",
    "---\n",
    "\n",
    "## Exercise 17\n",
    "\n",
    "---\n",
    "\n",
    "Create a script that tests the examples given above for default parameters and variable numbers of parameters.\n",
    "\n",
    "---\n",
    "\n",
    "## Exercise 18\n",
    "\n",
    "---\n",
    "\n",
    "In the Example Program - Sequence Translation part of the tutorial you were provided with the code to translate a nucleotide sequence into amino acids, which you tested in exercise 8.\n",
    "\n",
    "The fasta file (<b>sequence.txt</b>) and codons file (<b>codons.txt</b>) needed to test the script can be downloaded from the <a href=\"http://teaching.bc.ic.ac.uk/msc/ipython-files/exercises.html\">Exercise Answers</a> page.\n",
    "\n",
    "Modify the code so that it translates the sequence in all 6 reading frames. You should include a function that carries out the translation and call it 6 times.\n",
    "\n",
    "---\n",
    "\n",
    "## Exercise 19\n",
    "\n",
    "---\n",
    "\n",
    "Modify your code from the previous exercise so that the function translates only a section of the sequence. It should also only translate the sequence in a single frame, defined as a function parameter.\n",
    "\n",
    "\n",
    "For example, the function could take 4 arguments:\n",
    "\n",
    "    Sequence\n",
    "    Start\n",
    "    End\n",
    "    Sequence strand (1 or -1)\n",
    "\n",
    "Remember, for the minus strand you will need to complement the sequence.\n",
    "\n",
    "---\n",
    "\n",
    "## Exercise 20\n",
    "\n",
    "---\n",
    "\n",
    "Modify your code from the previous exercise so that the function extracts  multiple sections of the sequence and translates them. The previous example would only translate a single exon gene but this version should translate a multi exon gene.\n",
    "\n",
    "The number of exons will vary so your function will have to take a single list of start and end positions.\n",
    "\n",
    "To test this version of the function you can use a different and much larger sequence (<b>blumeria_seq.fasta</b>), available from the <a href=\"http://teaching.bc.ic.ac.uk/msc/ipython-files/exercises.html\">Exercise Answers</a> page. This is a contig annotation from Blumeria graminis and the genes in the sequence are annotated so you can use those positions to test your function. There are 3 genes, 2 on the forward strand and 1 on the reverse:\n",
    "\n",
    "Gene 1\n",
    "\n",
    "Strand +\n",
    "Exon 1     Start     4550     End     4636           \n",
    "Exon 2     Start     4698     End    4796       \n",
    "Exon 3     Start     4852     End    5565   \n",
    "Exon 4     Start     5623     End     5715   \n",
    "\n",
    "Gene 2\n",
    "\n",
    "Strand +\n",
    "Exon 1     Start      7647       End      7759   \n",
    "Exon 2     Start      7854      End      8216   \n",
    "Exon 3     Start      8267      End      8660   \n",
    "\n",
    "Gene 3\n",
    "\n",
    "Strand –\n",
    "Exon 1     Start    17433    End      17709\n",
    "Exon 2     Start      17243  End      17370       \n",
    "\n",
    "You could also change the function to use arguments with default values. For example, a default could be “strand=1”, so the function assumes the positive strand.\n",
    "\n",
    "NOTE: The correct translations are:\n",
    "\n",
    "Gene 1 Translation: MSLPTVLLVYKIIHTVDEWNDLSRIATLKVFNGNSRQDFLKSCEDGEFNEVTIIYYSNESVRLIGQLDQELLFKLPPSIRYICHHGAGYDSIDIAACTERSIQVSHTPIAVNKSTADMTLFLILGALRRIHVPYLAVRAGQWRGSTQLGHDPENKLLGILGMGGIGQEVAKRAKAFGMKVQYHNRSRLVPELEQGADYVSFEHLIKTSDILSLNCSLNKATIGIIGKDELAQMKQGVIVVNTARGKLIDEFALVKALESGKVFSAGLDVFEKEPSIDDTLLSSPNVVLTPHIGTATVETQRAMELLVLQNIENALKTDALVTQVQEQIQA*\n",
    "Gene 2 Translation: MSVVSLLGVNVLQNPARFGDPYEFEITFECLETLQKGTYIVGHKLTPVFNKLIFNSNDHDQELDSLLVGPIPVGVNKFIFVADPPDTNKIPDAEILGVTVILLTCAYDGREFVRVGYYVNNEYDSDELNTDPPAKPILEKVRRNILAEKPRVTRFAIKWDSDDSAPPLYPPEQPEADLVADGEEYGAEEAEDEEEEESADGPEVPADPDVMIEDSEVAGAMVETVKATEEESDAGSEDLEAESSGSEEDEIEEDEEREDEPEEAMDLDGAGKPNGATSSTHNTDTTMAH*\n",
    "Gene 3 Translation: MWSLQYLALLVFVSRAAANYQHWDIDSAVNCQNNIWTSNYLKQVRLRYCNHPPSPQSLVDISRHPNSQLHSNRSTNIYFLSIPRPGPDGELGDDVSNYYMLVDADCNYYSVVGLNARYAQGFVLNSQTVPCRLA*\n",
    "\n",
    "(Answers to all exercises are available <a href=\"http://teaching.bc.ic.ac.uk/msc/ipython-files/exercises.html\">here</a>.)\n",
    "\n",
    "---\n",
    "\n",
    "# NumPy and Pandas\n",
    "\n",
    "---\n",
    "\n",
    "## NumPy\n",
    "\n",
    "One of the most common data structures required when analysing biological data is a multi-dimensional array, for example a PWM. NumPy is a Python library specifically designed for this, providing many kinds of solutions for dealing with multi-dimensional arrays and many high-level mathematical functions that operate on them. It is implemented in C and provides faster methods than the ones contained in the standard Python libraries.\n",
    "The main component of NumPy is the NumPy array, which has similarities to the Python list. They are both accessed using the index position, they are sliced using the same method and iterated in a for loop using the same syntax.\n",
    "To use NumPy the module needs to be loaded and by convention is aliased to <b>np</b>:\n"
   ]
  },
  {
   "cell_type": "code",
   "execution_count": null,
   "metadata": {},
   "outputs": [],
   "source": [
    "\n",
    "import numpy as np\n",
    "\n",
    "arr=np.array([10, 3, 23, 8, 16])\n",
    "\n",
    "print (arr[1])\n",
    "print (arr[1:3])\n",
    "\n",
    "for item in arr:\n",
    "    print(item)\n",
    "        "
   ]
  },
  {
   "cell_type": "markdown",
   "metadata": {},
   "source": [
    "\n",
    "There are significant differences between NumPy arrays and Python lists:\n",
    "\n",
    "1) The data types within a NumPy array must all be the same and cannot be mixed as they can in lists.\n",
    "\n",
    "2) Basic statistical operations can be performed on NumPy arrays using built in commands. For example:\n"
   ]
  },
  {
   "cell_type": "code",
   "execution_count": null,
   "metadata": {},
   "outputs": [],
   "source": [
    "\n",
    "import numpy as np\n",
    "\n",
    "arr=np.array([10, 3, 23, 8, 16])\n",
    "\n",
    "print (arr.mean())\n",
    "print (arr.max())\n",
    "print (arr.sum())\n",
    "print (arr.std())\n"
   ]
  },
  {
   "cell_type": "markdown",
   "metadata": {},
   "source": [
    "\n",
    "3) Python lists can be multi-dimensional but NumPy arrays are designed to implement this functionality and provide   attributes and functionality specifically designed for this.\n",
    "\n",
    "If you use arithmetic operators on Python lists, such as + or * it will add the lists together or copy the list:\n"
   ]
  },
  {
   "cell_type": "code",
   "execution_count": null,
   "metadata": {},
   "outputs": [],
   "source": [
    "    \n",
    "l1 = [1,2,3]\n",
    "l2 = [2,3,4]\n",
    "\n",
    "print (l1 + l2)    # Prints [1, 2, 3, 2, 3, 4]\n",
    "print (l1 * 2)    # Prints [1, 2, 3, 1, 2, 3]\n"
   ]
  },
  {
   "cell_type": "markdown",
   "metadata": {},
   "source": [
    "\n",
    "The NumPy version will sum the contents of lists at the same index positions or multiply each element of the list::\n"
   ]
  },
  {
   "cell_type": "code",
   "execution_count": null,
   "metadata": {},
   "outputs": [],
   "source": [
    "\n",
    "import numpy as np\n",
    "\n",
    "arr1 = np.array([1,2,3])\n",
    "arr2 = np.array([2,3,4])\n",
    "\n",
    "print (arr1 + arr2)    # Prints [3 5 7]\n",
    "print (arr1 * 2)       # Prints [2 4 6]\n"
   ]
  },
  {
   "cell_type": "markdown",
   "metadata": {},
   "source": [
    "\n",
    "To multiple the contents of 2 arrays based on index position you need to use the dot function:\n"
   ]
  },
  {
   "cell_type": "code",
   "execution_count": null,
   "metadata": {},
   "outputs": [],
   "source": [
    "\n",
    "import numpy as np\n",
    "\n",
    "arr1 = np.array([[1,2], [3,4]]) \n",
    "arr2 = np.array([[5,6], [7,8]])\n",
    "\n",
    "arr3 = np.array([9, 10])\n",
    "arr4 = np.array([11, 12])\n",
    "\n",
    "# Multiplying arr3 and arr4 (inner product of vectors) both produce 219\n",
    "print(arr3.dot(arr4)) # \tAlternatively print(np.dot(arr3, arr4))\n",
    "\n",
    "# Multiply matrix arrl and vector arr3 produces the array [29 67]\n",
    "print(arr1.dot(arr3))\n",
    "\n",
    "# Multiply the 2 matrices arr1 and arr2 produces a 2 dimensional array [[19 22][43 50]]\n",
    "print(arr1.dot(arr2))\n"
   ]
  },
  {
   "cell_type": "markdown",
   "metadata": {},
   "source": [
    "A boolean index can be applied to a numpy array to selct values based on a particular criteria, for example numbers greater than a certain value."
   ]
  },
  {
   "cell_type": "code",
   "execution_count": null,
   "metadata": {},
   "outputs": [],
   "source": [
    "\n",
    "import numpy as np\n",
    "\n",
    "arr = np.array([1, 4, 9, 12, 20, 6, 8])\n",
    "\n",
    "# Select numebrs greater than 5\n",
    "# The selction returns a new numpy array\n",
    "\n",
    "new_arr = arr[arr>5]\n",
    "\n",
    "print (new_arr)\n"
   ]
  },
  {
   "cell_type": "markdown",
   "metadata": {},
   "source": [
    "\n",
    "## Pandas\n",
    "\n",
    "---\n"
   ]
  },
  {
   "cell_type": "markdown",
   "metadata": {},
   "source": [
    "Pandas builds on NumPy to provide an implementation of a DataFrame, which are multidimensional arrays with attached row and column labels.\n",
    "\n",
    "To use Pandas the module needs to be loaded and by convention is aliased to pd:\n",
    "\n",
    "   <b>import pandas as pd</b>\n",
    "\n",
    "## Pandas Series\n",
    "\n",
    "A Pandas Series is an indexed one-dimensional array, which It can be created from a list or a numpy array:\n"
   ]
  },
  {
   "cell_type": "code",
   "execution_count": null,
   "metadata": {},
   "outputs": [],
   "source": [
    "\n",
    "import pandas as pd\n",
    "\n",
    "ls = [5,8,12,16,22,45]\n",
    "\n",
    "ser = pd.Series(ls)\n",
    " \n",
    "print(ser)\n"
   ]
  },
  {
   "cell_type": "markdown",
   "metadata": {},
   "source": [
    "Pandas creates an automatic index for the series, which by default is the same as the list index. However, the difference is that the index can be of any type and not just integers. The series entries can then be accessed using these index values.\n",
    "\n",
    "Values in the series are accessed in a similar way to dictionaries:\n"
   ]
  },
  {
   "cell_type": "code",
   "execution_count": null,
   "metadata": {},
   "outputs": [],
   "source": [
    "\n",
    "import pandas as pd\n",
    "\n",
    "ls = [5,8,12,16,22,45]\n",
    "\n",
    "dat = pd.Series(ls, index=['first', 'second', 'third', 'fourth', 'fifth', 'sixth'])\n",
    " \n",
    "print (dat)\n",
    "\n",
    "print ('Using index to access value:', dat['second'])\n"
   ]
  },
  {
   "cell_type": "markdown",
   "metadata": {},
   "source": [
    "\n",
    "However, unlike dictionaries the entries are ordered, which is one of the main benefits of using a series.\n",
    "\n",
    "A series can also be created directly from a dictionary and as with lists you can also use a slice on a series:\n"
   ]
  },
  {
   "cell_type": "code",
   "execution_count": null,
   "metadata": {},
   "outputs": [],
   "source": [
    "\n",
    "import pandas as pd\n",
    "\n",
    "dict = {'first':'5', 'second': '8', 'third': '12', 'fourth': '16', 'fifth': '22', 'sixth': '45'}\n",
    "\n",
    "dat = pd.Series(dict)\n",
    "\n",
    "print (dat)\n",
    "\n",
    "print('Using slice:')\n",
    "print(dat['second': 'fifth'])\n"
   ]
  },
  {
   "cell_type": "markdown",
   "metadata": {},
   "source": [
    "## Pandas Dataframe\n",
    "\n",
    "The real power of Pandas in its ability to create dataframes, which are essentially a mix of a NumPy array and a dictionary.\n",
    "\n",
    "A dataframe can be created from 2 r more series which have the same index:\n"
   ]
  },
  {
   "cell_type": "code",
   "execution_count": null,
   "metadata": {},
   "outputs": [],
   "source": [
    "\n",
    "import pandas as pd\n",
    "\n",
    "map_dict={'ENST':'RNA', 'ENSG':'gene', 'ENSP':'protein'}\n",
    "count_dict={'ENST': 3300, 'ENSG':18435, 'ENSP':12034}\n",
    " \n",
    "df = pd.DataFrame({'mapping': map_dict, 'counts': count_dict})\n",
    " \n",
    "print(df)\n"
   ]
  },
  {
   "cell_type": "markdown",
   "metadata": {},
   "source": [
    "There are 2 ways to access the data in a dataframe, either using the dictionary method or the Pandas method:"
   ]
  },
  {
   "cell_type": "code",
   "execution_count": null,
   "metadata": {},
   "outputs": [],
   "source": [
    "\n",
    "import pandas as pd\n",
    "\n",
    "map_dict={'ENST':'RNA', 'ENSG':'gene', 'ENSP':'protein'}\n",
    "count_dict={'ENST': 3300, 'ENSG':18435, 'ENSP':12034}\n",
    " \n",
    "df = pd.DataFrame({'mapping': map_dict, 'counts': count_dict})\n",
    "\n",
    "print (df['counts'])   # The dictionary method\n",
    "\n",
    "print (df.counts)      # The Pandas method\n"
   ]
  },
  {
   "cell_type": "markdown",
   "metadata": {},
   "source": [
    "The benefit of the dictionary method is that it allows for whitespace in the index name.\t\n",
    "\n",
    "DataFrames are more commonly created from numpy 2-d arrays rather than dictionaries as the data source is often tab delimited format (.tsv) text file or something easily convertible to a 2-d array.\n",
    "\n",
    "The following data is a small sample of a list of performances of the two multiple aligners mafftx and raf. The values represent method, dataset,\n",
    "average pairwise identity, structural pairwise score, structural conservation index, reference structural conservation index, and how many sequences were in the dataset.\n",
    "\n",
    "The nested list could be derived from a tab delimited file."
   ]
  },
  {
   "cell_type": "code",
   "execution_count": null,
   "metadata": {
    "scrolled": false
   },
   "outputs": [],
   "source": [
    "\n",
    "import pandas as pd\n",
    "\n",
    "ls= [['ENSG00000000457', 'SCYL', '1', '169818772', '169863408', '-1'], ['ENSG00000000460', 'C1orf112', '1', '169631245', '169823221', '1'], ['ENSG00000000971', 'CFH', '1', '196621008', '196716634', '1'], ['ENSG00000001036', 'FUCA2', '6', '143815948', '143832827', '-1'],['ENSG00000001084', 'GCLC', '6', '53362139', '53481768', '-1']]\n",
    "\n",
    "cols = ['ID','Gene','Chrom','Start','End','Strand']\n",
    "dframe = pd.DataFrame(ls, columns=cols)\n",
    "\n",
    "print (dframe)\n"
   ]
  },
  {
   "cell_type": "markdown",
   "metadata": {},
   "source": [
    "When creating the dataframe the data needs to all be strings, as defined in the list creation (ls= [['mafftx','5_8S_rRNA','75','0.775230007077' etc). If reading the values from a file they will be strings by default. To convert the strings to the most appropriate numeric values:\n",
    "\n",
    "<b>dframe[['Chrom','Start','End','Strand']] = dframe[['Chrom','Start','End','Strand']].apply(pd.to_numeric)</b>\n",
    "\n",
    "To change the index of the dataframe from the default integers:\n",
    "\n",
    "<b>dframe.index=['first','second','third','fourth', 'fifth']</b>"
   ]
  },
  {
   "cell_type": "code",
   "execution_count": null,
   "metadata": {},
   "outputs": [],
   "source": [
    "\n",
    "import pandas as pd\n",
    "\n",
    "ls= [['ENSG00000000457', 'SCYL', '1', '169818772', '169863408', '-1'], ['ENSG00000000460', 'C1orf112', '1', '169631245', '169823221', '1'], ['ENSG00000000971', 'CFH', '1', '196621008', '196716634', '1'], ['ENSG00000001036', 'FUCA2', '6', '143815948', '143832827', '-1'],['ENSG00000001084', 'GCLC', '6', '53362139', '53481768', '-1']]\n",
    "\n",
    "cols = ['ID','Gene','Chrom','Start','End','Strand']\n",
    "dframe = pd.DataFrame(ls, columns=cols)\n",
    "\n",
    "dframe[['Chrom','Start','End','Strand']] = dframe[['Chrom','Start','End','Strand']].apply(pd.to_numeric)\n",
    "\n",
    "dframe.index=['first','second','third','fourth', 'fifth']\n",
    " \n",
    "print (dframe)\n"
   ]
  },
  {
   "cell_type": "markdown",
   "metadata": {},
   "source": [
    "If you want to access specific columns they can be selected. The results will be another dataframe, which can then be stored.\n"
   ]
  },
  {
   "cell_type": "code",
   "execution_count": null,
   "metadata": {},
   "outputs": [],
   "source": [
    "\n",
    "import pandas as pd\n",
    "\n",
    "ls= [['ENSG00000000457', 'SCYL', '1', '169818772', '169863408', '-1'], ['ENSG00000000460', 'C1orf112', '1', '169631245', '169823221', '1'], ['ENSG00000000971', 'CFH', '1', '196621008', '196716634', '1'], ['ENSG00000001036', 'FUCA2', '6', '143815948', '143832827', '-1'],['ENSG00000001084', 'GCLC', '6', '53362139', '53481768', '-1']]\n",
    "\n",
    "cols = ['ID','Gene','Chrom','Start','End','Strand']\n",
    "dframe = pd.DataFrame(ls, columns=cols)\n",
    "\n",
    "dframe[['Chrom','Start','End','Strand']] = dframe[['Chrom','Start','End','Strand']].apply(pd.to_numeric)\n",
    "\n",
    "new_dframe = dframe[['Chrom','Strand']] \n",
    "print (new_dframe)\n"
   ]
  },
  {
   "cell_type": "markdown",
   "metadata": {},
   "source": [
    "\n",
    "\n",
    "### Slicing\n",
    "\n",
    "You can slice a dataframe to create a new dataframe of selected data. Depending on the type of the index there are 2 slice methods:\n",
    "\n",
    "<b>dframe.iloc \t# integer-location indexing\n",
    "dframe.loc \t# label-location indexing</b>\n",
    "\n",
    "Note that the integer form (iloc) does not include the last index position but the label indexing does:\n",
    "\n",
    "<b>print (dframe.iloc[1:4]) # Will print indexes rows 1- 4 as indexing starts at 0\n",
    "print (dframe.loc['First': 'Fourth']) # Will print rows 'First' to 'Fourth'</b>\n",
    "\n",
    "Columns within the dataframe can also be selected at the same time but care needs to be taken if the integer row index is required. For a string row index the following is used:\n",
    "\n",
    "<b>dframe.loc['second':'fourth','ID':'Chrom']</b>\n",
    "\n",
    "However, if loc is used with an integer index then:\n"
   ]
  },
  {
   "cell_type": "code",
   "execution_count": null,
   "metadata": {},
   "outputs": [],
   "source": [
    "\n",
    "import pandas as pd\n",
    "\n",
    "ls= [['ENSG00000000457', 'SCYL', '1', '169818772', '169863408', '-1'], ['ENSG00000000460', 'C1orf112', '1', '169631245', '169823221', '1'], ['ENSG00000000971', 'CFH', '1', '196621008', '196716634', '1'], ['ENSG00000001036', 'FUCA2', '6', '143815948', '143832827', '-1'],['ENSG00000001084', 'GCLC', '6', '53362139', '53481768', '-1']]\n",
    "\n",
    "cols = ['ID','Gene','Chrom','Start','End','Strand']\n",
    "dframe = pd.DataFrame(ls, columns=cols)\n",
    "\n",
    "print (dframe[['ID','Chrom','Start']])\n"
   ]
  },
  {
   "cell_type": "markdown",
   "metadata": {},
   "source": [
    "This may not be the expected result as it includes row ‘4’, which would be expected to be omitted as this is index position 4. The reason it is included is because loc treats the numbers as strings. To use the integer index loc and iloc need to be combined:"
   ]
  },
  {
   "cell_type": "code",
   "execution_count": null,
   "metadata": {},
   "outputs": [],
   "source": [
    "\n",
    "import pandas as pd\n",
    "\n",
    "ls= [['ENSG00000000457', 'SCYL', '1', '169818772', '169863408', '-1'], ['ENSG00000000460', 'C1orf112', '1', '169631245', '169823221', '1'], ['ENSG00000000971', 'CFH', '1', '196621008', '196716634', '1'], ['ENSG00000001036', 'FUCA2', '6', '143815948', '143832827', '-1'],['ENSG00000001084', 'GCLC', '6', '53362139', '53481768', '-1']]\n",
    "\n",
    "cols = ['ID','Gene','Chrom','Start','End','Strand']\n",
    "dframe = pd.DataFrame(ls, columns=cols)\n",
    "\n",
    "print (dframe.iloc[1:4].loc[:,'ID':'Gene'])\n",
    "\n",
    "print (dframe.iloc[1:4].loc[:,'ID'])\n"
   ]
  },
  {
   "cell_type": "markdown",
   "metadata": {},
   "source": [
    "### Boolean Index\n",
    "\n",
    "As with NumPy arrays boolean indexes can be used on Pandas dataframes.\n",
    "\n",
    "The boolean index is created on the appropriate column, for example to select all genes on the forward strand:\n",
    "\n",
    "<b>bool_index = dframe.Strand == 1</b>\n",
    "\n",
    "This can then be applied to the dataframe to return all rows matching the selection:\n",
    "\n",
    "<b>new_df = dframe[bool_index]</b>\n"
   ]
  },
  {
   "cell_type": "code",
   "execution_count": null,
   "metadata": {},
   "outputs": [],
   "source": [
    "\n",
    "import pandas as pd\n",
    "\n",
    "ls= [['ENSG00000000457', 'SCYL', '1', '169818772', '169863408', '-1'], ['ENSG00000000460', 'C1orf112', '1', '169631245', '169823221', '1'], ['ENSG00000000971', 'CFH', '1', '196621008', '196716634', '1'], ['ENSG00000001036', 'FUCA2', '6', '143815948', '143832827', '-1'],['ENSG00000001084', 'GCLC', '6', '53362139', '53481768', '-1']]\n",
    "\n",
    "cols = ['ID','Gene','Chrom','Start','End','Strand']\n",
    "dframe = pd.DataFrame(ls, columns=cols)\n",
    "\n",
    "dframe[['Chrom','Start','End','Strand']] = dframe[['Chrom','Start','End','Strand']].apply(pd.to_numeric)\n",
    "\n",
    "bool_index = dframe.Strand == 1\n",
    "new_dframe = dframe[bool_index]\n",
    "\n",
    "print (new_dframe)\n"
   ]
  },
  {
   "cell_type": "markdown",
   "metadata": {},
   "source": [
    "\n",
    "---\n",
    "\n",
    "## Exercise 21\n",
    "\n",
    "For this exercise you will need the gene_expressions.txt file, available from the <a href=\"http://teaching.bc.ic.ac.uk/msc/ipython-files/exercises.html\">Exercise Answers</a> page. This file contains sample rows from a RNA-seq gene expression experiment. The file contains 10 rows from the original 7000.\n",
    "\n",
    "Write a script that uses Pandas to build a dataframe of the data in this file. The script should then print the Ensembl ID, log2 fold change and p-value for all genes with a p-value less than 0.05.\n",
    "\n",
    "(Answers to all exercises are available <a href=\"http://teaching.bc.ic.ac.uk/msc/ipython-files/exercises.html\">here</a>.)\n",
    "\n",
    "---\n",
    "\n",
    "This is only a brief introduction to the functionality of NumPy and Pandas and full documentation is available at:\n",
    "\n",
    "<b>NumPy - https://docs.scipy.org/doc/numpy/user/index.html</b><br>\n",
    "<b>Pandas - https://pandas.pydata.org/</b>\n",
    "\n",
    "There also many online tutorials.\n",
    "\n",
    "---\n",
    "\n",
    "\n",
    "# Producing Plots\n",
    "\n",
    "---\n",
    "\n",
    "The python module <b>matplotlib</b> can be used to generate plots and is available in the <b>SciPy</b> package.\n",
    "\n",
    "This package should be installed but to test it and to demonstrate the functionality of matplotlib create the following script and run it: "
   ]
  },
  {
   "cell_type": "code",
   "execution_count": null,
   "metadata": {},
   "outputs": [],
   "source": [
    "\n",
    "from pylab import *\n",
    "\n",
    "x_data = [0, 1, 2,  3, 4, 5, 6]\n",
    "y_data = [0, 1, 0, -1, 0, 1, 0]\n",
    "\n",
    "plot(x_data, y_data)\n",
    "\n",
    "xlabel(\"This is the x label\")\n",
    "ylabel(\"This is the y label\")\n",
    "title(\"Here is the title\")\n",
    "\n",
    "grid(True)\n",
    "\n",
    "show()\n"
   ]
  },
  {
   "cell_type": "markdown",
   "metadata": {},
   "source": [
    "\n",
    "### Explanation of the Code\n",
    "\n",
    "<b>from pylab import *</b> - imports all of the modules from the pylab library\n",
    "\n",
    "<b>x_data = [0, 1, 2,  3, 4, 5, 6]</b>\n",
    "<b>y_data = [0, 1, 0, -1, 0, 1, 0]</b> - these are the lists for the X and Y axis coordinates\n",
    "   \n",
    "<b>plot(x_data, y_data)</b> - plots the graph using coordinates declared above\n",
    "\n",
    "<b>xlabel(\"This is the x label\")</b>\n",
    "<b>ylabel(\"This is the y label\")</b>\n",
    "<b>title(\"Here is the title\")</b> - labels for the X and Y axis and the title\n",
    "\n",
    "<b>grid(True)</b> - shows the grid on the plot\n",
    "   \n",
    "<b>show()</b> - displays the plot on the screen\n",
    "\n",
    "If you want to save the image rather than displaying it you can use the savefig command rather than show:\n",
    "\n",
    "<b>savefig('plot1.png', dpi=80)</b>\n",
    "\n",
    "---\n",
    "\n",
    "## Hydrophobicity Plot\n",
    "\n",
    "---\n",
    "\n",
    "Every amino acid has a certain hydrohobicity prevalence and this can be used to predict membrane spanning regions of proteins as these regions will have high values. We can use these values to plot the hydrophobicity of a protein along its entire length. As an example write a script for the code below and run it. This code uses the Kyte and Doolittle hydrophobicity scale, which is widely used to delineate the hydrophobic properties of proteins:\n"
   ]
  },
  {
   "cell_type": "code",
   "execution_count": null,
   "metadata": {},
   "outputs": [],
   "source": [
    "\n",
    "from pylab import *\n",
    "\n",
    "y_data = [1.8, -3.5, 4.5, -0.7, -0.4, -4.5, -1.6, -3.5, -0.9, 4.5, -0.9, 3.8, 1.8, 3.8, 0.4, -0.7, 1.8, 3.8, 1.9, -0.4]\n",
    "\n",
    "x_data = range(1, len(y_data)+1)\n",
    "\n",
    "plot(x_data, y_data)\n",
    "\n",
    "xlabel(\"Residue number\")\n",
    "ylabel(\"Hydrophobicity\")\n",
    "title(\"Kyte & Doolittle Hydrophobicity\")\n",
    "show()\n"
   ]
  },
  {
   "cell_type": "markdown",
   "metadata": {
    "collapsed": true
   },
   "source": [
    "\n",
    "The code is essentially the same as before except for setting the X axis value:\n",
    "\n",
    "<b>&nbsp;&nbsp;&nbsp;&nbsp;&nbsp;&nbsp;x_data = range(1, len(y_data)+1)</b>\n",
    "\n",
    "This is for the number of amino acid residues so is equal to the number of values plotted for the Y axis.\n",
    "\n",
    "Normally a range starts at 0 but protein amino acids coordinates start at 1 so the range is adjusted accordingly so the first point on the plot is at residue 1.\n",
    "\n",
    "The adjustment to the range means that there is a gap at the start of the plot between residue 0 and 1. this can be corrected by modifying the axis, in this case the X axis. Add the following code to your script, after <b>plot(x_data, y_data)</b>, and run it again:\n",
    "\n",
    "<b>&nbsp;&nbsp;&nbsp;&nbsp;&nbsp;&nbsp;residue_count = len(y_data)\n",
    "&nbsp;&nbsp;&nbsp;&nbsp;&nbsp;&nbsp;axis(xmin = 1, xmax = residue_count)</b> - adjusts the X axis to start at 1\n",
    "\n",
    "\n",
    "The gap should now be removed.\n",
    "\n",
    "The Y axis be adjusted using the same axis command.\n",
    "\n",
    "---\n",
    "\n",
    "## Exercise 22\n",
    "\n",
    "a) The exercise is to produce a plot for a real protein using Kyte and Doolittle values. For this task you will need the following files:\n",
    "\n",
    "5HT1A_HUMAN.fasta - This is the human 5-hydroxytryptamine receptor 1A protein sequence that you will use for the plot.\n",
    "\n",
    "hydrophobicity_values.txt - This is a file of the Kyte and Doolittle values for all amino acids. The file has the amino acid on one line and the hydrophobicity value on the next:\n",
    "\n",
    "<b>&nbsp;&nbsp;&nbsp;&nbsp;&nbsp;&nbsp;A<br>\n",
    "&nbsp;&nbsp;&nbsp;&nbsp;&nbsp;&nbsp;1.8<br>\n",
    "&nbsp;&nbsp;&nbsp;&nbsp;&nbsp;&nbsp;R<br>\n",
    "&nbsp;&nbsp;&nbsp;&nbsp;&nbsp;&nbsp;-4.5<br>\n",
    "&nbsp;&nbsp;&nbsp;&nbsp;&nbsp;&nbsp;etc</b><br><br>\n",
    "\n",
    "These can be downloaded from the <a href=\"http://teaching.bc.ic.ac.uk/msc/ipython-files/exercises.html\">Exercise Answers</a> page.\n",
    "\n",
    "Write a script with the following functionality:\n",
    "\n",
    "1) Reads the 5HT1A_HUMAN.fasta file and stores the amino acid sequence and description in separate variables. The file is in fasta format so the first line is just the sequence description, starting with a \">\", and the subsequent lines are the actual sequence. You'll need the description for the plot label so you can use any part of the description line for this.\n",
    "\n",
    "Note that the sequence itself is over multiple lines.\n",
    "\n",
    "2) Reads the hydrophobicity_values.txt file and stores the values in a dictionary. The keys for the dictionary should be the amino acids and the values the hydrophobicity values.\n",
    "\n",
    "3) Test the dictionary by printing to screen the Kyte and Doolitle hydrophbicity values for each amino acid in the 5HT1A_HUMAN sequence, separated by commas. The output should look like this:\n",
    "\n",
    "1.9, -3.5, 4.2, 3.8, -0.8, -1.6, -0.4, -3.5, -0.4, -3.5, -3.5, -0.7, -0.7, -0.8, -1.6, -1.6, 1.8, -1.6, 2.8, -3.5, -0.7, -0.4, -0.4, -3.5, -0.7, -0.7, -0.4, 4.5  , -0.8, -3.5, 4.2, -0.7, 4.2, -0.8, -1.3, -3.5, 4.2, 4.5, -0.7, -0.8, 3.8, 3.8, 3.8, -0.4, -0.7, 3.8, 4.5, 2.8, 2.5, 1.8, 4.2, 3.8, -0.4, -3.5, 1.8, 1.8, 3.8, -1.3, -3.5, 4.2, 3.8, -3.5, -3.9, -0.9, -0.7, 3.8, -0.4, -3.5, 4.2, -0.7, 2.5, -3.5, etc ...\n",
    "\n",
    "Modify the script using the earlier code to draw the hydrophobicity plot for the 5HT1A_HUMAN sequence.\n",
    "\n",
    "The output should look like this:\n",
    "\n",
    "![title](img/plot3.jpg)\n",
    "\n",
    "The plot produced is difficult to interpret as it’s very noisy. The reason for this is that each residue has a hydrophobicity value but for hydrophobic regions, such as trans-membrane, several hydrophobic residues in a row are more significant.\n",
    "\n",
    "To better predict these regions it is better to take an average for a residues and its neighbours. To start, try averaging the residue and its 2 neighbours, left and right. As the first and last residues don’t have neighbours they’ll be ignored.\n",
    "\n",
    "b) Modify your code to plot the average hydrophobicity values for 3 amino acids at a time. When calculating the average you may have to ensure all of the variables are numbers and not strings. You can do that with:\n",
    "\n",
    "<b>&nbsp;&nbsp;&nbsp;&nbsp;&nbsp;&nbsp;average = float(var1) + float(var2) + float(var3) / 3</b><br><br>\n",
    "   \n",
    "\n",
    "The resulting plot should look like this:\n",
    "\n",
    "![title](img/plot4.jpg)\n",
    "\n",
    "This is called <b>data smoothing</b> as it filters out the noise to better display the underlying pattern.\n",
    "\n",
    "The code currently averages over 3 residues but when trying to identify transmembrane regions a window size of 15 is more suitable.\n",
    "\n",
    "c) Update your code to implement this value, which will require the average value of each residue and its 7 neighbours either side.\n",
    "\n",
    "It would be inefficient to create different variables for all 15 residue values, such as left1, left 2, etc, so calculate the average for each 15 residue group by using a loop.\n",
    "\n",
    "(Answers to all exercises are available <a href=\"http://teaching.bc.ic.ac.uk/msc/ipython-files/exercises.html\">here</a>.)\n",
    "\n",
    "\n",
    "---\n",
    "\n",
    "## ProtScale\n",
    "\n",
    "---\n",
    "\n",
    "Plots can be generated online and you can check your plot by generating one with <b>ProtScale</b> at the <b>ExPASy</b> website:\n",
    "\n",
    "    http://web.expasy.org/protscale\n",
    "\n",
    "Enter the UniProt/SwissProt ID \"5HT1A_HUMAN\". This is the human 5-hydroxytryptamine 1A receptor.\n",
    "\n",
    "Use window size 15, which is appropriate when searching for transmembrane regions and is the value used in your code, and press \"Submit\".\n",
    "\n",
    "On the next screen (Selection of endpoints on the sequence) press \"Submit\" again as you will be searching the whole sequence. \n",
    "\n",
    "On the final results screen you will see a number of broad peaks with values above 1.5, corresponding to the transmembrane regions.\n",
    "\n",
    "Does the plot look the same as yours?\n",
    "\n",
    "---\n",
    "\n",
    "## GC/AT Content Plot\n",
    "\n",
    "---\n",
    "\n",
    "## Exercise 23\n",
    "\n",
    "For this exercise you will need the Entamoeba_Sequence.fasta file, which can be downloaded from the <a href=\"http://teaching.bc.ic.ac.uk/msc/ipython-files/exercises.html\">Exercise Answers</a> page.\n",
    "\n",
    "The <i>Entamoeba histolytica</i> genome is very AT rich, which can be demonstrated by plotting the GC and AT percentages.\n",
    "\n",
    "The file <b>Entamoeba_Sequence.fasta</b> contains the sequence of one of the contigs of the sequenced E histolytica genome.\n",
    "\n",
    "Write a script that uses matplotlib to plot graphs of the GC and AT percentage content of the sequence. \n",
    "\n",
    "To identify the percentage content you should use a 100 nucleotide rolling window and your plots should display the percentage GC and AT for each 100 nucleotides.  The rolling window should measure each consecutive 100 nucleotides i.e 1-100, 101-200, 201-300 etc\n",
    "\n",
    "You may find it helpful to look at the matplotlib (http://matplotlib.org) web site, in particular http://matplotlib.org/users/pyplot_tutorial.html\n",
    "\n",
    "(Answers to all exercises are available <a href=\"http://teaching.bc.ic.ac.uk/msc/ipython-files/exercises.html\">here</a>.)\n",
    "\n",
    "---\n",
    "\n",
    "<b>Note: If you have installed Anaconda then NumPy, Pandas and Matplotiib are included.</b>\n",
    "\n",
    "---"
   ]
  },
  {
   "cell_type": "code",
   "execution_count": null,
   "metadata": {},
   "outputs": [],
   "source": []
  }
 ],
 "metadata": {
  "anaconda-cloud": {},
  "kernelspec": {
   "display_name": "Python 3",
   "language": "python",
   "name": "python3"
  },
  "language_info": {
   "codemirror_mode": {
    "name": "ipython",
    "version": 3
   },
   "file_extension": ".py",
   "mimetype": "text/x-python",
   "name": "python",
   "nbconvert_exporter": "python",
   "pygments_lexer": "ipython3",
   "version": "3.6.5"
  }
 },
 "nbformat": 4,
 "nbformat_minor": 1
}
